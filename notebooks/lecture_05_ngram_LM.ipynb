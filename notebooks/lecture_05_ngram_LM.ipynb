{
 "cells": [
  {
   "cell_type": "code",
   "execution_count": 1,
   "metadata": {},
   "outputs": [],
   "source": [
    "from nltk.corpus import reuters, brown  # nltk corpus\n",
    "from nltk import bigrams, trigrams\n",
    "from collections import Counter, defaultdict\n",
    "import random"
   ]
  },
  {
   "cell_type": "code",
   "execution_count": 2,
   "metadata": {},
   "outputs": [],
   "source": [
    "corpus = reuters"
   ]
  },
  {
   "cell_type": "code",
   "execution_count": 3,
   "metadata": {},
   "outputs": [
    {
     "name": "stdout",
     "output_type": "stream",
     "text": [
      "['They', 'told', 'Reuter', 'correspondents', 'in', 'Asian', 'capitals', 'a', 'U', '.', 'S', '.', 'Move', 'against', 'Japan', 'might', 'boost', 'protectionist', 'sentiment', 'in', 'the', 'U', '.', 'S', '.', 'And', 'lead', 'to', 'curbs', 'on', 'American', 'imports', 'of', 'their', 'products', '.']\n"
     ]
    }
   ],
   "source": [
    "first_sentence = corpus.sents()[1]\n",
    "print(first_sentence)"
   ]
  },
  {
   "cell_type": "code",
   "execution_count": 4,
   "metadata": {},
   "outputs": [
    {
     "name": "stdout",
     "output_type": "stream",
     "text": [
      "('They', 'told', 'Reuter')\n",
      "('told', 'Reuter', 'correspondents')\n",
      "('Reuter', 'correspondents', 'in')\n",
      "('correspondents', 'in', 'Asian')\n",
      "('in', 'Asian', 'capitals')\n",
      "('Asian', 'capitals', 'a')\n",
      "('capitals', 'a', 'U')\n",
      "('a', 'U', '.')\n",
      "('U', '.', 'S')\n",
      "('.', 'S', '.')\n",
      "('S', '.', 'Move')\n",
      "('.', 'Move', 'against')\n",
      "('Move', 'against', 'Japan')\n",
      "('against', 'Japan', 'might')\n",
      "('Japan', 'might', 'boost')\n",
      "('might', 'boost', 'protectionist')\n",
      "('boost', 'protectionist', 'sentiment')\n",
      "('protectionist', 'sentiment', 'in')\n",
      "('sentiment', 'in', 'the')\n",
      "('in', 'the', 'U')\n",
      "('the', 'U', '.')\n",
      "('U', '.', 'S')\n",
      "('.', 'S', '.')\n",
      "('S', '.', 'And')\n",
      "('.', 'And', 'lead')\n",
      "('And', 'lead', 'to')\n",
      "('lead', 'to', 'curbs')\n",
      "('to', 'curbs', 'on')\n",
      "('curbs', 'on', 'American')\n",
      "('on', 'American', 'imports')\n",
      "('American', 'imports', 'of')\n",
      "('imports', 'of', 'their')\n",
      "('of', 'their', 'products')\n",
      "('their', 'products', '.')\n"
     ]
    }
   ],
   "source": [
    "# Get the bigrams\n",
    "#print(list(trigrams(first_sentence)))\n",
    "# P(Reuter|'They', 'told')\n",
    "tri = list(trigrams(first_sentence))\n",
    "for t in tri:\n",
    "    print(t)"
   ]
  },
  {
   "cell_type": "markdown",
   "metadata": {},
   "source": [
    "### build a trigram model"
   ]
  },
  {
   "cell_type": "code",
   "execution_count": 25,
   "metadata": {},
   "outputs": [],
   "source": [
    "# creat all \n",
    "model = defaultdict(lambda: defaultdict(lambda: 0))\n",
    "for sentence in corpus.sents():\n",
    "    for w1, w2, w3 in trigrams(sentence, pad_right=True, pad_left=True):\n",
    "        model[(w1, w2)][w3] += 1\n",
    " "
   ]
  },
  {
   "cell_type": "code",
   "execution_count": null,
   "metadata": {},
   "outputs": [],
   "source": []
  },
  {
   "cell_type": "code",
   "execution_count": 6,
   "metadata": {},
   "outputs": [
    {
     "name": "stdout",
     "output_type": "stream",
     "text": [
      "2\n",
      "0\n",
      "8839\n"
     ]
    }
   ],
   "source": [
    "# count of the bigrams preceded by price\n",
    "print(model[\"today\", \"the\"][\"price\"])\n",
    "print(model[\"today\", \"the\"][\"nonexistingword\"])\n",
    "print(model[None, None][\"The\"])"
   ]
  },
  {
   "cell_type": "code",
   "execution_count": 7,
   "metadata": {},
   "outputs": [],
   "source": [
    "# Let's transform the counts to probabilities\n",
    "for w1_w2 in model:\n",
    "    total_count = float(sum(model[w1_w2].values()))\n",
    "    for w3 in model[w1_w2]:\n",
    "        model[w1_w2][w3] /= total_count"
   ]
  },
  {
   "cell_type": "code",
   "execution_count": null,
   "metadata": {},
   "outputs": [],
   "source": [
    "count(\"today, the, price\")/count(\"today, the\")\n",
    "count(\", , the\")/count(\"none, the\")"
   ]
  },
  {
   "cell_type": "code",
   "execution_count": 8,
   "metadata": {},
   "outputs": [
    {
     "name": "stdout",
     "output_type": "stream",
     "text": [
      "0.1111111111111111\n",
      "0.0\n",
      "0.16154324146501936\n"
     ]
    }
   ],
   "source": [
    "print(model[\"today\", \"the\"][\"price\"])\n",
    "print(model[\"today\", \"the\"][\"nonexistingword\"])\n",
    "print(model[None, None][\"The\"])"
   ]
  },
  {
   "cell_type": "code",
   "execution_count": 9,
   "metadata": {},
   "outputs": [],
   "source": [
    "#model[None, None]"
   ]
  },
  {
   "cell_type": "markdown",
   "metadata": {},
   "source": [
    "Now we have a trigram language model. Let’s generate some text"
   ]
  },
  {
   "cell_type": "code",
   "execution_count": 26,
   "metadata": {},
   "outputs": [
    {
     "name": "stdout",
     "output_type": "stream",
     "text": [
      "['today', 'the']: public, 1.0, 0.20930511500183357\n",
      "['today', 'the', 'public']: is, 2.0, 0.7078661357447746\n",
      "['today', 'the', 'public', 'is']: at, 1.0, 0.4424139616005712\n",
      "['today', 'the', 'public', 'is', 'at']: constant, 1.0, 0.05746166725632773\n",
      "['today', 'the', 'public', 'is', 'at', 'constant']: risk, 1.0, 0.9418798371000375\n",
      "['today', 'the', 'public', 'is', 'at', 'constant', 'risk']: to, 1.0, 0.26395676081195896\n",
      "['today', 'the', 'public', 'is', 'at', 'constant', 'risk', 'to']: contaminated, 1.0, 0.34231324650002626\n",
      "['today', 'the', 'public', 'is', 'at', 'constant', 'risk', 'to', 'contaminated']: and, 1.0, 0.5518143734202334\n",
      "['today', 'the', 'public', 'is', 'at', 'constant', 'risk', 'to', 'contaminated', 'and']: adulterated, 1.0, 0.9446158266070822\n",
      "['today', 'the', 'public', 'is', 'at', 'constant', 'risk', 'to', 'contaminated', 'and', 'adulterated']: meat, 1.0, 0.18769595400135797\n",
      "['today', 'the', 'public', 'is', 'at', 'constant', 'risk', 'to', 'contaminated', 'and', 'adulterated', 'meat']: ,\", 1.0, 0.9829487313629061\n",
      "['today', 'the', 'public', 'is', 'at', 'constant', 'risk', 'to', 'contaminated', 'and', 'adulterated', 'meat', ',\"']: Kenneth, 1.0, 0.7455619736974481\n",
      "['today', 'the', 'public', 'is', 'at', 'constant', 'risk', 'to', 'contaminated', 'and', 'adulterated', 'meat', ',\"', 'Kenneth']: Blaylock, 1.0, 0.7222794139847662\n",
      "['today', 'the', 'public', 'is', 'at', 'constant', 'risk', 'to', 'contaminated', 'and', 'adulterated', 'meat', ',\"', 'Kenneth', 'Blaylock']: ,, 2.0, 0.9306119711173338\n",
      "['today', 'the', 'public', 'is', 'at', 'constant', 'risk', 'to', 'contaminated', 'and', 'adulterated', 'meat', ',\"', 'Kenneth', 'Blaylock', ',']: president, 1.0, 0.7598434688503903\n",
      "['today', 'the', 'public', 'is', 'at', 'constant', 'risk', 'to', 'contaminated', 'and', 'adulterated', 'meat', ',\"', 'Kenneth', 'Blaylock', ',', 'president']: and, 26.0, 0.19401345288575866\n",
      "['today', 'the', 'public', 'is', 'at', 'constant', 'risk', 'to', 'contaminated', 'and', 'adulterated', 'meat', ',\"', 'Kenneth', 'Blaylock', ',', 'president', 'and']: chief, 56.0, 0.25306014233591423\n",
      "['today', 'the', 'public', 'is', 'at', 'constant', 'risk', 'to', 'contaminated', 'and', 'adulterated', 'meat', ',\"', 'Kenneth', 'Blaylock', ',', 'president', 'and', 'chief']: executive, 93.0, 0.3170854771336167\n",
      "['today', 'the', 'public', 'is', 'at', 'constant', 'risk', 'to', 'contaminated', 'and', 'adulterated', 'meat', ',\"', 'Kenneth', 'Blaylock', ',', 'president', 'and', 'chief', 'executive']: ., 1.0, 0.24082934217371932\n",
      "['today', 'the', 'public', 'is', 'at', 'constant', 'risk', 'to', 'contaminated', 'and', 'adulterated', 'meat', ',\"', 'Kenneth', 'Blaylock', ',', 'president', 'and', 'chief', 'executive', '.']: None, 3.0, 0.6025701395097661\n",
      "['today', 'the', 'public', 'is', 'at', 'constant', 'risk', 'to', 'contaminated', 'and', 'adulterated', 'meat', ',\"', 'Kenneth', 'Blaylock', ',', 'president', 'and', 'chief', 'executive', '.', None]: None, 48803.0, 0.1464223676023848\n"
     ]
    }
   ],
   "source": [
    "text = [\"today\", \"the\"] # store the sentence\n",
    "sentence_finished = False\n",
    " \n",
    "while not sentence_finished:\n",
    "    r = random.random()\n",
    "    accumulator = .0\n",
    "\n",
    "    for word in model[tuple(text[-2:])].keys():\n",
    "        accumulator += model[tuple(text[-2:])][word]\n",
    "        print(\"{}: {}, {}, {}\".format(text, word, accumulator, r))\n",
    "\n",
    "        if accumulator >= r:\n",
    "            text.append(word)\n",
    "            break\n",
    " \n",
    "    # verify if sentence is completed\n",
    "    if text[-2:] == [None, None]:\n",
    "        sentence_finished = True\n"
   ]
  },
  {
   "cell_type": "code",
   "execution_count": 13,
   "metadata": {},
   "outputs": [
    {
     "name": "stdout",
     "output_type": "stream",
     "text": [
      "today the overseas units and Peters , who said that even if the government that replaced Duvalier last year ' s report on the Soviet Union and China , two 25 , 1985 New York Cotton Exchange .\n"
     ]
    }
   ],
   "source": [
    "print(' '.join([t for t in text if t]))"
   ]
  },
  {
   "cell_type": "markdown",
   "metadata": {},
   "source": [
    "## loading data"
   ]
  },
  {
   "cell_type": "code",
   "execution_count": 14,
   "metadata": {},
   "outputs": [],
   "source": [
    "from nltk.util import pad_sequence\n",
    "from nltk.util import bigrams\n",
    "from nltk.util import ngrams\n",
    "from nltk.util import everygrams\n",
    "from nltk.lm.preprocessing import pad_both_ends\n",
    "from nltk.lm.preprocessing import flatten\n",
    "from nltk.lm.preprocessing import padded_everygram_pipeline\n",
    "from nltk.lm import MLE\n",
    "from nltk import word_tokenize, sent_tokenize\n",
    "import re\n",
    "from nltk.tokenize import ToktokTokenizer\n",
    "import os\n",
    "import requests\n",
    "import io "
   ]
  },
  {
   "cell_type": "code",
   "execution_count": 15,
   "metadata": {},
   "outputs": [
    {
     "data": {
      "text/plain": [
       "['This', 'is', 'a', 'foobar', 'sentence', '.']"
      ]
     },
     "execution_count": 15,
     "metadata": {},
     "output_type": "execute_result"
    }
   ],
   "source": [
    "word_tokenize(sent_tokenize(\"This is a foobar sentence. Yes it is.\")[0])"
   ]
  },
  {
   "cell_type": "code",
   "execution_count": 27,
   "metadata": {},
   "outputs": [],
   "source": [
    "if os.path.isfile('data/lm_text.txt'):\n",
    "    with io.open('data/lm_text.txt', encoding='utf8') as fin:\n",
    "        text = fin.read()"
   ]
  },
  {
   "cell_type": "code",
   "execution_count": 52,
   "metadata": {},
   "outputs": [
    {
     "name": "stdout",
     "output_type": "stream",
     "text": [
      "                       Language is never, ever, ever, random\n",
      "\n",
      "                                                               ADAM KILGARRIFF\n",
      "\n",
      "\n",
      "\n",
      "\n",
      "Abstract\n",
      "Language users never choose words randomly, and language is essentially\n",
      "non-random. Statistical hypothesis testing uses a null hypothesis, which\n",
      "posits randomness. Hence, when we look at linguistic phenomena in cor-\n",
      "pora, the null hypothesis will never be true. Moreover, where there is enough\n",
      "data, we shall (almost) always be able to establish that it is not true. In\n",
      "corpus studies, we frequently do have enough data, so the fact that a rela-\n",
      "tion between two phenomena is demonstrably non-random, does not sup-\n",
      "port the inference that it is not arbitrary. We present experimental evidence\n",
      "of how arbitrary associations between word frequencies and corpora are\n",
      "systematically non-random. We review literature in which hypothesis test-\n",
      "ing has been used, and show how it has often led to unhelpful or mislead-\n",
      "ing results.\n",
      "Keywords: 쎲쎲쎲\n",
      "\n",
      "1. Introduction\n",
      "Any two phenomena might or might not be related. The range of pos-\n",
      "sibilities is that the association is Random, Arbitrary, Motivated or Pre-\n",
      "dictable (R, A, M, P). The bulk of linguistic questions concern the dis-\n",
      "tinction between A and M. A linguistic account of a phenomenon gen-\n",
      "erally gives us reason to view the relation between, for example, a verb’s\n",
      "syntax and its semantics, as motivated rather than arbitrary. However,\n",
      "it is not in general possible to model the A-M distinction mathematically.\n",
      "The distinction that can be modeled mathematically is between R and\n",
      "not-R, that is, between random, or uncorrelated, pairs and pairs where\n",
      "there is some correlation, be it arbitrary, motivated or predictable.1 The\n",
      "mechanism here is hypothesis-testing. A null hypothesis, H0 is con-\n",
      "structed to model the situation in which there is no correlation between\n",
      "\n",
      "Corpus Linguistics and Linguistic Theory 1⫺2 (2005), 263⫺275     1613-7027/05/0001⫺0263\n",
      "                                                                     쑕 Walter de Gruyter\n",
      "\f264    A. Kilgarriff\n",
      "\n",
      "the two phenomena. As the mathematics of the random is well under-\n",
      "stood, we can compute the likelihood of the null hypothesis given the\n",
      "data. If the likelihood is low, we reject H0.\n",
      "   The problem for empirical linguistics is that language is not random,\n",
      "so the null hypothesis is never true. Language is not random because we\n",
      "speak or write with purposes. We do not, indeed, without computational\n",
      "help are not capable of, producing words or sounds or sentences or\n",
      "documents randomly. We do not always have enough data to reject the\n",
      "null hypothesis, but that is a distinct issue: wherever there is enough\n",
      "data, it is rejected. Using language corpora, we are frequently in the\n",
      "fortunate position of having very large quantities of data at our disposal.\n",
      "Then, even where pairs of corpora are set up to be linguistically identical,\n",
      "the null hypothesis is resoundingly defeated. In section 4, we present an\n",
      "experiment demonstrating this counterintuitive effect.\n",
      "   There are a number of papers in the empirical linguistics literature\n",
      "where researchers seemed to be testing whether an association was lin-\n",
      "guistically salient, or used the confidence with which H0 could be re-\n",
      "jected as a measure of salience, whereas in fact they were merely testing\n",
      "whether they had enough data to reject H0 with confidence. Some such\n",
      "cases are reviewed in section 5. Hypothesis testing has been widely used\n",
      "in the acquisition of subcategorization frames from corpora and this\n",
      "literature is considered in some detail. Alternatives to inappropriate hy-\n",
      "pothesis-testing are presented.\n",
      "   Before proceeding, may I clarify that this paper is in no way critical\n",
      "of using probability models, all of which are based on assumptions of\n",
      "randomness, in empirical linguistics in general. Probability models have\n",
      "been responsible for a large share of progress in the field in the last\n",
      "decade and a half. The randomness assumptions are always untrue, but\n",
      "that does not preclude them from frequently being useful. Making false\n",
      "assumptions is often an ingenious way to proceed; the problem arises\n",
      "where the literal falsity of the assumption is overlooked, and inappropri-\n",
      "ate inferences are drawn.\n",
      "\n",
      "2. The arbitrary and the random\n",
      "In common parlance, random and arbitrary are synonyms, with diction-\n",
      "aries giving near-identical definitions: LDOCE (1995) defines random as\n",
      "  happening or chosen without any definite plan, or pattern\n",
      "and arbitrary as\n",
      "  1 decided or arranged without any reason or plan, often unfairly … 2\n",
      "  happening or decided by chance rather than a plan\n",
      "\f                              Language is never, ever, ever, random     265\n",
      "\n",
      "   Superficially, randomness, as defined here, is what the technical sense\n",
      "of random captures and makes explicit. The technical sense is defined in\n",
      "terms of statistical independence. First, we formalize the framework:\n",
      "\n",
      "  For a population of events, the first phenomenon holds where x is\n",
      "  true of the event, the second holds where y is true of the event.\n",
      "\n",
      "   Now, the relation between the phenomena is random iff the prob-\n",
      "ability of x, for that subset of events where y does hold, is identical to\n",
      "its probability for the subset where y does not hold, that is\n",
      "\n",
      "  P (x|y) ⫽ P (x|ÿ y)\n",
      "\n",
      "   The relation is symmetric: P (x|y) ⫽ P (x|ÿ y) entails P (y|x) ⫽\n",
      "P (y|ÿ x). Hereafter I use ‘random’ for the technical meaning and ‘arbi-\n",
      "trary’ for the non-technical one.\n",
      "   Arbitrary events are very rarely random, and random events are very\n",
      "rarely arbitrary. It takes considerable ingenuity and sophisticated mathe-\n",
      "matics to produce a pseudo-random sequence algorithmically, and true\n",
      "randomness is not possible at all. Events happening “without any defi-\n",
      "nite plan, aim or pattern” are, by definition, arbitrary, but are vanish-\n",
      "ingly unlikely to be random. Outside the sub-atomic realm, natural\n",
      "events are very rarely random.\n",
      "   Consider, for example, cat food purchases and shoe-polish purchases\n",
      "within the space of all UK supermarket-shopping events: does the fact\n",
      "that cat food was bought predict (positively or negatively) whether shoe\n",
      "polish was bought in the same shopping trip? There is no obvious reason\n",
      "why it should, and we can happily declare the relation arbitrary. But\n",
      "perhaps either cat food or shoe-polish are more (or less) often bought in\n",
      "hot (or cold) weather, or on Saturday nights, or Sunday mornings, or\n",
      "Monday lunchtimes, or by richer (or poorer) people, or by men (or\n",
      "women), or by people in (or out of) towns… There is an unlimited\n",
      "number of hypotheses connecting the two (positively or negatively); if\n",
      "just one of these has any validity, however weak, then the null hypothesis\n",
      "is false.\n",
      "   At this point, you may question why the null hypothesis is ever a\n",
      "useful construct.\n",
      "   For a wide range of tasks, although H0 is false, there is only enough\n",
      "evidence to establish the fact if there is a strong relation between the two\n",
      "phenomena. Thus, given evidence from 1,000 shopping trips, it is un-\n",
      "likely we shall be able to reject H0 concerning cat food and shoe-polish,\n",
      "whereas we shall be able to reject it concerning strawberry-buying and\n",
      "cream-buying. Given further evidence, perhaps from 1,000,000 shopping\n",
      "\f266    A. Kilgarriff\n",
      "\n",
      "trips, we shall also be able to reject the null hypothesis regarding nappy2-\n",
      "buying and beer-sixpack-buying. (The correlation, the most newsworthy\n",
      "product of large-scale data mining by supermarkets, was widely reported\n",
      "in the British media.) But still not for catf ood and shoe-polish. But,\n",
      "given 1,000,000,000 events, we shall in all likelihood also be able to reject\n",
      "it for cat food and shoe-polish.\n",
      "   Whether or not we can reject the null hypothesis (with eg. 95 % confi-\n",
      "dence) is a function of sample size and level of correlation. Where sample\n",
      "size is held constant (and is not enormous), whether or not we can reject\n",
      "H0 can be seen as a way of providing statistical support for distinguish-\n",
      "ing the arbitrary and the motivated. This is a role that hypothesis testing\n",
      "plays across the social sciences. However where the sample size varies\n",
      "by an order of magnitude, or where it is enormous, it is wrong to identify\n",
      "the accept-H0/reject-H0 distinction with the arbitrary/motivated one.\n",
      "   The uneasy relationship between hypothesis-testing, and quantity of\n",
      "data, is familiar to statisticians though frequently overlooked or mis-\n",
      "understood by users of statistics (Carver 1993, Stubbs 1995, Brandstätter\n",
      "1999). One statistics textbook warns thus:\n",
      "  None of the null hypotheses we have considered with respect to good-\n",
      "  ness of fit can be exactly true, so if we increase the sample size (and\n",
      "  hence the value of χ2) we would ultimately reach the point when all\n",
      "  null hypotheses would be rejected. All that the χ2 test can tell us, then,\n",
      "  is that the sample size is too small to reject the null hypothesis! (Owen\n",
      "  and Jones, 1977, p 359).\n",
      "The issue is particularly salient for empirical linguistics because, firstly,\n",
      "we have access to extremely large sample sizes, and secondly, the distri-\n",
      "bution of many language phenomena is Zipfian. The has 6,000,000 oc-\n",
      "currences in the BNC whereas cat food (spelled as one word or two) has\n",
      "66. For a vast number of third phenomena X, the null hypothesis that\n",
      "the and X are uncorrelated will be rejected, whereas the null hypothesis\n",
      "that cat food and X are uncorrelated will not. It would be wrong to draw\n",
      "inferences about what was arbitrary, what motivated.\n",
      "\n",
      "3. Objections to Maximum Likelihood Estimates (MLEs)\n",
      "Church and Hanks (1990) inaugurated the research area of lexical statis-\n",
      "tics with their presentation of Mutual Information (I), a measure of how\n",
      "closely associated two phenomena are. It can be applied to finding words\n",
      "which occur together to a noteworthy degree, or to finding words which\n",
      "are particularly associated with one corpus as against another, or for\n",
      "various other purposes.3 They define the mutual information between\n",
      "two words x and y as\n",
      "\f                                  Language is never, ever, ever, random   267\n",
      "\n",
      "  I (x; y) ⫽ log 2   冉    p (xandy)\n",
      "                         p (x) · p(y)\n",
      "                                        冊\n",
      "and then estimate probabilities directly from frequencies, that is using\n",
      "the ‘Maximum Likelihood Estimate’ (MLE) of f (x)/N for p (x), f (y)/N\n",
      "for p (y), f (x-and-y)/N for p (x-and-y), thereby giving\n",
      "\n",
      "\n",
      "  I (x; y) ⫽ log 2   冉   N · f (x ⫺ and ⫺ y)\n",
      "                              f (x) · f (y)\n",
      "                                               冊\n",
      "   Dunning (1993) presents a critique of the use of Mutual Information\n",
      "in empirical linguistics. His objection has been confused with the critique\n",
      "of hypothesis-testing I make here so I mention his work in order to\n",
      "clarify that the two objections, while both valid, are different in nature\n",
      "and independent.\n",
      "   Dunning demonstrates how MLEs fare poorly when estimating the\n",
      "probabilities of rare events. The problem is essentially this: if a word (or\n",
      "bigram, or trigram, or character-sequence etc.) occurs just once or twice\n",
      "in a corpus of N words (bigrams, etc.), then the simplest way to estimate\n",
      "the probability is the NILE, which gives 1/N or 2/N. However this does\n",
      "not factor in the arbitrariness of the word occurring at all in the corpus:\n",
      "in a corpus ten times the size, there would be roughly ten times the\n",
      "number of singletons and doubletons in the corpus, most of which would\n",
      "not have occurred at all in the original corpus. Thus some of the prob-\n",
      "ability mass contributing to the 1/N or 2/N MLEs should have been put\n",
      "aside for the words (bigrams etc.) which did not occur at all in this\n",
      "particular corpus. Viewed another way, the 1/N and 2/N should be dis-\n",
      "counted to allow for the fact that one or two occurrences are very low\n",
      "bases of evidence on which to assert probabilities.\n",
      "   There are various ways in which the discounting can be done, for\n",
      "example the Good-Turing method (Good 1953), usefully applied to em-\n",
      "pirical linguistics in Gale and Sampson (1995), Bod (1995). Dunning\n",
      "presents and advocates the use of the log-likelihood statistic, which, like\n",
      "the χ2 statistic, is χ2-distributed,4 but more accurately estimates probabil-\n",
      "ities where counts are low. The log-likelihood statistic still only estimates\n",
      "probabilities: since Dunning’s work, Pedersen (1996) has shown how\n",
      "Fisher’s Exact Method can be applied to the problem, to identify the\n",
      "exact probability of a word (bigram etc.) rather than estimating it at all.\n",
      "   Thus Dunning’s objection to Mutual Information is that it fails to\n",
      "accurately represent probabilities when counts are low (where ‘low’ is\n",
      "generally taken as less than five). If the probabilities can be accurately\n",
      "represented, Dunning’s anxieties will be set at ease.\n",
      "\f268    A. Kilgarriff\n",
      "\n",
      "   The critique in this paper does not concern whether probabilities are\n",
      "accurately calculated. Rather, the objection is that the probability model,\n",
      "with its assumptions of randomness, is inappropriate, particularly where\n",
      "counts are high (eg, thousands or more).\n",
      "   Where the task is to determine whether there is an interesting associa-\n",
      "tion between two rare events, Dunning’s concern must be heeded. Where\n",
      "it is to determine whether there is an interesting association between\n",
      "high-frequency events, the concerns of this paper must be.\n",
      "\n",
      "\n",
      "4. Experiment\n",
      "Given enough data, H0 is almost always rejected however arbitrary the\n",
      "data, as the author discovered when grappling with the following data.\n",
      "   Two corpora were set up to be indisputably of the same language type,\n",
      "with only arbitrary differences between them: each was a random subset\n",
      "of the written part of the British National Corpus (BNC). The sampling\n",
      "was as follows: all texts shorter than 20,000 words were excluded. This\n",
      "left 820 texts. Half the texts were then randomly assigned to each of\n",
      "two corpora.\n",
      "   The null hypotheses were (1) that the two subcorpora, viewed as col-\n",
      "lections of words rather than documents, were random samples drawn\n",
      "from the same population; and consequently, (2) that the deviation in\n",
      "frequency of occurrence for each individual word between the two sub-\n",
      "corpora was explicable as random fluctuation. The HO were tested using\n",
      "the χ2-test: is χ2\n",
      "\n",
      "  Σ(|O ⫺ E | ⫺ 0.5) 2 /E\n",
      "\n",
      "greater than the critical value? The sum is over the four cells of the\n",
      "contingency table\n",
      "\n",
      "                Corpus 1    Corpus 2\n",
      "\n",
      "word w          a           b\n",
      "not word w      c           d\n",
      "\n",
      "\n",
      "  If we randomly assign words (as opposed to documents) to the one\n",
      "corpus or the other, then we have a straightforward random distribution,\n",
      "with the value of the χ2-statistic equal to or greater than the 99.5 %\n",
      "confidence threshold of 7.88 for just 0.5 % of words. The average value\n",
      "of the error term,\n",
      "\f                                Language is never, ever, ever, random          269\n",
      "\n",
      "  (|O ⫺ E| ⫺ 0.5) 2 /E\n",
      "\n",
      "is then 0.5.5 The hypothesis can, therefore, be couched as: are the error\n",
      "terms systematically greater than 0.5? If they are, we should be wary of\n",
      "attributing high error terms to significant differences between text types,\n",
      "since we also obtain many high error terms where there are no significant\n",
      "differences between text types.\n",
      "   Frequency lists for word-POS pairs for each subcorpus were gener-\n",
      "ated. For each word occurring in either subcorpus, the error term which\n",
      "would have contributed to a χ2 calculation was determined. As Table 4\n",
      "shows, average values for the error term are far greater than 0.5, and\n",
      "tend to increase as word frequency increases.\n",
      "   As the averages indicate, the error term is very often greater than 0.5\n",
      "* 7.88 ⫽ 3.94, the relevant critical value of the chi-square statistic. For\n",
      "very many words, including most common words, the null hypothesis is\n",
      "resoundingly defeated (as is the null hypthesis regarding the two subc-\n",
      "orpora as wholes).\n",
      "   There is no a priori reason to expect words to behave as if they had\n",
      "been selected at random, and indeed they do not. It is in the nature of\n",
      "\n",
      "\n",
      "\n",
      "\n",
      "Table 1. Comparing two same-genre corpora using χ2\n",
      "Class                       First item in class                  Mean error term\n",
      "(Words in freq. order)                                           for items in class\n",
      "                            word                  POS\n",
      "\n",
      "First 10 items              the                   DET            18.76\n",
      "Next 10 items               for                   PRP            17.45\n",
      "Next 20 items               not                   XX             14.39\n",
      "Next 40 items               have                  VHB            10.71\n",
      "Next 80 items               also                  AVO             7.03\n",
      "Next 160 items              know                  VVI             6.40\n",
      "Next 320 items              six                   CRD             5.30\n",
      "Next 640 items              finally               AV0             6.71\n",
      "Next 1280 items             plants                NN2             6.05\n",
      "Next 2560 items             pocket                NN1             5.82\n",
      "Next 5120 items             represent             VVB             4.53\n",
      "Next 10240 items            peking                NP0             3.07\n",
      "Next 20480 items            fondly                AV0             1.87\n",
      "Next 40960 items            chandelier            NN1             1.15\n",
      "Table note. Mean error term is far greater than 0.5, and increases with frequency.\n",
      "POS tags are drawn from the CLAWS-5 tagset as used in the BNC (see http:/info.ox.\n",
      "ac.uk/bnc)\n",
      "\f270     A. Kilgarriff\n",
      "\n",
      "language that any two collections of texts, covering a wide range of\n",
      "registers (and comprising, say, less than a thousand samples of over a\n",
      "thousand words each) will show such differences. While it might seem\n",
      "plausible that oddities would in some way balance out to give a popula-\n",
      "tion that was indistinguishable from one where the individual words (as\n",
      "opposed to the texts) had been randomly selected, this turns out not to\n",
      "be the case.\n",
      "   The key word in the last paragraph is ‘indistinguishable’. In hypothesis\n",
      "testing, the objective is generally to see if the population can be distin-\n",
      "guished from one that has been randomly generated ⫺ or, in our case,\n",
      "to see if the two populations are distinguishable from two populations\n",
      "which have been randomly generated on the basis of the frequencies in\n",
      "the joint corpus. Since words in a text are not random, we know that\n",
      "our corpora are not randomly generated, and the hypothesis test con-\n",
      "firms the fact.\n",
      "\n",
      "\n",
      "5.    Re-analysis of previous work\n",
      "\n",
      "5.1. Brown and LOB\n",
      "\n",
      "Hofland and Johansson (1982) wanted to find words which were signifi-\n",
      "cantly different in their frequencies between British and American Eng-\n",
      "lish, as represented in the Brown corpus for American English and LOB\n",
      "corpus for British. For each word, they tested the null hypothesis that\n",
      "the difference in frequency between the two corpora could be explained\n",
      "as random variation, with the samples being random samples from the\n",
      "same source, and in their frequency lists, they mark words where the\n",
      "null hypothesis was defeated (at a 95, 99 or 99.9 % confidence level).\n",
      "Looking at these lists suggests that virtually all common words are\n",
      "markedly different in their levels of use between the US and the UK:\n",
      "they are all marked as such. By contrast, most of the rarer marked words\n",
      "are words we know to be American or British, or to refer to items that\n",
      "are more common or more salient in the US or the UK.\n",
      "   As the argument of the previous section explains, most of the marked\n",
      "high-frequency words are marked simply as a consequence of the essen-\n",
      "tially non-random nature of language. It would not be surprising for a\n",
      "high-frequency word marked as British English in these lists to be\n",
      "marked as American English in a repeat of the experiment using new\n",
      "data.\n",
      "   Similar strategies are used by, and a similar critique is applicable to,\n",
      "Leech and Fallon (1992) (again, for comparing LOB and Brown), Ray-\n",
      "\f                              Language is never, ever, ever, random    271\n",
      "\n",
      "son, Leech, and Hodges (1997) for comparing the conversation of dif-\n",
      "ferent social groups, and Rayson and Garside (2000) for contrasting the\n",
      "language of a specialist genre with ‘general language’, as represented by\n",
      "the British National Corpus.\n",
      "\n",
      "\n",
      "5.2 Subcategorization frame (SCF) learning\n",
      "Hypothesis-testing has been used in a number of papers concerning the\n",
      "automatic acquisition of subcategorization frames (SCFs) for verbs from\n",
      "corpora. The problem is this. Dictionaries, even where they do present\n",
      "explicit and accurate SCFs for verbs, are not complete: they do not pre-\n",
      "sent all the frames for each verb. This gives rise to many parsing errors.\n",
      "Researchers including Brent (1993), Briscoe and Carroll (1997) and Kor-\n",
      "honen (2000) have developed methods for SCF acquisition. However,\n",
      "their methods are inevitably noisy, suffering, for example, from just those\n",
      "parser errors that the whole process is designed to address, and they do\n",
      "not wish to accept any SCF for which there is any evidence as a true\n",
      "SCF for the verb. They wish to filter out those SCFs where the evidence\n",
      "is not strong enough. Brent and Briscoe and Carroll used hypothesis\n",
      "testing to this end. However, problems are noted:\n",
      "\n",
      "  Further evaluation of the results ...reveals that the filtering phase is\n",
      "  the weak link in the system … The performance of the filter for classes\n",
      "  with less than 10 exemplars is around chance, and a simple heuristic\n",
      "  of accepting all classes with more then 10 exemplars would have pro-\n",
      "  duced broadly similar results for these verbs (Briscoe and Carroll\n",
      "  1997: 360⫺36).\n",
      "\n",
      "Korhonen, Correll, and McCarthy (2000) explore the issue in detail.\n",
      "Using Briscoe and Carroll’s SCF acquisition system, they explore the\n",
      "impact of four different strategies for filtering out noise:\n",
      "\n",
      "Baseline    No filter\n",
      "BHT         binomial hypothesis test: reject the SCF if Ho is not defeated6\n",
      "LLR         hypothesis test using log-likelihood ratio: reject the SCF if\n",
      "            Ho is not defeated\n",
      "MLE         threshold based on the relative frequency (which is also the\n",
      "            maximum likelihood estimate (MLE) of the probability) of\n",
      "            the verb occurring in the SCF given the verb, with the thresh-\n",
      "            old determined empirically\n",
      "\f272    A. Kilgarriff\n",
      "\n",
      "  They observe\n",
      "\n",
      "  MLE thresholding produced better results than the two statistical tests\n",
      "  used. Precision improved considerably, showing that the classes occur-\n",
      "  ring in the data with the highest frequency are often correct … MLE\n",
      "  is not adept at finding low frequency SCFs … (Korhonen, Correll,\n",
      "  and McCarthy 2000: 202)\n",
      "\n",
      "This concurs with the theoretical argument above. Hypothesis tests are\n",
      "inappropriate for the task, because the relations between verb and SCF\n",
      "will never be random and the hypothesis test will merely reject the null\n",
      "hypothesis wherever there is enough data, in a manner not closely corre-\n",
      "lated with whether the SCF-verb link is motivated. Where there is\n",
      "enough data, then the relationship between verb and SCF is easy to see\n",
      "so even a simple threshold method will identify the verb’s SCFs. Where\n",
      "data is very sparse, no method works well.\n",
      "   Korhonen (2000) extends this line of work, exploring thresholding\n",
      "methods where a more accurate estimate of the probability is obtained\n",
      "by using data from semantically similar but higher frequency verbs. She\n",
      "achieves modest improvements over the baseline which uses Korhonen,\n",
      "Correll and McCarthy’s MLE, particularly when combining the fre-\n",
      "quencies of the target verb and its semantic neighbour using a linear\n",
      "method based on the quantity of evidence available for each.\n",
      "   The problem is not one of distinguishing random and non-random\n",
      "relationships, but of sparseness of data. Where the data is not sparse,\n",
      "the difference between arbitrary and motivated connections is evident in\n",
      "greatly differing relative frequencies. This makes the moral of the story\n",
      "plain. Data is abundant. A modest-frequency verb like devastate occurs\n",
      "(Google tells us) in well over a million web pages. With just 1 % of them,\n",
      "devastate becomes one of the verbs for which we have plenty of data,\n",
      "and crude thresholding methods will distinguish associated SCFs from\n",
      "noise. It is possible that parsing errors are systematic and thus that the\n",
      "same errors occur very often in very large corpora although our experi-\n",
      "ence from looking at large corpora in the Word Sketch Engine (Kilgarriff\n",
      "et al 2004) suggests not. Harvesting the web (or other huge corpora) is\n",
      "the way to build an accurate SCF lexicon.7\n",
      "\n",
      "6. Conclusion\n",
      "Language is non-random and hence, when we look at linguistic phenom-\n",
      "ena in corpora, the null hypothesis will never be true. Moreover, where\n",
      "there is enough data, we shall (almost) always be able to establish that\n",
      "it is not true. In corpus studies, we frequently do have enough data, so\n",
      "\f                                    Language is never, ever, ever, random               273\n",
      "\n",
      "the fact that a relation between two phenomena is demonstrably non-\n",
      "random, does not support the inference that it is not arbitrary. Hypoth-\n",
      "esis testing is rarely useful for distinguishing associated from non-associ-\n",
      "ated pairs of phenomena in large corpora. Where used, it has often led\n",
      "to unhelpful or misleading results.\n",
      "   Hypothesis testing has been used to reach conclusions, where the diffi-\n",
      "culty in reaching a conclusion is caused by sparsity of data. But language\n",
      "data, in this age of information glut, is available in vast quantities. A\n",
      "better strategy will generally be to use more data Then the difference\n",
      "between the motivated and the arbitrary will be evident without the use\n",
      "of compromised hypothesis testing. As Lord Rutherford put it: “If your\n",
      "experiment needs statistics, you ought to have done a better experi-\n",
      "ment.”\n",
      "Received July 2004                                            Lexical Computing Ltd.\n",
      "Revisions received May 2005\n",
      "Final acceptance May 2005\n",
      "\n",
      "Notes\n",
      "  * This work was supported by the UK EPSRC, under grants GR/K18931 (SEAL)\n",
      "    and GR/M54971 (WASPS).\n",
      " 1. In this paper we do not consider the distinction between the predictable and the\n",
      "    ‘merely’ motivated.\n",
      " 2. Diapers, in American English\n",
      " 3. There is some confusion over names. In information theory, Mutual Information\n",
      "    is usually defined over a whole population of words, rather than being specified\n",
      "    for a particular word-pair, as here, and the definition incorporates information\n",
      "    from all cells of the contingency table. Church and Hanks only use a subset of that\n",
      "    information. Church-and-Hanks Mutual Information has been called Pointwise\n",
      "    Mutual Information. see Manning and Schütze (1999: 66 ff.) for a fuller discus-\n",
      "    sion. Here we use Church and Hanks’s definition and name.\n",
      " 4. This sentence will be confusing to non-mathematicians. The χ2 statistic is a statis-\n",
      "    tic, that is, it can be calculated from a data sample using actual numbers. The χ2\n",
      "    distribution is a theoretical construct. If a sufficiently large number of chi-square\n",
      "    statistics are calculated, all from true random samples of the same population,\n",
      "    then this population of χ2 statistics will, provably, fit a χ2 distribution. This is\n",
      "    also true for other statistics: that is, if a sufficiently large number of log-likelihood\n",
      "    statistics are calculated, all from true random samples of the same population,\n",
      "    then this population of log-likelihood statistics will, provably, fit a χ2 distribution.\n",
      "    Some texts call the statistic χ2 rather than χ2 to distinguish it more clearly from\n",
      "    the distribution, but this practice is in the minority and is not adopted here.\n",
      " 5. See appendix\n",
      " 6. The model used was a sophisticated one incorporating evidence about type fre-\n",
      "    quencies of verbs from the ANLT lexicon: see Briscoe and Carroll (1997) or Kor-\n",
      "    honen, Correll, and McCarthy (2000) for details.\n",
      " 7. See Kilgarriff and Grefenstette (2003) and papers therein. The web is a vast re-\n",
      "    source for many languages. See also Banko and Brill (2001) for the benefits of\n",
      "    large data over sophisticated mathematics.\n",
      "\f274     A. Kilgarriff\n",
      "\n",
      "Appendix\n",
      "The average value of the error term is 0.5. We explain this as follows.\n",
      "  If we do in fact have a random distribution, then by the definition of\n",
      "the χ2 distribution, the sum of the cells in the contingency table is 1:\n",
      "\n",
      "  a⫹b⫹c⫹d⫽1\n",
      "\n",
      "Each of these error terms is calculated as\n",
      "\n",
      "  (O ⫺ E ⫺ 0.5) 2/E\n",
      "\n",
      "In our situation, there are very large datasets and the phenomenon of\n",
      "interest only accounts for a very small proportion of cases. The fre-\n",
      "quency of not word w is very high. Thus the expected values, E, for not\n",
      "word w to be used when calculating c and d for the contingency table are\n",
      "very high. As we divide by very large E, c and d are vanishingly small, so\n",
      "\n",
      "  a⫹b⫹c⫹d⫽1\n",
      "\n",
      "reduces to\n",
      "\n",
      "  a⫹b⫽1\n",
      "\n",
      "Since we have set the situation up symmetrically, a and b are the same\n",
      "size, so each will be, on average, 0.5.\n",
      "\n",
      "References\n",
      "Banko, Michele and Eric Brill\n",
      "  2001       Scaling to very very large corpora for natural language disambiguation.\n",
      "             Proceedings of the 39th Annual Meeting of the Association for Computa-\n",
      "             tional Linguistics and the 10th Conference of the European Chapter of the\n",
      "             Association for Computational Linguistics.\n",
      "Bod, Rens\n",
      "  1995       Enriching linguistics with statistics: performance models of natural lan-\n",
      "             guage. Ph.D. dissertation, University of Amsterdam.\n",
      "Brandstätter, E.\n",
      "  1999       Confidence intervals as an alternative to significance testing. Methods of\n",
      "             Psychological Research Outline 4(2), 33⫺46.\n",
      "Brent, Michael R.\n",
      "  1993       From grammar to lexicon: unsupervised learning of lexical syntax. Com-\n",
      "             putational Linguistics 19(2), 243⫺262.\n",
      "Briscoe, Ted and John Carroll\n",
      "  1997       Automatic extraction of subcategorization from corpora. Proceedings of\n",
      "             the Fifth Conference on Applied Natural Language Processing, 356⫺363.\n",
      "\f                                    Language is never, ever, ever, random            275\n",
      "Carver, R. P.\n",
      "  1993        The case against statistical significance testing, revisited. Journal of Ex-\n",
      "              perimental Education 61, 287⫺292.\n",
      "Church, Kenneth and Patrick Hanks\n",
      "  1990        Word association norms, mutual information and lexicography. Compu-\n",
      "              tational Linguistics 16(1), 22⫺29.\n",
      "Dunning, Ted\n",
      "  1993        Accurate methods for the statistics of surprise and coincidence. Compu-\n",
      "              tational Linguistics 19(1), 61⫺74.\n",
      "Gale, William and Geoffrey Sampson\n",
      "  1995        Good-Turing frequency estimation without tears. Journal of Quantitative\n",
      "              Linguistics 2(3),\n",
      "Good, I. J.\n",
      "  1953        The population frequencies of species and the estimation of population\n",
      "              parameters. Biometrika 40, 237⫺264.\n",
      "Grefenstette, Gregory and Julien Nioche\n",
      "  2000        Estimation of English and non-English language use on the www. In\n",
      "              Proceedings of RIAO (Recherche d’Informations Assiste´ e par Ordinateur),\n",
      "              237⫺246.\n",
      "Hofland, Knud and Stig Johanson (Eds.)\n",
      "  1982        Word Frequencies in British and American English. Bergen: The Norwe-\n",
      "              gian Computing Centre for the Humanities.\n",
      "Korhonen, Anna\n",
      "  2000        Using semantically motivated estimates to help subcategorization\n",
      "              acquisition. Proceedings of the Joint Conference on Empirical Methods in\n",
      "              NLP and Very Large Corpora, 216⫺223.\n",
      "Korhonen, Anna, Genevieve Gorrell, and Diana McCarthy\n",
      "  2000        Statistical filtering and subcategorization frame acquisition. Proceedings\n",
      "              of the Joint Conference on Empirical Methods in NLP and Very Large\n",
      "              Corpora, 199⫺206.\n",
      "LDOCE\n",
      "  1995        Longman Dictionary of Contemporary English, 3rd Edition. Ed. Della\n",
      "              Summers. Harlow: Longman.\n",
      "Leech, Geoffrey and Roger Fallon\n",
      "  1992        Computer corpora — what do they tell us about culture? ICAME Journal\n",
      "              16, 29⫺50.\n",
      "Manning, Christopher and Hinrich Schütze\n",
      "  1999        Foundations of Statistical Natural Language Processing. Cambridge, MA:\n",
      "              MIT Press.\n",
      "Owen, Frank and Ronald Jones\n",
      "  1977        Statistics. Polytech Publishers.\n",
      "Pedersen, Ted\n",
      "  1996        Fishing for exactness. Proceedings of the Conference of the South-Central\n",
      "              SAS Users Group, 188⫺200.\n",
      "Rayson, Paul and Roger Garside\n",
      "  2000        Comparing corpora using frequency profiling. Proceedings of the Work-\n",
      "              shop on Comparing Corpora, 38th ACL, 1⫺6.\n",
      "Rayson, Paul, Geoffrey Leech, and Mary Hodges\n",
      "  1997        Social differentiation in the use of English vocabulary: some analysis of\n",
      "              the conversational component of the British National Corpus. Interna-\n",
      "              tional Journal of Corpus Linguistics 2(1), 133⫺152.\n",
      "Stubbs, Michael\n",
      "  1995        Collocations and semantic profiles: On the cause of the trouble with\n",
      "              quantitative studies. Functions of Language 2(1), 23⫺55.\n",
      "\f\n"
     ]
    }
   ],
   "source": [
    "print(text)"
   ]
  },
  {
   "cell_type": "code",
   "execution_count": 29,
   "metadata": {},
   "outputs": [],
   "source": [
    "# Tokenize the text.\n",
    "tokenized_text = [list(map(str.lower, word_tokenize(sent))) \n",
    "                  for sent in sent_tokenize(text)]"
   ]
  },
  {
   "cell_type": "code",
   "execution_count": 16,
   "metadata": {},
   "outputs": [],
   "source": [
    "#tokenized_text[0]"
   ]
  },
  {
   "cell_type": "code",
   "execution_count": 30,
   "metadata": {},
   "outputs": [],
   "source": [
    "# Preprocess the tokenized text for 3-grams language modelling\n",
    "n = 3 # n gram\n",
    "train_data, padded_sents = padded_everygram_pipeline(n, tokenized_text)"
   ]
  },
  {
   "cell_type": "markdown",
   "metadata": {},
   "source": [
    "### Training an tri-gram Model"
   ]
  },
  {
   "cell_type": "code",
   "execution_count": 31,
   "metadata": {},
   "outputs": [],
   "source": [
    "# initialize MLE model - MLE model, creates an empty vocabulary\n",
    "model = MLE(n)"
   ]
  },
  {
   "cell_type": "code",
   "execution_count": 32,
   "metadata": {},
   "outputs": [
    {
     "data": {
      "text/plain": [
       "0"
      ]
     },
     "execution_count": 32,
     "metadata": {},
     "output_type": "execute_result"
    }
   ],
   "source": [
    "len(model.vocab)"
   ]
  },
  {
   "cell_type": "code",
   "execution_count": 33,
   "metadata": {},
   "outputs": [
    {
     "name": "stdout",
     "output_type": "stream",
     "text": [
      "<Vocabulary with cutoff=1 unk_label='<UNK>' and 1391 items>\n"
     ]
    }
   ],
   "source": [
    "# traine model \n",
    "model.fit(train_data, padded_sents)\n",
    "print(model.vocab)"
   ]
  },
  {
   "cell_type": "code",
   "execution_count": 34,
   "metadata": {},
   "outputs": [
    {
     "data": {
      "text/plain": [
       "1391"
      ]
     },
     "execution_count": 34,
     "metadata": {},
     "output_type": "execute_result"
    }
   ],
   "source": [
    "len(model.vocab)"
   ]
  },
  {
   "cell_type": "code",
   "execution_count": 35,
   "metadata": {},
   "outputs": [
    {
     "name": "stdout",
     "output_type": "stream",
     "text": [
      "('language', 'is', 'never', ',', 'ever', ',', 'ever', ',', 'random', 'adam', 'kilgarriff', 'abstract', 'language', 'users', 'never', 'choose', 'words', 'randomly', ',', 'and', 'language', 'is', 'essentially', 'non-random', '.')\n"
     ]
    }
   ],
   "source": [
    "print(model.vocab.lookup(tokenized_text[0]))"
   ]
  },
  {
   "cell_type": "code",
   "execution_count": 37,
   "metadata": {},
   "outputs": [
    {
     "name": "stdout",
     "output_type": "stream",
     "text": [
      "('language', 'is', 'never', 'random', '<UNK>', '.')\n"
     ]
    }
   ],
   "source": [
    "# the model automatically replace words not in the vocabulary with `<UNK>`.\n",
    "print(model.vocab.lookup('language is never random unseenword .'.split()))"
   ]
  },
  {
   "cell_type": "markdown",
   "metadata": {},
   "source": [
    "### Exploring the model"
   ]
  },
  {
   "cell_type": "code",
   "execution_count": 38,
   "metadata": {},
   "outputs": [
    {
     "name": "stdout",
     "output_type": "stream",
     "text": [
      "<NgramCounter with 3 ngram orders and 19611 ngrams>\n"
     ]
    }
   ],
   "source": [
    "print(model.counts)"
   ]
  },
  {
   "cell_type": "code",
   "execution_count": 39,
   "metadata": {},
   "outputs": [
    {
     "name": "stdout",
     "output_type": "stream",
     "text": [
      "number of bigrams for the phrase language 25\n"
     ]
    }
   ],
   "source": [
    "phrase = 'language'\n",
    "print(\"number of bigrams for the phrase\", phrase, model.counts[phrase])"
   ]
  },
  {
   "cell_type": "code",
   "execution_count": 40,
   "metadata": {},
   "outputs": [
    {
     "name": "stdout",
     "output_type": "stream",
     "text": [
      "number of bigrams for the phrase 11\n"
     ]
    }
   ],
   "source": [
    "# number of bigrames of language followed by is\n",
    "print(\"number of bigrams for the phrase\", model.counts[['language']]['is'])"
   ]
  },
  {
   "cell_type": "code",
   "execution_count": 27,
   "metadata": {},
   "outputs": [
    {
     "name": "stdout",
     "output_type": "stream",
     "text": [
      "number of bigrams for the phrase 7\n"
     ]
    }
   ],
   "source": [
    "print(\"number of bigrams for the phrase\", model.counts[['language', 'is']]['never'])"
   ]
  },
  {
   "cell_type": "code",
   "execution_count": 61,
   "metadata": {},
   "outputs": [
    {
     "data": {
      "text/plain": [
       "0.0017720023626698169"
      ]
     },
     "execution_count": 61,
     "metadata": {},
     "output_type": "execute_result"
    }
   ],
   "source": [
    "# what is the probability score for the word language i.e how likely is the word in our vocanulary\n",
    "# model.score('language') # P('language')\n",
    "model.score(\"1\")"
   ]
  },
  {
   "cell_type": "code",
   "execution_count": 42,
   "metadata": {},
   "outputs": [
    {
     "data": {
      "text/plain": [
       "0.44"
      ]
     },
     "execution_count": 42,
     "metadata": {},
     "output_type": "execute_result"
    }
   ],
   "source": [
    "# probability of 'is' given 'language'\n",
    "model.score('is', 'language'.split())  # P('is'|'language') [language is]"
   ]
  },
  {
   "cell_type": "code",
   "execution_count": 43,
   "metadata": {},
   "outputs": [
    {
     "data": {
      "text/plain": [
       "0.6363636363636364"
      ]
     },
     "execution_count": 43,
     "metadata": {},
     "output_type": "execute_result"
    }
   ],
   "source": [
    "# P('never'|'language is')\n",
    "model.score('never', 'language is'.split())  # count(lanuage is never)/count(langauge is)"
   ]
  },
  {
   "cell_type": "code",
   "execution_count": 44,
   "metadata": {},
   "outputs": [
    {
     "data": {
      "text/plain": [
       "-0.6520766965796932"
      ]
     },
     "execution_count": 44,
     "metadata": {},
     "output_type": "execute_result"
    }
   ],
   "source": [
    "model.logscore(\"never\", \"language is\".split())"
   ]
  },
  {
   "cell_type": "markdown",
   "metadata": {},
   "source": [
    "### Generating text"
   ]
  },
  {
   "cell_type": "code",
   "execution_count": 49,
   "metadata": {},
   "outputs": [],
   "source": [
    "from nltk.tokenize.treebank import TreebankWordDetokenizer"
   ]
  },
  {
   "cell_type": "code",
   "execution_count": 50,
   "metadata": {},
   "outputs": [],
   "source": [
    "detokenize = TreebankWordDetokenizer().detokenize\n",
    "\n",
    "def generate_sent(model, num_words, random_seed=42):\n",
    "    \"\"\"Generate text method  \"\"\"\n",
    "    content = []\n",
    "    for token in model.generate(num_words, random_seed=random_seed):\n",
    "        if token == '<s>':\n",
    "            continue\n",
    "        if token == '</s>':\n",
    "            break\n",
    "        content.append(token)\n",
    "    return detokenize(content)"
   ]
  },
  {
   "cell_type": "code",
   "execution_count": 51,
   "metadata": {},
   "outputs": [
    {
     "data": {
      "text/plain": [
       "'words (bigrams, etc.'"
      ]
     },
     "execution_count": 51,
     "metadata": {},
     "output_type": "execute_result"
    }
   ],
   "source": [
    "generate_sent(model, 50, random_seed=52)"
   ]
  }
 ],
 "metadata": {
  "kernelspec": {
   "display_name": "Python 3",
   "language": "python",
   "name": "python3"
  },
  "language_info": {
   "codemirror_mode": {
    "name": "ipython",
    "version": 3
   },
   "file_extension": ".py",
   "mimetype": "text/x-python",
   "name": "python",
   "nbconvert_exporter": "python",
   "pygments_lexer": "ipython3",
   "version": "3.10.9"
  }
 },
 "nbformat": 4,
 "nbformat_minor": 4
}
