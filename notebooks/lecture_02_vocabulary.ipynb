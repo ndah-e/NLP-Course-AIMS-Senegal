{
 "cells": [
  {
   "attachments": {},
   "cell_type": "markdown",
   "metadata": {},
   "source": [
    "Take a look at these packages\n",
    "- NLTK https://www.nltk.org/\n",
    "- Spacy https://spacy.io/\n",
    "- Stanford CoreNLP: https://stanfordnlp.github.io/CoreNLP/"
   ]
  },
  {
   "attachments": {},
   "cell_type": "markdown",
   "metadata": {},
   "source": [
    "Before using this notebook it is advicable to walk through the tutorial in the link https://dylancastillo.co/nlp-snippets-clean-and-tokenize-text-with-python/ to lean how to pre process text for NLP analysis."
   ]
  },
  {
   "cell_type": "markdown",
   "metadata": {},
   "source": [
    "# Corpus"
   ]
  },
  {
   "cell_type": "code",
   "execution_count": 72,
   "metadata": {},
   "outputs": [],
   "source": [
    "# !pip install nltk\n",
    "# nltk.download()\n",
    "# nltk.download('udhr')\n",
    "# nltk.download('wordnet')\n",
    "# nltk.download('omw-1.4')\n",
    "# nltk.download('punkt')"
   ]
  },
  {
   "cell_type": "code",
   "execution_count": 73,
   "metadata": {},
   "outputs": [],
   "source": [
    "# !pip install spacy\n",
    "# !python -m spacy download en_core_web_sm"
   ]
  },
  {
   "cell_type": "markdown",
   "metadata": {},
   "source": [
    "Example of corpus in NLTK\n",
    "- Brown: The Brown Corpus was the first million-word electronic corpus of English\n",
    "- Gutenberg: contains some 25,000 free electronic books\n",
    "- Reuters: The Reuters Corpus contains 10,788 news documents totaling 1.3 million words\n",
    "- Inaugural Address: "
   ]
  },
  {
   "cell_type": "markdown",
   "metadata": {},
   "source": [
    "### Brown Corpus\n",
    "The Brown Corpus was the first million-word electronic corpus of English, created in 1961 at Brown University. This corpus contains text from 500 sources, and the sources have been categorized by genre, such as news, editorial, and so on.  \n",
    "Good for studying systematic difference between genres.  \n",
    "\n",
    "For a complete list of text in the corpus see http://icame.uib.no/brown/bcm-los.html."
   ]
  },
  {
   "cell_type": "code",
   "execution_count": 74,
   "metadata": {},
   "outputs": [],
   "source": [
    "import nltk\n",
    "from nltk.corpus import brown"
   ]
  },
  {
   "cell_type": "code",
   "execution_count": 75,
   "metadata": {},
   "outputs": [
    {
     "data": {
      "text/plain": [
       "['adventure',\n",
       " 'belles_lettres',\n",
       " 'editorial',\n",
       " 'fiction',\n",
       " 'government',\n",
       " 'hobbies',\n",
       " 'humor',\n",
       " 'learned',\n",
       " 'lore',\n",
       " 'mystery',\n",
       " 'news',\n",
       " 'religion',\n",
       " 'reviews',\n",
       " 'romance',\n",
       " 'science_fiction']"
      ]
     },
     "execution_count": 75,
     "metadata": {},
     "output_type": "execute_result"
    }
   ],
   "source": [
    "# Print the list of categories in the brown corpus\n",
    "brown.categories()"
   ]
  },
  {
   "cell_type": "markdown",
   "metadata": {},
   "source": [
    "Access the corpus as a list of words, or a list of sentences (where each sentence is itself just a list of words). \n",
    "We can optionally specify particular categories or files to read:"
   ]
  },
  {
   "cell_type": "code",
   "execution_count": 76,
   "metadata": {},
   "outputs": [
    {
     "data": {
      "text/plain": [
       "['The', 'Fulton', 'County', 'Grand', 'Jury', 'said', ...]"
      ]
     },
     "execution_count": 76,
     "metadata": {},
     "output_type": "execute_result"
    }
   ],
   "source": [
    "brown.words(categories='news')"
   ]
  },
  {
   "cell_type": "code",
   "execution_count": 77,
   "metadata": {},
   "outputs": [
    {
     "data": {
      "text/plain": [
       "['Now', 'that', 'he', 'knew', 'himself', 'to', 'be', ...]"
      ]
     },
     "execution_count": 77,
     "metadata": {},
     "output_type": "execute_result"
    }
   ],
   "source": [
    "brown.words(categories='science_fiction')"
   ]
  },
  {
   "cell_type": "code",
   "execution_count": 78,
   "metadata": {},
   "outputs": [
    {
     "data": {
      "text/plain": [
       "['ca01',\n",
       " 'ca02',\n",
       " 'ca03',\n",
       " 'ca04',\n",
       " 'ca05',\n",
       " 'ca06',\n",
       " 'ca07',\n",
       " 'ca08',\n",
       " 'ca09',\n",
       " 'ca10']"
      ]
     },
     "execution_count": 78,
     "metadata": {},
     "output_type": "execute_result"
    }
   ],
   "source": [
    "brown.fileids()[:10]"
   ]
  },
  {
   "cell_type": "code",
   "execution_count": 79,
   "metadata": {},
   "outputs": [
    {
     "data": {
      "text/plain": [
       "['Vincent', 'G.', 'Ierulli', 'has', 'been', ...]"
      ]
     },
     "execution_count": 79,
     "metadata": {},
     "output_type": "execute_result"
    }
   ],
   "source": [
    "brown.words(fileids=['ca10'])"
   ]
  },
  {
   "cell_type": "code",
   "execution_count": 80,
   "metadata": {},
   "outputs": [
    {
     "data": {
      "text/plain": [
       "[['The', 'Fulton', 'County', 'Grand', 'Jury', 'said', 'Friday', 'an', 'investigation', 'of', \"Atlanta's\", 'recent', 'primary', 'election', 'produced', '``', 'no', 'evidence', \"''\", 'that', 'any', 'irregularities', 'took', 'place', '.'], ['The', 'jury', 'further', 'said', 'in', 'term-end', 'presentments', 'that', 'the', 'City', 'Executive', 'Committee', ',', 'which', 'had', 'over-all', 'charge', 'of', 'the', 'election', ',', '``', 'deserves', 'the', 'praise', 'and', 'thanks', 'of', 'the', 'City', 'of', 'Atlanta', \"''\", 'for', 'the', 'manner', 'in', 'which', 'the', 'election', 'was', 'conducted', '.'], ...]"
      ]
     },
     "execution_count": 80,
     "metadata": {},
     "output_type": "execute_result"
    }
   ],
   "source": [
    "brown.sents(categories=['news', 'editorial', 'reviews'])"
   ]
  },
  {
   "cell_type": "markdown",
   "metadata": {},
   "source": [
    "Let's compare genres in their usage of modal verbs. The first step is to produce the counts for a particular genre. Remember to import nltk before doing the following"
   ]
  },
  {
   "cell_type": "code",
   "execution_count": 81,
   "metadata": {},
   "outputs": [],
   "source": [
    "from nltk.corpus import brown\n",
    "news_text = brown.words(categories='news')\n",
    "fdist = nltk.FreqDist(w.lower() for w in news_text)\n",
    "modals = ['what', 'when', 'where','can', 'could', 'may', 'might', 'must', 'will']"
   ]
  },
  {
   "cell_type": "code",
   "execution_count": 82,
   "metadata": {},
   "outputs": [
    {
     "name": "stdout",
     "output_type": "stream",
     "text": [
      "Number of occurances \n",
      "what: 95\n",
      "when: 169\n",
      "where: 59\n",
      "can: 94\n",
      "could: 87\n",
      "may: 93\n",
      "might: 38\n",
      "must: 53\n",
      "will: 389\n"
     ]
    }
   ],
   "source": [
    "print(\"Number of occurances \")\n",
    "for m in modals:\n",
    "    print(m + ':', fdist[m])"
   ]
  },
  {
   "cell_type": "markdown",
   "metadata": {},
   "source": [
    "#### Counts for each genre of interest"
   ]
  },
  {
   "cell_type": "code",
   "execution_count": 83,
   "metadata": {},
   "outputs": [
    {
     "name": "stdout",
     "output_type": "stream",
     "text": [
      "                 what  when where   can could   may might  must  will \n",
      "           news    76   128    58    93    86    66    38    50   389 \n",
      "       religion    64    53    20    82    59    78    12    54    71 \n",
      "        hobbies    78   119    72   268    58   131    22    83   264 \n",
      "science_fiction    27    21    10    16    49     4    12     8    16 \n",
      "        romance   121   126    54    74   193    11    51    45    43 \n",
      "          humor    36    52    15    16    30     8     8     9    13 \n"
     ]
    }
   ],
   "source": [
    "cfd = nltk.ConditionalFreqDist((genre, word)\n",
    "    for genre in brown.categories()\n",
    "    for word in brown.words(categories=genre)\n",
    "                              )\n",
    "genres = ['news', 'religion', 'hobbies', 'science_fiction', 'romance', 'humor']\n",
    "cfd.tabulate(conditions=genres, samples=modals)"
   ]
  },
  {
   "cell_type": "markdown",
   "metadata": {},
   "source": [
    "Observe that the most frequent modal in the \n",
    "- news genre is _will_\n",
    "- romance genre is _could_\n",
    "- hobbies genre _can_ and _will_"
   ]
  },
  {
   "cell_type": "markdown",
   "metadata": {},
   "source": [
    "#### Counting Words by Genre"
   ]
  },
  {
   "cell_type": "code",
   "execution_count": 84,
   "metadata": {},
   "outputs": [],
   "source": [
    "from nltk.corpus import brown\n",
    "cfd = nltk.ConditionalFreqDist(\n",
    "           (genre, word)\n",
    "           for genre in brown.categories()\n",
    "               for word in brown.words(categories=genre)\n",
    ")"
   ]
  },
  {
   "cell_type": "code",
   "execution_count": 85,
   "metadata": {},
   "outputs": [
    {
     "data": {
      "text/plain": [
       "170576"
      ]
     },
     "execution_count": 85,
     "metadata": {},
     "output_type": "execute_result"
    }
   ],
   "source": [
    "genre_word = [(genre, word)\n",
    "               for genre in ['news', 'romance']\n",
    "                   for word in brown.words(categories=genre)\n",
    "             ]\n",
    "len(genre_word)"
   ]
  },
  {
   "cell_type": "code",
   "execution_count": 86,
   "metadata": {},
   "outputs": [
    {
     "data": {
      "text/plain": [
       "[('news', 'The'), ('news', 'Fulton'), ('news', 'County'), ('news', 'Grand')]"
      ]
     },
     "execution_count": 86,
     "metadata": {},
     "output_type": "execute_result"
    }
   ],
   "source": [
    "genre_word[:4]"
   ]
  },
  {
   "cell_type": "code",
   "execution_count": 87,
   "metadata": {},
   "outputs": [],
   "source": [
    "cfd = nltk.ConditionalFreqDist(genre_word)"
   ]
  },
  {
   "cell_type": "code",
   "execution_count": 88,
   "metadata": {},
   "outputs": [
    {
     "data": {
      "text/plain": [
       "[(',', 3899),\n",
       " ('.', 3736),\n",
       " ('the', 2758),\n",
       " ('and', 1776),\n",
       " ('to', 1502),\n",
       " ('a', 1335),\n",
       " ('of', 1186),\n",
       " ('``', 1045),\n",
       " (\"''\", 1044),\n",
       " ('was', 993),\n",
       " ('I', 951),\n",
       " ('in', 875),\n",
       " ('he', 702),\n",
       " ('had', 692),\n",
       " ('?', 690),\n",
       " ('her', 651),\n",
       " ('that', 583),\n",
       " ('it', 573),\n",
       " ('his', 559),\n",
       " ('she', 496)]"
      ]
     },
     "execution_count": 88,
     "metadata": {},
     "output_type": "execute_result"
    }
   ],
   "source": [
    "cfd['romance'].most_common(20)"
   ]
  },
  {
   "cell_type": "code",
   "execution_count": 89,
   "metadata": {},
   "outputs": [
    {
     "data": {
      "text/plain": [
       "193"
      ]
     },
     "execution_count": 89,
     "metadata": {},
     "output_type": "execute_result"
    }
   ],
   "source": [
    "cfd['romance']['could']"
   ]
  },
  {
   "cell_type": "markdown",
   "metadata": {},
   "source": [
    "### Corpora in Other Languages\n",
    "NLTK also contains corpus from other languages"
   ]
  },
  {
   "cell_type": "code",
   "execution_count": 90,
   "metadata": {},
   "outputs": [
    {
     "data": {
      "text/plain": [
       "['El', 'grupo', 'estatal', 'Electricité_de_France', ...]"
      ]
     },
     "execution_count": 90,
     "metadata": {},
     "output_type": "execute_result"
    }
   ],
   "source": [
    "# Spanish\n",
    "nltk.corpus.cess_esp.words()"
   ]
  },
  {
   "cell_type": "code",
   "execution_count": 91,
   "metadata": {},
   "outputs": [
    {
     "data": {
      "text/plain": [
       "['पूर्ण', 'प्रतिबंध', 'हटाओ', ':', 'इराक', 'संयुक्त', ...]"
      ]
     },
     "execution_count": 91,
     "metadata": {},
     "output_type": "execute_result"
    }
   ],
   "source": [
    "# Hindu \n",
    "nltk.corpus.indian.words('hindi.pos')"
   ]
  },
  {
   "cell_type": "code",
   "execution_count": 92,
   "metadata": {},
   "outputs": [],
   "source": [
    "from nltk.corpus import udhr\n",
    "import pandas as pd\n",
    "import matplotlib.pyplot as plt\n",
    "\n",
    "languages = ['Chickasaw', 'English', 'German_Deutsch','Greenlandic_Inuktikut', 'Hungarian_Magyar', 'Ibibio_Efik']\n",
    "cfd = nltk.ConditionalFreqDist((lang, len(word)) \n",
    "                               for lang in languages\n",
    "                                   for word in udhr.words(lang + '-Latin1')\n",
    "                              )"
   ]
  },
  {
   "cell_type": "code",
   "execution_count": 93,
   "metadata": {},
   "outputs": [],
   "source": [
    "def plot_freq(lang):\n",
    "    max_length = max([len(word) for word in udhr.words(lang + '-Latin1')])\n",
    "    eng_freq_dist = {}\n",
    "\n",
    "    for i in range(max_length + 1):\n",
    "        eng_freq_dist[i] = cfd[lang].freq(i)\n",
    "\n",
    "    ed = pd.Series(eng_freq_dist, name=lang)\n",
    "    ed.cumsum().plot(legend=True, title='Cumulative Distribution of Word Lengths')"
   ]
  },
  {
   "cell_type": "code",
   "execution_count": 94,
   "metadata": {},
   "outputs": [
    {
     "data": {
      "image/png": "[encoded data removed]",
      "text/plain": [
       "<Figure size 1000x600 with 1 Axes>"
      ]
     },
     "metadata": {},
     "output_type": "display_data"
    }
   ],
   "source": [
    "plt.subplots(figsize=(10, 6))\n",
    "for lang in languages:\n",
    "    plot_freq(lang)"
   ]
  },
  {
   "cell_type": "markdown",
   "metadata": {},
   "source": [
    "Plot showing that words having 5 or fewer letters account for about \n",
    "- 80% of Ibibio text, \n",
    "- 60% of German text, \n",
    "- 25% of Inuktitut text"
   ]
  },
  {
   "cell_type": "markdown",
   "metadata": {},
   "source": [
    "### Loading your own Corpus"
   ]
  },
  {
   "cell_type": "code",
   "execution_count": 95,
   "metadata": {},
   "outputs": [],
   "source": [
    "from nltk.corpus import PlaintextCorpusReader\n",
    "\n",
    "corpus_root = 'data/'  # root folder containing text file\n",
    "wordlists = PlaintextCorpusReader(corpus_root, '.*') "
   ]
  },
  {
   "cell_type": "code",
   "execution_count": 96,
   "metadata": {},
   "outputs": [
    {
     "data": {
      "text/plain": [
       "['IMDB_Dataset.csv',\n",
       " 'Test.csv',\n",
       " 'Train.csv',\n",
       " 'a.txt',\n",
       " 'abcnews-date-text.csv',\n",
       " 'archive/Tags.csv',\n",
       " 'archive/Test.csv',\n",
       " 'archive/Train.csv',\n",
       " 'archive/sample_sub.csv',\n",
       " 'b.txt',\n",
       " 'clean_data.csv',\n",
       " 'corpus_lm.txt',\n",
       " 'fquad1.0.zip',\n",
       " 'fra.txt',\n",
       " 'intents.json',\n",
       " 'lecture_3_data.csv',\n",
       " 'lm_text.txt',\n",
       " 'news_summary.csv',\n",
       " 'republic.txt',\n",
       " 'republic_clean.txt',\n",
       " 'republic_sequences.txt',\n",
       " 'txt_sentoken/embedding_word2vec.txt',\n",
       " 'txt_sentoken/neg/cv000_29416.txt',\n",
       " 'txt_sentoken/neg/cv001_19502.txt',\n",
       " 'txt_sentoken/neg/cv002_17424.txt',\n",
       " 'txt_sentoken/neg/cv003_12683.txt',\n",
       " 'txt_sentoken/neg/cv004_12641.txt',\n",
       " 'txt_sentoken/neg/cv005_29357.txt',\n",
       " 'txt_sentoken/neg/cv006_17022.txt',\n",
       " 'txt_sentoken/neg/cv007_4992.txt',\n",
       " 'txt_sentoken/neg/cv008_29326.txt',\n",
       " 'txt_sentoken/neg/cv009_29417.txt',\n",
       " 'txt_sentoken/neg/cv010_29063.txt',\n",
       " 'txt_sentoken/neg/cv011_13044.txt',\n",
       " 'txt_sentoken/neg/cv012_29411.txt',\n",
       " 'txt_sentoken/neg/cv013_10494.txt',\n",
       " 'txt_sentoken/neg/cv014_15600.txt',\n",
       " 'txt_sentoken/neg/cv015_29356.txt',\n",
       " 'txt_sentoken/neg/cv016_4348.txt',\n",
       " 'txt_sentoken/neg/cv017_23487.txt',\n",
       " 'txt_sentoken/neg/cv018_21672.txt',\n",
       " 'txt_sentoken/neg/cv019_16117.txt',\n",
       " 'txt_sentoken/neg/cv020_9234.txt',\n",
       " 'txt_sentoken/neg/cv021_17313.txt',\n",
       " 'txt_sentoken/neg/cv022_14227.txt',\n",
       " 'txt_sentoken/neg/cv023_13847.txt',\n",
       " 'txt_sentoken/neg/cv024_7033.txt',\n",
       " 'txt_sentoken/neg/cv025_29825.txt',\n",
       " 'txt_sentoken/neg/cv026_29229.txt',\n",
       " 'txt_sentoken/neg/cv027_26270.txt',\n",
       " 'txt_sentoken/neg/cv028_26964.txt',\n",
       " 'txt_sentoken/neg/cv029_19943.txt',\n",
       " 'txt_sentoken/neg/cv030_22893.txt',\n",
       " 'txt_sentoken/neg/cv031_19540.txt',\n",
       " 'txt_sentoken/neg/cv032_23718.txt',\n",
       " 'txt_sentoken/neg/cv033_25680.txt',\n",
       " 'txt_sentoken/neg/cv034_29446.txt',\n",
       " 'txt_sentoken/neg/cv035_3343.txt',\n",
       " 'txt_sentoken/neg/cv036_18385.txt',\n",
       " 'txt_sentoken/neg/cv037_19798.txt',\n",
       " 'txt_sentoken/neg/cv038_9781.txt',\n",
       " 'txt_sentoken/neg/cv039_5963.txt',\n",
       " 'txt_sentoken/neg/cv040_8829.txt',\n",
       " 'txt_sentoken/neg/cv041_22364.txt',\n",
       " 'txt_sentoken/neg/cv042_11927.txt',\n",
       " 'txt_sentoken/neg/cv043_16808.txt',\n",
       " 'txt_sentoken/neg/cv044_18429.txt',\n",
       " 'txt_sentoken/neg/cv045_25077.txt',\n",
       " 'txt_sentoken/neg/cv046_10613.txt',\n",
       " 'txt_sentoken/neg/cv047_18725.txt',\n",
       " 'txt_sentoken/neg/cv048_18380.txt',\n",
       " 'txt_sentoken/neg/cv049_21917.txt',\n",
       " 'txt_sentoken/neg/cv050_12128.txt',\n",
       " 'txt_sentoken/neg/cv051_10751.txt',\n",
       " 'txt_sentoken/neg/cv052_29318.txt',\n",
       " 'txt_sentoken/neg/cv053_23117.txt',\n",
       " 'txt_sentoken/neg/cv054_4101.txt',\n",
       " 'txt_sentoken/neg/cv055_8926.txt',\n",
       " 'txt_sentoken/neg/cv056_14663.txt',\n",
       " 'txt_sentoken/neg/cv057_7962.txt',\n",
       " 'txt_sentoken/neg/cv058_8469.txt',\n",
       " 'txt_sentoken/neg/cv059_28723.txt',\n",
       " 'txt_sentoken/neg/cv060_11754.txt',\n",
       " 'txt_sentoken/neg/cv061_9321.txt',\n",
       " 'txt_sentoken/neg/cv062_24556.txt',\n",
       " 'txt_sentoken/neg/cv063_28852.txt',\n",
       " 'txt_sentoken/neg/cv064_25842.txt',\n",
       " 'txt_sentoken/neg/cv065_16909.txt',\n",
       " 'txt_sentoken/neg/cv066_11668.txt',\n",
       " 'txt_sentoken/neg/cv067_21192.txt',\n",
       " 'txt_sentoken/neg/cv068_14810.txt',\n",
       " 'txt_sentoken/neg/cv069_11613.txt',\n",
       " 'txt_sentoken/neg/cv070_13249.txt',\n",
       " 'txt_sentoken/neg/cv071_12969.txt',\n",
       " 'txt_sentoken/neg/cv072_5928.txt',\n",
       " 'txt_sentoken/neg/cv073_23039.txt',\n",
       " 'txt_sentoken/neg/cv074_7188.txt',\n",
       " 'txt_sentoken/neg/cv075_6250.txt',\n",
       " 'txt_sentoken/neg/cv076_26009.txt',\n",
       " 'txt_sentoken/neg/cv077_23172.txt',\n",
       " 'txt_sentoken/neg/cv078_16506.txt',\n",
       " 'txt_sentoken/neg/cv079_12766.txt',\n",
       " 'txt_sentoken/neg/cv080_14899.txt',\n",
       " 'txt_sentoken/neg/cv081_18241.txt',\n",
       " 'txt_sentoken/neg/cv082_11979.txt',\n",
       " 'txt_sentoken/neg/cv083_25491.txt',\n",
       " 'txt_sentoken/neg/cv084_15183.txt',\n",
       " 'txt_sentoken/neg/cv085_15286.txt',\n",
       " 'txt_sentoken/neg/cv086_19488.txt',\n",
       " 'txt_sentoken/neg/cv087_2145.txt',\n",
       " 'txt_sentoken/neg/cv088_25274.txt',\n",
       " 'txt_sentoken/neg/cv089_12222.txt',\n",
       " 'txt_sentoken/neg/cv090_0049.txt',\n",
       " 'txt_sentoken/neg/cv091_7899.txt',\n",
       " 'txt_sentoken/neg/cv092_27987.txt',\n",
       " 'txt_sentoken/neg/cv093_15606.txt',\n",
       " 'txt_sentoken/neg/cv094_27868.txt',\n",
       " 'txt_sentoken/neg/cv095_28730.txt',\n",
       " 'txt_sentoken/neg/cv096_12262.txt',\n",
       " 'txt_sentoken/neg/cv097_26081.txt',\n",
       " 'txt_sentoken/neg/cv098_17021.txt',\n",
       " 'txt_sentoken/neg/cv099_11189.txt',\n",
       " 'txt_sentoken/neg/cv100_12406.txt',\n",
       " 'txt_sentoken/neg/cv101_10537.txt',\n",
       " 'txt_sentoken/neg/cv102_8306.txt',\n",
       " 'txt_sentoken/neg/cv103_11943.txt',\n",
       " 'txt_sentoken/neg/cv104_19176.txt',\n",
       " 'txt_sentoken/neg/cv105_19135.txt',\n",
       " 'txt_sentoken/neg/cv106_18379.txt',\n",
       " 'txt_sentoken/neg/cv107_25639.txt',\n",
       " 'txt_sentoken/neg/cv108_17064.txt',\n",
       " 'txt_sentoken/neg/cv109_22599.txt',\n",
       " 'txt_sentoken/neg/cv110_27832.txt',\n",
       " 'txt_sentoken/neg/cv111_12253.txt',\n",
       " 'txt_sentoken/neg/cv112_12178.txt',\n",
       " 'txt_sentoken/neg/cv113_24354.txt',\n",
       " 'txt_sentoken/neg/cv114_19501.txt',\n",
       " 'txt_sentoken/neg/cv115_26443.txt',\n",
       " 'txt_sentoken/neg/cv116_28734.txt',\n",
       " 'txt_sentoken/neg/cv117_25625.txt',\n",
       " 'txt_sentoken/neg/cv118_28837.txt',\n",
       " 'txt_sentoken/neg/cv119_9909.txt',\n",
       " 'txt_sentoken/neg/cv120_3793.txt',\n",
       " 'txt_sentoken/neg/cv121_18621.txt',\n",
       " 'txt_sentoken/neg/cv122_7891.txt',\n",
       " 'txt_sentoken/neg/cv123_12165.txt',\n",
       " 'txt_sentoken/neg/cv124_3903.txt',\n",
       " 'txt_sentoken/neg/cv125_9636.txt',\n",
       " 'txt_sentoken/neg/cv126_28821.txt',\n",
       " 'txt_sentoken/neg/cv127_16451.txt',\n",
       " 'txt_sentoken/neg/cv128_29444.txt',\n",
       " 'txt_sentoken/neg/cv129_18373.txt',\n",
       " 'txt_sentoken/neg/cv130_18521.txt',\n",
       " 'txt_sentoken/neg/cv131_11568.txt',\n",
       " 'txt_sentoken/neg/cv132_5423.txt',\n",
       " 'txt_sentoken/neg/cv133_18065.txt',\n",
       " 'txt_sentoken/neg/cv134_23300.txt',\n",
       " 'txt_sentoken/neg/cv135_12506.txt',\n",
       " 'txt_sentoken/neg/cv136_12384.txt',\n",
       " 'txt_sentoken/neg/cv137_17020.txt',\n",
       " 'txt_sentoken/neg/cv138_13903.txt',\n",
       " 'txt_sentoken/neg/cv139_14236.txt',\n",
       " 'txt_sentoken/neg/cv140_7963.txt',\n",
       " 'txt_sentoken/neg/cv141_17179.txt',\n",
       " 'txt_sentoken/neg/cv142_23657.txt',\n",
       " 'txt_sentoken/neg/cv143_21158.txt',\n",
       " 'txt_sentoken/neg/cv144_5010.txt',\n",
       " 'txt_sentoken/neg/cv145_12239.txt',\n",
       " 'txt_sentoken/neg/cv146_19587.txt',\n",
       " 'txt_sentoken/neg/cv147_22625.txt',\n",
       " 'txt_sentoken/neg/cv148_18084.txt',\n",
       " 'txt_sentoken/neg/cv149_17084.txt',\n",
       " 'txt_sentoken/neg/cv150_14279.txt',\n",
       " 'txt_sentoken/neg/cv151_17231.txt',\n",
       " 'txt_sentoken/neg/cv152_9052.txt',\n",
       " 'txt_sentoken/neg/cv153_11607.txt',\n",
       " 'txt_sentoken/neg/cv154_9562.txt',\n",
       " 'txt_sentoken/neg/cv155_7845.txt',\n",
       " 'txt_sentoken/neg/cv156_11119.txt',\n",
       " 'txt_sentoken/neg/cv157_29302.txt',\n",
       " 'txt_sentoken/neg/cv158_10914.txt',\n",
       " 'txt_sentoken/neg/cv159_29374.txt',\n",
       " 'txt_sentoken/neg/cv160_10848.txt',\n",
       " 'txt_sentoken/neg/cv161_12224.txt',\n",
       " 'txt_sentoken/neg/cv162_10977.txt',\n",
       " 'txt_sentoken/neg/cv163_10110.txt',\n",
       " 'txt_sentoken/neg/cv164_23451.txt',\n",
       " 'txt_sentoken/neg/cv165_2389.txt',\n",
       " 'txt_sentoken/neg/cv166_11959.txt',\n",
       " 'txt_sentoken/neg/cv167_18094.txt',\n",
       " 'txt_sentoken/neg/cv168_7435.txt',\n",
       " 'txt_sentoken/neg/cv169_24973.txt',\n",
       " 'txt_sentoken/neg/cv170_29808.txt',\n",
       " 'txt_sentoken/neg/cv171_15164.txt',\n",
       " 'txt_sentoken/neg/cv172_12037.txt',\n",
       " 'txt_sentoken/neg/cv173_4295.txt',\n",
       " 'txt_sentoken/neg/cv174_9735.txt',\n",
       " 'txt_sentoken/neg/cv175_7375.txt',\n",
       " 'txt_sentoken/neg/cv176_14196.txt',\n",
       " 'txt_sentoken/neg/cv177_10904.txt',\n",
       " 'txt_sentoken/neg/cv178_14380.txt',\n",
       " 'txt_sentoken/neg/cv179_9533.txt',\n",
       " 'txt_sentoken/neg/cv180_17823.txt',\n",
       " 'txt_sentoken/neg/cv181_16083.txt',\n",
       " 'txt_sentoken/neg/cv182_7791.txt',\n",
       " 'txt_sentoken/neg/cv183_19826.txt',\n",
       " 'txt_sentoken/neg/cv184_26935.txt',\n",
       " 'txt_sentoken/neg/cv185_28372.txt',\n",
       " 'txt_sentoken/neg/cv186_2396.txt',\n",
       " 'txt_sentoken/neg/cv187_14112.txt',\n",
       " 'txt_sentoken/neg/cv188_20687.txt',\n",
       " 'txt_sentoken/neg/cv189_24248.txt',\n",
       " 'txt_sentoken/neg/cv190_27176.txt',\n",
       " 'txt_sentoken/neg/cv191_29539.txt',\n",
       " 'txt_sentoken/neg/cv192_16079.txt',\n",
       " 'txt_sentoken/neg/cv193_5393.txt',\n",
       " 'txt_sentoken/neg/cv194_12855.txt',\n",
       " 'txt_sentoken/neg/cv195_16146.txt',\n",
       " 'txt_sentoken/neg/cv196_28898.txt',\n",
       " 'txt_sentoken/neg/cv197_29271.txt',\n",
       " 'txt_sentoken/neg/cv198_19313.txt',\n",
       " 'txt_sentoken/neg/cv199_9721.txt',\n",
       " 'txt_sentoken/neg/cv200_29006.txt',\n",
       " 'txt_sentoken/neg/cv201_7421.txt',\n",
       " 'txt_sentoken/neg/cv202_11382.txt',\n",
       " 'txt_sentoken/neg/cv203_19052.txt',\n",
       " 'txt_sentoken/neg/cv204_8930.txt',\n",
       " 'txt_sentoken/neg/cv205_9676.txt',\n",
       " 'txt_sentoken/neg/cv206_15893.txt',\n",
       " 'txt_sentoken/neg/cv207_29141.txt',\n",
       " 'txt_sentoken/neg/cv208_9475.txt',\n",
       " 'txt_sentoken/neg/cv209_28973.txt',\n",
       " 'txt_sentoken/neg/cv210_9557.txt',\n",
       " 'txt_sentoken/neg/cv211_9955.txt',\n",
       " 'txt_sentoken/neg/cv212_10054.txt',\n",
       " 'txt_sentoken/neg/cv213_20300.txt',\n",
       " 'txt_sentoken/neg/cv214_13285.txt',\n",
       " 'txt_sentoken/neg/cv215_23246.txt',\n",
       " 'txt_sentoken/neg/cv216_20165.txt',\n",
       " 'txt_sentoken/neg/cv217_28707.txt',\n",
       " 'txt_sentoken/neg/cv218_25651.txt',\n",
       " 'txt_sentoken/neg/cv219_19874.txt',\n",
       " 'txt_sentoken/neg/cv220_28906.txt',\n",
       " 'txt_sentoken/neg/cv221_27081.txt',\n",
       " 'txt_sentoken/neg/cv222_18720.txt',\n",
       " 'txt_sentoken/neg/cv223_28923.txt',\n",
       " 'txt_sentoken/neg/cv224_18875.txt',\n",
       " 'txt_sentoken/neg/cv225_29083.txt',\n",
       " 'txt_sentoken/neg/cv226_26692.txt',\n",
       " 'txt_sentoken/neg/cv227_25406.txt',\n",
       " 'txt_sentoken/neg/cv228_5644.txt',\n",
       " 'txt_sentoken/neg/cv229_15200.txt',\n",
       " 'txt_sentoken/neg/cv230_7913.txt',\n",
       " 'txt_sentoken/neg/cv231_11028.txt',\n",
       " 'txt_sentoken/neg/cv232_16768.txt',\n",
       " 'txt_sentoken/neg/cv233_17614.txt',\n",
       " 'txt_sentoken/neg/cv234_22123.txt',\n",
       " 'txt_sentoken/neg/cv235_10704.txt',\n",
       " 'txt_sentoken/neg/cv236_12427.txt',\n",
       " 'txt_sentoken/neg/cv237_20635.txt',\n",
       " 'txt_sentoken/neg/cv238_14285.txt',\n",
       " 'txt_sentoken/neg/cv239_29828.txt',\n",
       " 'txt_sentoken/neg/cv240_15948.txt',\n",
       " 'txt_sentoken/neg/cv241_24602.txt',\n",
       " 'txt_sentoken/neg/cv242_11354.txt',\n",
       " 'txt_sentoken/neg/cv243_22164.txt',\n",
       " 'txt_sentoken/neg/cv244_22935.txt',\n",
       " 'txt_sentoken/neg/cv245_8938.txt',\n",
       " 'txt_sentoken/neg/cv246_28668.txt',\n",
       " 'txt_sentoken/neg/cv247_14668.txt',\n",
       " 'txt_sentoken/neg/cv248_15672.txt',\n",
       " 'txt_sentoken/neg/cv249_12674.txt',\n",
       " 'txt_sentoken/neg/cv250_26462.txt',\n",
       " 'txt_sentoken/neg/cv251_23901.txt',\n",
       " 'txt_sentoken/neg/cv252_24974.txt',\n",
       " 'txt_sentoken/neg/cv253_10190.txt',\n",
       " 'txt_sentoken/neg/cv254_5870.txt',\n",
       " 'txt_sentoken/neg/cv255_15267.txt',\n",
       " 'txt_sentoken/neg/cv256_16529.txt',\n",
       " 'txt_sentoken/neg/cv257_11856.txt',\n",
       " 'txt_sentoken/neg/cv258_5627.txt',\n",
       " 'txt_sentoken/neg/cv259_11827.txt',\n",
       " 'txt_sentoken/neg/cv260_15652.txt',\n",
       " 'txt_sentoken/neg/cv261_11855.txt',\n",
       " 'txt_sentoken/neg/cv262_13812.txt',\n",
       " 'txt_sentoken/neg/cv263_20693.txt',\n",
       " 'txt_sentoken/neg/cv264_14108.txt',\n",
       " 'txt_sentoken/neg/cv265_11625.txt',\n",
       " 'txt_sentoken/neg/cv266_26644.txt',\n",
       " 'txt_sentoken/neg/cv267_16618.txt',\n",
       " 'txt_sentoken/neg/cv268_20288.txt',\n",
       " 'txt_sentoken/neg/cv269_23018.txt',\n",
       " 'txt_sentoken/neg/cv270_5873.txt',\n",
       " 'txt_sentoken/neg/cv271_15364.txt',\n",
       " 'txt_sentoken/neg/cv272_20313.txt',\n",
       " 'txt_sentoken/neg/cv273_28961.txt',\n",
       " 'txt_sentoken/neg/cv274_26379.txt',\n",
       " 'txt_sentoken/neg/cv275_28725.txt',\n",
       " 'txt_sentoken/neg/cv276_17126.txt',\n",
       " 'txt_sentoken/neg/cv277_20467.txt',\n",
       " 'txt_sentoken/neg/cv278_14533.txt',\n",
       " 'txt_sentoken/neg/cv279_19452.txt',\n",
       " 'txt_sentoken/neg/cv280_8651.txt',\n",
       " 'txt_sentoken/neg/cv281_24711.txt',\n",
       " 'txt_sentoken/neg/cv282_6833.txt',\n",
       " 'txt_sentoken/neg/cv283_11963.txt',\n",
       " 'txt_sentoken/neg/cv284_20530.txt',\n",
       " 'txt_sentoken/neg/cv285_18186.txt',\n",
       " 'txt_sentoken/neg/cv286_26156.txt',\n",
       " 'txt_sentoken/neg/cv287_17410.txt',\n",
       " 'txt_sentoken/neg/cv288_20212.txt',\n",
       " 'txt_sentoken/neg/cv289_6239.txt',\n",
       " 'txt_sentoken/neg/cv290_11981.txt',\n",
       " 'txt_sentoken/neg/cv291_26844.txt',\n",
       " 'txt_sentoken/neg/cv292_7804.txt',\n",
       " 'txt_sentoken/neg/cv293_29731.txt',\n",
       " 'txt_sentoken/neg/cv294_12695.txt',\n",
       " 'txt_sentoken/neg/cv295_17060.txt',\n",
       " 'txt_sentoken/neg/cv296_13146.txt',\n",
       " 'txt_sentoken/neg/cv297_10104.txt',\n",
       " 'txt_sentoken/neg/cv298_24487.txt',\n",
       " 'txt_sentoken/neg/cv299_17950.txt',\n",
       " 'txt_sentoken/neg/cv300_23302.txt',\n",
       " 'txt_sentoken/neg/cv301_13010.txt',\n",
       " 'txt_sentoken/neg/cv302_26481.txt',\n",
       " 'txt_sentoken/neg/cv303_27366.txt',\n",
       " 'txt_sentoken/neg/cv304_28489.txt',\n",
       " 'txt_sentoken/neg/cv305_9937.txt',\n",
       " 'txt_sentoken/neg/cv306_10859.txt',\n",
       " 'txt_sentoken/neg/cv307_26382.txt',\n",
       " 'txt_sentoken/neg/cv308_5079.txt',\n",
       " 'txt_sentoken/neg/cv309_23737.txt',\n",
       " 'txt_sentoken/neg/cv310_14568.txt',\n",
       " 'txt_sentoken/neg/cv311_17708.txt',\n",
       " 'txt_sentoken/neg/cv312_29308.txt',\n",
       " 'txt_sentoken/neg/cv313_19337.txt',\n",
       " 'txt_sentoken/neg/cv314_16095.txt',\n",
       " 'txt_sentoken/neg/cv315_12638.txt',\n",
       " 'txt_sentoken/neg/cv316_5972.txt',\n",
       " 'txt_sentoken/neg/cv317_25111.txt',\n",
       " 'txt_sentoken/neg/cv318_11146.txt',\n",
       " 'txt_sentoken/neg/cv319_16459.txt',\n",
       " 'txt_sentoken/neg/cv320_9693.txt',\n",
       " 'txt_sentoken/neg/cv321_14191.txt',\n",
       " 'txt_sentoken/neg/cv322_21820.txt',\n",
       " 'txt_sentoken/neg/cv323_29633.txt',\n",
       " 'txt_sentoken/neg/cv324_7502.txt',\n",
       " 'txt_sentoken/neg/cv325_18330.txt',\n",
       " 'txt_sentoken/neg/cv326_14777.txt',\n",
       " 'txt_sentoken/neg/cv327_21743.txt',\n",
       " 'txt_sentoken/neg/cv328_10908.txt',\n",
       " 'txt_sentoken/neg/cv329_29293.txt',\n",
       " 'txt_sentoken/neg/cv330_29675.txt',\n",
       " 'txt_sentoken/neg/cv331_8656.txt',\n",
       " 'txt_sentoken/neg/cv332_17997.txt',\n",
       " 'txt_sentoken/neg/cv333_9443.txt',\n",
       " 'txt_sentoken/neg/cv334_0074.txt',\n",
       " 'txt_sentoken/neg/cv335_16299.txt',\n",
       " 'txt_sentoken/neg/cv336_10363.txt',\n",
       " 'txt_sentoken/neg/cv337_29061.txt',\n",
       " 'txt_sentoken/neg/cv338_9183.txt',\n",
       " 'txt_sentoken/neg/cv339_22452.txt',\n",
       " 'txt_sentoken/neg/cv340_14776.txt',\n",
       " 'txt_sentoken/neg/cv341_25667.txt',\n",
       " 'txt_sentoken/neg/cv342_20917.txt',\n",
       " 'txt_sentoken/neg/cv343_10906.txt',\n",
       " 'txt_sentoken/neg/cv344_5376.txt',\n",
       " 'txt_sentoken/neg/cv345_9966.txt',\n",
       " 'txt_sentoken/neg/cv346_19198.txt',\n",
       " 'txt_sentoken/neg/cv347_14722.txt',\n",
       " 'txt_sentoken/neg/cv348_19207.txt',\n",
       " 'txt_sentoken/neg/cv349_15032.txt',\n",
       " 'txt_sentoken/neg/cv350_22139.txt',\n",
       " 'txt_sentoken/neg/cv351_17029.txt',\n",
       " 'txt_sentoken/neg/cv352_5414.txt',\n",
       " 'txt_sentoken/neg/cv353_19197.txt',\n",
       " 'txt_sentoken/neg/cv354_8573.txt',\n",
       " 'txt_sentoken/neg/cv355_18174.txt',\n",
       " 'txt_sentoken/neg/cv356_26170.txt',\n",
       " 'txt_sentoken/neg/cv357_14710.txt',\n",
       " 'txt_sentoken/neg/cv358_11557.txt',\n",
       " 'txt_sentoken/neg/cv359_6751.txt',\n",
       " 'txt_sentoken/neg/cv360_8927.txt',\n",
       " 'txt_sentoken/neg/cv361_28738.txt',\n",
       " 'txt_sentoken/neg/cv362_16985.txt',\n",
       " 'txt_sentoken/neg/cv363_29273.txt',\n",
       " 'txt_sentoken/neg/cv364_14254.txt',\n",
       " 'txt_sentoken/neg/cv365_12442.txt',\n",
       " 'txt_sentoken/neg/cv366_10709.txt',\n",
       " 'txt_sentoken/neg/cv367_24065.txt',\n",
       " 'txt_sentoken/neg/cv368_11090.txt',\n",
       " 'txt_sentoken/neg/cv369_14245.txt',\n",
       " 'txt_sentoken/neg/cv370_5338.txt',\n",
       " 'txt_sentoken/neg/cv371_8197.txt',\n",
       " 'txt_sentoken/neg/cv372_6654.txt',\n",
       " 'txt_sentoken/neg/cv373_21872.txt',\n",
       " 'txt_sentoken/neg/cv374_26455.txt',\n",
       " 'txt_sentoken/neg/cv375_9932.txt',\n",
       " 'txt_sentoken/neg/cv376_20883.txt',\n",
       " 'txt_sentoken/neg/cv377_8440.txt',\n",
       " 'txt_sentoken/neg/cv378_21982.txt',\n",
       " 'txt_sentoken/neg/cv379_23167.txt',\n",
       " 'txt_sentoken/neg/cv380_8164.txt',\n",
       " 'txt_sentoken/neg/cv381_21673.txt',\n",
       " 'txt_sentoken/neg/cv382_8393.txt',\n",
       " 'txt_sentoken/neg/cv383_14662.txt',\n",
       " 'txt_sentoken/neg/cv384_18536.txt',\n",
       " 'txt_sentoken/neg/cv385_29621.txt',\n",
       " 'txt_sentoken/neg/cv386_10229.txt',\n",
       " 'txt_sentoken/neg/cv387_12391.txt',\n",
       " 'txt_sentoken/neg/cv388_12810.txt',\n",
       " 'txt_sentoken/neg/cv389_9611.txt',\n",
       " 'txt_sentoken/neg/cv390_12187.txt',\n",
       " 'txt_sentoken/neg/cv391_11615.txt',\n",
       " 'txt_sentoken/neg/cv392_12238.txt',\n",
       " 'txt_sentoken/neg/cv393_29234.txt',\n",
       " 'txt_sentoken/neg/cv394_5311.txt',\n",
       " 'txt_sentoken/neg/cv395_11761.txt',\n",
       " 'txt_sentoken/neg/cv396_19127.txt',\n",
       " 'txt_sentoken/neg/cv397_28890.txt',\n",
       " 'txt_sentoken/neg/cv398_17047.txt',\n",
       " 'txt_sentoken/neg/cv399_28593.txt',\n",
       " 'txt_sentoken/neg/cv400_20631.txt',\n",
       " 'txt_sentoken/neg/cv401_13758.txt',\n",
       " 'txt_sentoken/neg/cv402_16097.txt',\n",
       " 'txt_sentoken/neg/cv403_6721.txt',\n",
       " 'txt_sentoken/neg/cv404_21805.txt',\n",
       " 'txt_sentoken/neg/cv405_21868.txt',\n",
       " 'txt_sentoken/neg/cv406_22199.txt',\n",
       " 'txt_sentoken/neg/cv407_23928.txt',\n",
       " 'txt_sentoken/neg/cv408_5367.txt',\n",
       " 'txt_sentoken/neg/cv409_29625.txt',\n",
       " 'txt_sentoken/neg/cv410_25624.txt',\n",
       " 'txt_sentoken/neg/cv411_16799.txt',\n",
       " 'txt_sentoken/neg/cv412_25254.txt',\n",
       " 'txt_sentoken/neg/cv413_7893.txt',\n",
       " 'txt_sentoken/neg/cv414_11161.txt',\n",
       " 'txt_sentoken/neg/cv415_23674.txt',\n",
       " 'txt_sentoken/neg/cv416_12048.txt',\n",
       " 'txt_sentoken/neg/cv417_14653.txt',\n",
       " 'txt_sentoken/neg/cv418_16562.txt',\n",
       " 'txt_sentoken/neg/cv419_14799.txt',\n",
       " 'txt_sentoken/neg/cv420_28631.txt',\n",
       " 'txt_sentoken/neg/cv421_9752.txt',\n",
       " 'txt_sentoken/neg/cv422_9632.txt',\n",
       " 'txt_sentoken/neg/cv423_12089.txt',\n",
       " 'txt_sentoken/neg/cv424_9268.txt',\n",
       " 'txt_sentoken/neg/cv425_8603.txt',\n",
       " 'txt_sentoken/neg/cv426_10976.txt',\n",
       " 'txt_sentoken/neg/cv427_11693.txt',\n",
       " 'txt_sentoken/neg/cv428_12202.txt',\n",
       " 'txt_sentoken/neg/cv429_7937.txt',\n",
       " 'txt_sentoken/neg/cv430_18662.txt',\n",
       " 'txt_sentoken/neg/cv431_7538.txt',\n",
       " 'txt_sentoken/neg/cv432_15873.txt',\n",
       " 'txt_sentoken/neg/cv433_10443.txt',\n",
       " 'txt_sentoken/neg/cv434_5641.txt',\n",
       " 'txt_sentoken/neg/cv435_24355.txt',\n",
       " 'txt_sentoken/neg/cv436_20564.txt',\n",
       " 'txt_sentoken/neg/cv437_24070.txt',\n",
       " 'txt_sentoken/neg/cv438_8500.txt',\n",
       " 'txt_sentoken/neg/cv439_17633.txt',\n",
       " 'txt_sentoken/neg/cv440_16891.txt',\n",
       " 'txt_sentoken/neg/cv441_15276.txt',\n",
       " 'txt_sentoken/neg/cv442_15499.txt',\n",
       " 'txt_sentoken/neg/cv443_22367.txt',\n",
       " 'txt_sentoken/neg/cv444_9975.txt',\n",
       " 'txt_sentoken/neg/cv445_26683.txt',\n",
       " 'txt_sentoken/neg/cv446_12209.txt',\n",
       " 'txt_sentoken/neg/cv447_27334.txt',\n",
       " 'txt_sentoken/neg/cv448_16409.txt',\n",
       " 'txt_sentoken/neg/cv449_9126.txt',\n",
       " 'txt_sentoken/neg/cv450_8319.txt',\n",
       " 'txt_sentoken/neg/cv451_11502.txt',\n",
       " 'txt_sentoken/neg/cv452_5179.txt',\n",
       " 'txt_sentoken/neg/cv453_10911.txt',\n",
       " 'txt_sentoken/neg/cv454_21961.txt',\n",
       " 'txt_sentoken/neg/cv455_28866.txt',\n",
       " 'txt_sentoken/neg/cv456_20370.txt',\n",
       " 'txt_sentoken/neg/cv457_19546.txt',\n",
       " 'txt_sentoken/neg/cv458_9000.txt',\n",
       " 'txt_sentoken/neg/cv459_21834.txt',\n",
       " 'txt_sentoken/neg/cv460_11723.txt',\n",
       " 'txt_sentoken/neg/cv461_21124.txt',\n",
       " 'txt_sentoken/neg/cv462_20788.txt',\n",
       " 'txt_sentoken/neg/cv463_10846.txt',\n",
       " 'txt_sentoken/neg/cv464_17076.txt',\n",
       " 'txt_sentoken/neg/cv465_23401.txt',\n",
       " 'txt_sentoken/neg/cv466_20092.txt',\n",
       " 'txt_sentoken/neg/cv467_26610.txt',\n",
       " 'txt_sentoken/neg/cv468_16844.txt',\n",
       " 'txt_sentoken/neg/cv469_21998.txt',\n",
       " 'txt_sentoken/neg/cv470_17444.txt',\n",
       " 'txt_sentoken/neg/cv471_18405.txt',\n",
       " 'txt_sentoken/neg/cv472_29140.txt',\n",
       " 'txt_sentoken/neg/cv473_7869.txt',\n",
       " 'txt_sentoken/neg/cv474_10682.txt',\n",
       " 'txt_sentoken/neg/cv475_22978.txt',\n",
       " 'txt_sentoken/neg/cv476_18402.txt',\n",
       " 'txt_sentoken/neg/cv477_23530.txt',\n",
       " 'txt_sentoken/neg/cv478_15921.txt',\n",
       " 'txt_sentoken/neg/cv479_5450.txt',\n",
       " 'txt_sentoken/neg/cv480_21195.txt',\n",
       " 'txt_sentoken/neg/cv481_7930.txt',\n",
       " 'txt_sentoken/neg/cv482_11233.txt',\n",
       " 'txt_sentoken/neg/cv483_18103.txt',\n",
       " 'txt_sentoken/neg/cv484_26169.txt',\n",
       " 'txt_sentoken/neg/cv485_26879.txt',\n",
       " 'txt_sentoken/neg/cv486_9788.txt',\n",
       " 'txt_sentoken/neg/cv487_11058.txt',\n",
       " 'txt_sentoken/neg/cv488_21453.txt',\n",
       " 'txt_sentoken/neg/cv489_19046.txt',\n",
       " 'txt_sentoken/neg/cv490_18986.txt',\n",
       " 'txt_sentoken/neg/cv491_12992.txt',\n",
       " 'txt_sentoken/neg/cv492_19370.txt',\n",
       " 'txt_sentoken/neg/cv493_14135.txt',\n",
       " 'txt_sentoken/neg/cv494_18689.txt',\n",
       " 'txt_sentoken/neg/cv495_16121.txt',\n",
       " 'txt_sentoken/neg/cv496_11185.txt',\n",
       " 'txt_sentoken/neg/cv497_27086.txt',\n",
       " 'txt_sentoken/neg/cv498_9288.txt',\n",
       " 'txt_sentoken/neg/cv499_11407.txt',\n",
       " 'txt_sentoken/neg/cv500_10722.txt',\n",
       " 'txt_sentoken/neg/cv501_12675.txt',\n",
       " 'txt_sentoken/neg/cv502_10970.txt',\n",
       " 'txt_sentoken/neg/cv503_11196.txt',\n",
       " 'txt_sentoken/neg/cv504_29120.txt',\n",
       " 'txt_sentoken/neg/cv505_12926.txt',\n",
       " 'txt_sentoken/neg/cv506_17521.txt',\n",
       " 'txt_sentoken/neg/cv507_9509.txt',\n",
       " 'txt_sentoken/neg/cv508_17742.txt',\n",
       " 'txt_sentoken/neg/cv509_17354.txt',\n",
       " 'txt_sentoken/neg/cv510_24758.txt',\n",
       " 'txt_sentoken/neg/cv511_10360.txt',\n",
       " 'txt_sentoken/neg/cv512_17618.txt',\n",
       " 'txt_sentoken/neg/cv513_7236.txt',\n",
       " 'txt_sentoken/neg/cv514_12173.txt',\n",
       " 'txt_sentoken/neg/cv515_18484.txt',\n",
       " 'txt_sentoken/neg/cv516_12117.txt',\n",
       " 'txt_sentoken/neg/cv517_20616.txt',\n",
       " 'txt_sentoken/neg/cv518_14798.txt',\n",
       " 'txt_sentoken/neg/cv519_16239.txt',\n",
       " 'txt_sentoken/neg/cv520_13297.txt',\n",
       " 'txt_sentoken/neg/cv521_1730.txt',\n",
       " 'txt_sentoken/neg/cv522_5418.txt',\n",
       " 'txt_sentoken/neg/cv523_18285.txt',\n",
       " 'txt_sentoken/neg/cv524_24885.txt',\n",
       " 'txt_sentoken/neg/cv525_17930.txt',\n",
       " 'txt_sentoken/neg/cv526_12868.txt',\n",
       " 'txt_sentoken/neg/cv527_10338.txt',\n",
       " 'txt_sentoken/neg/cv528_11669.txt',\n",
       " 'txt_sentoken/neg/cv529_10972.txt',\n",
       " 'txt_sentoken/neg/cv530_17949.txt',\n",
       " 'txt_sentoken/neg/cv531_26838.txt',\n",
       " 'txt_sentoken/neg/cv532_6495.txt',\n",
       " 'txt_sentoken/neg/cv533_9843.txt',\n",
       " 'txt_sentoken/neg/cv534_15683.txt',\n",
       " 'txt_sentoken/neg/cv535_21183.txt',\n",
       " 'txt_sentoken/neg/cv536_27221.txt',\n",
       " 'txt_sentoken/neg/cv537_13516.txt',\n",
       " 'txt_sentoken/neg/cv538_28485.txt',\n",
       " 'txt_sentoken/neg/cv539_21865.txt',\n",
       " 'txt_sentoken/neg/cv540_3092.txt',\n",
       " 'txt_sentoken/neg/cv541_28683.txt',\n",
       " 'txt_sentoken/neg/cv542_20359.txt',\n",
       " 'txt_sentoken/neg/cv543_5107.txt',\n",
       " 'txt_sentoken/neg/cv544_5301.txt',\n",
       " 'txt_sentoken/neg/cv545_12848.txt',\n",
       " 'txt_sentoken/neg/cv546_12723.txt',\n",
       " 'txt_sentoken/neg/cv547_18043.txt',\n",
       " 'txt_sentoken/neg/cv548_18944.txt',\n",
       " 'txt_sentoken/neg/cv549_22771.txt',\n",
       " 'txt_sentoken/neg/cv550_23226.txt',\n",
       " 'txt_sentoken/neg/cv551_11214.txt',\n",
       " 'txt_sentoken/neg/cv552_0150.txt',\n",
       " 'txt_sentoken/neg/cv553_26965.txt',\n",
       " 'txt_sentoken/neg/cv554_14678.txt',\n",
       " 'txt_sentoken/neg/cv555_25047.txt',\n",
       " 'txt_sentoken/neg/cv556_16563.txt',\n",
       " 'txt_sentoken/neg/cv557_12237.txt',\n",
       " 'txt_sentoken/neg/cv558_29376.txt',\n",
       " 'txt_sentoken/neg/cv559_0057.txt',\n",
       " 'txt_sentoken/neg/cv560_18608.txt',\n",
       " 'txt_sentoken/neg/cv561_9484.txt',\n",
       " 'txt_sentoken/neg/cv562_10847.txt',\n",
       " 'txt_sentoken/neg/cv563_18610.txt',\n",
       " 'txt_sentoken/neg/cv564_12011.txt',\n",
       " 'txt_sentoken/neg/cv565_29403.txt',\n",
       " 'txt_sentoken/neg/cv566_8967.txt',\n",
       " 'txt_sentoken/neg/cv567_29420.txt',\n",
       " 'txt_sentoken/neg/cv568_17065.txt',\n",
       " 'txt_sentoken/neg/cv569_26750.txt',\n",
       " 'txt_sentoken/neg/cv570_28960.txt',\n",
       " 'txt_sentoken/neg/cv571_29292.txt',\n",
       " 'txt_sentoken/neg/cv572_20053.txt',\n",
       " 'txt_sentoken/neg/cv573_29384.txt',\n",
       " 'txt_sentoken/neg/cv574_23191.txt',\n",
       " 'txt_sentoken/neg/cv575_22598.txt',\n",
       " 'txt_sentoken/neg/cv576_15688.txt',\n",
       " 'txt_sentoken/neg/cv577_28220.txt',\n",
       " 'txt_sentoken/neg/cv578_16825.txt',\n",
       " 'txt_sentoken/neg/cv579_12542.txt',\n",
       " 'txt_sentoken/neg/cv580_15681.txt',\n",
       " 'txt_sentoken/neg/cv581_20790.txt',\n",
       " 'txt_sentoken/neg/cv582_6678.txt',\n",
       " 'txt_sentoken/neg/cv583_29465.txt',\n",
       " 'txt_sentoken/neg/cv584_29549.txt',\n",
       " 'txt_sentoken/neg/cv585_23576.txt',\n",
       " 'txt_sentoken/neg/cv586_8048.txt',\n",
       " 'txt_sentoken/neg/cv587_20532.txt',\n",
       " 'txt_sentoken/neg/cv588_14467.txt',\n",
       " 'txt_sentoken/neg/cv589_12853.txt',\n",
       " 'txt_sentoken/neg/cv590_20712.txt',\n",
       " 'txt_sentoken/neg/cv591_24887.txt',\n",
       " 'txt_sentoken/neg/cv592_23391.txt',\n",
       " 'txt_sentoken/neg/cv593_11931.txt',\n",
       " 'txt_sentoken/neg/cv594_11945.txt',\n",
       " 'txt_sentoken/neg/cv595_26420.txt',\n",
       " 'txt_sentoken/neg/cv596_4367.txt',\n",
       " 'txt_sentoken/neg/cv597_26744.txt',\n",
       " 'txt_sentoken/neg/cv598_18184.txt',\n",
       " 'txt_sentoken/neg/cv599_22197.txt',\n",
       " 'txt_sentoken/neg/cv600_25043.txt',\n",
       " 'txt_sentoken/neg/cv601_24759.txt',\n",
       " 'txt_sentoken/neg/cv602_8830.txt',\n",
       " 'txt_sentoken/neg/cv603_18885.txt',\n",
       " 'txt_sentoken/neg/cv604_23339.txt',\n",
       " 'txt_sentoken/neg/cv605_12730.txt',\n",
       " 'txt_sentoken/neg/cv606_17672.txt',\n",
       " 'txt_sentoken/neg/cv607_8235.txt',\n",
       " 'txt_sentoken/neg/cv608_24647.txt',\n",
       " 'txt_sentoken/neg/cv609_25038.txt',\n",
       " 'txt_sentoken/neg/cv610_24153.txt',\n",
       " 'txt_sentoken/neg/cv611_2253.txt',\n",
       " 'txt_sentoken/neg/cv612_5396.txt',\n",
       " 'txt_sentoken/neg/cv613_23104.txt',\n",
       " 'txt_sentoken/neg/cv614_11320.txt',\n",
       " 'txt_sentoken/neg/cv615_15734.txt',\n",
       " 'txt_sentoken/neg/cv616_29187.txt',\n",
       " 'txt_sentoken/neg/cv617_9561.txt',\n",
       " 'txt_sentoken/neg/cv618_9469.txt',\n",
       " 'txt_sentoken/neg/cv619_13677.txt',\n",
       " 'txt_sentoken/neg/cv620_2556.txt',\n",
       " 'txt_sentoken/neg/cv621_15984.txt',\n",
       " 'txt_sentoken/neg/cv622_8583.txt',\n",
       " 'txt_sentoken/neg/cv623_16988.txt',\n",
       " 'txt_sentoken/neg/cv624_11601.txt',\n",
       " 'txt_sentoken/neg/cv625_13518.txt',\n",
       " 'txt_sentoken/neg/cv626_7907.txt',\n",
       " 'txt_sentoken/neg/cv627_12603.txt',\n",
       " 'txt_sentoken/neg/cv628_20758.txt',\n",
       " 'txt_sentoken/neg/cv629_16604.txt',\n",
       " 'txt_sentoken/neg/cv630_10152.txt',\n",
       " 'txt_sentoken/neg/cv631_4782.txt',\n",
       " 'txt_sentoken/neg/cv632_9704.txt',\n",
       " 'txt_sentoken/neg/cv633_29730.txt',\n",
       " 'txt_sentoken/neg/cv634_11989.txt',\n",
       " 'txt_sentoken/neg/cv635_0984.txt',\n",
       " 'txt_sentoken/neg/cv636_16954.txt',\n",
       " 'txt_sentoken/neg/cv637_13682.txt',\n",
       " 'txt_sentoken/neg/cv638_29394.txt',\n",
       " 'txt_sentoken/neg/cv639_10797.txt',\n",
       " 'txt_sentoken/neg/cv640_5380.txt',\n",
       " 'txt_sentoken/neg/cv641_13412.txt',\n",
       " 'txt_sentoken/neg/cv642_29788.txt',\n",
       " 'txt_sentoken/neg/cv643_29282.txt',\n",
       " 'txt_sentoken/neg/cv644_18551.txt',\n",
       " 'txt_sentoken/neg/cv645_17078.txt',\n",
       " 'txt_sentoken/neg/cv646_16817.txt',\n",
       " 'txt_sentoken/neg/cv647_15275.txt',\n",
       " 'txt_sentoken/neg/cv648_17277.txt',\n",
       " 'txt_sentoken/neg/cv649_13947.txt',\n",
       " 'txt_sentoken/neg/cv650_15974.txt',\n",
       " 'txt_sentoken/neg/cv651_11120.txt',\n",
       " 'txt_sentoken/neg/cv652_15653.txt',\n",
       " 'txt_sentoken/neg/cv653_2107.txt',\n",
       " 'txt_sentoken/neg/cv654_19345.txt',\n",
       " 'txt_sentoken/neg/cv655_12055.txt',\n",
       " 'txt_sentoken/neg/cv656_25395.txt',\n",
       " 'txt_sentoken/neg/cv657_25835.txt',\n",
       " 'txt_sentoken/neg/cv658_11186.txt',\n",
       " 'txt_sentoken/neg/cv659_21483.txt',\n",
       " 'txt_sentoken/neg/cv660_23140.txt',\n",
       " 'txt_sentoken/neg/cv661_25780.txt',\n",
       " 'txt_sentoken/neg/cv662_14791.txt',\n",
       " 'txt_sentoken/neg/cv663_14484.txt',\n",
       " 'txt_sentoken/neg/cv664_4264.txt',\n",
       " 'txt_sentoken/neg/cv665_29386.txt',\n",
       " 'txt_sentoken/neg/cv666_20301.txt',\n",
       " 'txt_sentoken/neg/cv667_19672.txt',\n",
       " 'txt_sentoken/neg/cv668_18848.txt',\n",
       " 'txt_sentoken/neg/cv669_24318.txt',\n",
       " 'txt_sentoken/neg/cv670_2666.txt',\n",
       " 'txt_sentoken/neg/cv671_5164.txt',\n",
       " 'txt_sentoken/neg/cv672_27988.txt',\n",
       " 'txt_sentoken/neg/cv673_25874.txt',\n",
       " 'txt_sentoken/neg/cv674_11593.txt',\n",
       " 'txt_sentoken/neg/cv675_22871.txt',\n",
       " 'txt_sentoken/neg/cv676_22202.txt',\n",
       " 'txt_sentoken/neg/cv677_18938.txt',\n",
       " 'txt_sentoken/neg/cv678_14887.txt',\n",
       " 'txt_sentoken/neg/cv679_28221.txt',\n",
       " 'txt_sentoken/neg/cv680_10533.txt',\n",
       " 'txt_sentoken/neg/cv681_9744.txt',\n",
       " 'txt_sentoken/neg/cv682_17947.txt',\n",
       " 'txt_sentoken/neg/cv683_13047.txt',\n",
       " 'txt_sentoken/neg/cv684_12727.txt',\n",
       " 'txt_sentoken/neg/cv685_5710.txt',\n",
       " 'txt_sentoken/neg/cv686_15553.txt',\n",
       " 'txt_sentoken/neg/cv687_22207.txt',\n",
       " 'txt_sentoken/neg/cv688_7884.txt',\n",
       " 'txt_sentoken/neg/cv689_13701.txt',\n",
       " 'txt_sentoken/neg/cv690_5425.txt',\n",
       " 'txt_sentoken/neg/cv691_5090.txt',\n",
       " 'txt_sentoken/neg/cv692_17026.txt',\n",
       " 'txt_sentoken/neg/cv693_19147.txt',\n",
       " 'txt_sentoken/neg/cv694_4526.txt',\n",
       " 'txt_sentoken/neg/cv695_22268.txt',\n",
       " 'txt_sentoken/neg/cv696_29619.txt',\n",
       " 'txt_sentoken/neg/cv697_12106.txt',\n",
       " 'txt_sentoken/neg/cv698_16930.txt',\n",
       " 'txt_sentoken/neg/cv699_7773.txt',\n",
       " 'txt_sentoken/neg/cv700_23163.txt',\n",
       " 'txt_sentoken/neg/cv701_15880.txt',\n",
       " 'txt_sentoken/neg/cv702_12371.txt',\n",
       " 'txt_sentoken/neg/cv703_17948.txt',\n",
       " 'txt_sentoken/neg/cv704_17622.txt',\n",
       " 'txt_sentoken/neg/cv705_11973.txt',\n",
       " 'txt_sentoken/neg/cv706_25883.txt',\n",
       " 'txt_sentoken/neg/cv707_11421.txt',\n",
       " 'txt_sentoken/neg/cv708_28539.txt',\n",
       " 'txt_sentoken/neg/cv709_11173.txt',\n",
       " 'txt_sentoken/neg/cv710_23745.txt',\n",
       " 'txt_sentoken/neg/cv711_12687.txt',\n",
       " 'txt_sentoken/neg/cv712_24217.txt',\n",
       " 'txt_sentoken/neg/cv713_29002.txt',\n",
       " 'txt_sentoken/neg/cv714_19704.txt',\n",
       " 'txt_sentoken/neg/cv715_19246.txt',\n",
       " 'txt_sentoken/neg/cv716_11153.txt',\n",
       " 'txt_sentoken/neg/cv717_17472.txt',\n",
       " 'txt_sentoken/neg/cv718_12227.txt',\n",
       " 'txt_sentoken/neg/cv719_5581.txt',\n",
       " 'txt_sentoken/neg/cv720_5383.txt',\n",
       " 'txt_sentoken/neg/cv721_28993.txt',\n",
       " 'txt_sentoken/neg/cv722_7571.txt',\n",
       " 'txt_sentoken/neg/cv723_9002.txt',\n",
       " 'txt_sentoken/neg/cv724_15265.txt',\n",
       " 'txt_sentoken/neg/cv725_10266.txt',\n",
       " 'txt_sentoken/neg/cv726_4365.txt',\n",
       " 'txt_sentoken/neg/cv727_5006.txt',\n",
       " 'txt_sentoken/neg/cv728_17931.txt',\n",
       " 'txt_sentoken/neg/cv729_10475.txt',\n",
       " 'txt_sentoken/neg/cv730_10729.txt',\n",
       " 'txt_sentoken/neg/cv731_3968.txt',\n",
       " 'txt_sentoken/neg/cv732_13092.txt',\n",
       " 'txt_sentoken/neg/cv733_9891.txt',\n",
       " 'txt_sentoken/neg/cv734_22821.txt',\n",
       " 'txt_sentoken/neg/cv735_20218.txt',\n",
       " 'txt_sentoken/neg/cv736_24947.txt',\n",
       " 'txt_sentoken/neg/cv737_28733.txt',\n",
       " 'txt_sentoken/neg/cv738_10287.txt',\n",
       " 'txt_sentoken/neg/cv739_12179.txt',\n",
       " 'txt_sentoken/neg/cv740_13643.txt',\n",
       " 'txt_sentoken/neg/cv741_12765.txt',\n",
       " 'txt_sentoken/neg/cv742_8279.txt',\n",
       " 'txt_sentoken/neg/cv743_17023.txt',\n",
       " 'txt_sentoken/neg/cv744_10091.txt',\n",
       " 'txt_sentoken/neg/cv745_14009.txt',\n",
       " 'txt_sentoken/neg/cv746_10471.txt',\n",
       " 'txt_sentoken/neg/cv747_18189.txt',\n",
       " 'txt_sentoken/neg/cv748_14044.txt',\n",
       " 'txt_sentoken/neg/cv749_18960.txt',\n",
       " 'txt_sentoken/neg/cv750_10606.txt',\n",
       " 'txt_sentoken/neg/cv751_17208.txt',\n",
       " 'txt_sentoken/neg/cv752_25330.txt',\n",
       " 'txt_sentoken/neg/cv753_11812.txt',\n",
       " 'txt_sentoken/neg/cv754_7709.txt',\n",
       " 'txt_sentoken/neg/cv755_24881.txt',\n",
       " 'txt_sentoken/neg/cv756_23676.txt',\n",
       " 'txt_sentoken/neg/cv757_10668.txt',\n",
       " 'txt_sentoken/neg/cv758_9740.txt',\n",
       " 'txt_sentoken/neg/cv759_15091.txt',\n",
       " 'txt_sentoken/neg/cv760_8977.txt',\n",
       " 'txt_sentoken/neg/cv761_13769.txt',\n",
       " 'txt_sentoken/neg/cv762_15604.txt',\n",
       " 'txt_sentoken/neg/cv763_16486.txt',\n",
       " 'txt_sentoken/neg/cv764_12701.txt',\n",
       " 'txt_sentoken/neg/cv765_20429.txt',\n",
       " 'txt_sentoken/neg/cv766_7983.txt',\n",
       " 'txt_sentoken/neg/cv767_15673.txt',\n",
       " 'txt_sentoken/neg/cv768_12709.txt',\n",
       " 'txt_sentoken/neg/cv769_8565.txt',\n",
       " 'txt_sentoken/neg/cv770_11061.txt',\n",
       " 'txt_sentoken/neg/cv771_28466.txt',\n",
       " 'txt_sentoken/neg/cv772_12971.txt',\n",
       " 'txt_sentoken/neg/cv773_20264.txt',\n",
       " 'txt_sentoken/neg/cv774_15488.txt',\n",
       " 'txt_sentoken/neg/cv775_17966.txt',\n",
       " 'txt_sentoken/neg/cv776_21934.txt',\n",
       " 'txt_sentoken/neg/cv777_10247.txt',\n",
       " 'txt_sentoken/neg/cv778_18629.txt',\n",
       " 'txt_sentoken/neg/cv779_18989.txt',\n",
       " 'txt_sentoken/neg/cv780_8467.txt',\n",
       " 'txt_sentoken/neg/cv781_5358.txt',\n",
       " 'txt_sentoken/neg/cv782_21078.txt',\n",
       " 'txt_sentoken/neg/cv783_14724.txt',\n",
       " 'txt_sentoken/neg/cv784_16077.txt',\n",
       " 'txt_sentoken/neg/cv785_23748.txt',\n",
       " 'txt_sentoken/neg/cv786_23608.txt',\n",
       " 'txt_sentoken/neg/cv787_15277.txt',\n",
       " 'txt_sentoken/neg/cv788_26409.txt',\n",
       " 'txt_sentoken/neg/cv789_12991.txt',\n",
       " 'txt_sentoken/neg/cv790_16202.txt',\n",
       " 'txt_sentoken/neg/cv791_17995.txt',\n",
       " 'txt_sentoken/neg/cv792_3257.txt',\n",
       " 'txt_sentoken/neg/cv793_15235.txt',\n",
       " 'txt_sentoken/neg/cv794_17353.txt',\n",
       " 'txt_sentoken/neg/cv795_10291.txt',\n",
       " 'txt_sentoken/neg/cv796_17243.txt',\n",
       " 'txt_sentoken/neg/cv797_7245.txt',\n",
       " 'txt_sentoken/neg/cv798_24779.txt',\n",
       " 'txt_sentoken/neg/cv799_19812.txt',\n",
       " 'txt_sentoken/neg/cv800_13494.txt',\n",
       " 'txt_sentoken/neg/cv801_26335.txt',\n",
       " 'txt_sentoken/neg/cv802_28381.txt',\n",
       " 'txt_sentoken/neg/cv803_8584.txt',\n",
       " 'txt_sentoken/neg/cv804_11763.txt',\n",
       " 'txt_sentoken/neg/cv805_21128.txt',\n",
       " 'txt_sentoken/neg/cv806_9405.txt',\n",
       " 'txt_sentoken/neg/cv807_23024.txt',\n",
       " 'txt_sentoken/neg/cv808_13773.txt',\n",
       " 'txt_sentoken/neg/cv809_5012.txt',\n",
       " 'txt_sentoken/neg/cv810_13660.txt',\n",
       " 'txt_sentoken/neg/cv811_22646.txt',\n",
       " 'txt_sentoken/neg/cv812_19051.txt',\n",
       " 'txt_sentoken/neg/cv813_6649.txt',\n",
       " 'txt_sentoken/neg/cv814_20316.txt',\n",
       " 'txt_sentoken/neg/cv815_23466.txt',\n",
       " 'txt_sentoken/neg/cv816_15257.txt',\n",
       " 'txt_sentoken/neg/cv817_3675.txt',\n",
       " 'txt_sentoken/neg/cv818_10698.txt',\n",
       " 'txt_sentoken/neg/cv819_9567.txt',\n",
       " 'txt_sentoken/neg/cv820_24157.txt',\n",
       " 'txt_sentoken/neg/cv821_29283.txt',\n",
       " 'txt_sentoken/neg/cv822_21545.txt',\n",
       " 'txt_sentoken/neg/cv823_17055.txt',\n",
       " 'txt_sentoken/neg/cv824_9335.txt',\n",
       " 'txt_sentoken/neg/cv825_5168.txt',\n",
       " 'txt_sentoken/neg/cv826_12761.txt',\n",
       " 'txt_sentoken/neg/cv827_19479.txt',\n",
       " 'txt_sentoken/neg/cv828_21392.txt',\n",
       " 'txt_sentoken/neg/cv829_21725.txt',\n",
       " 'txt_sentoken/neg/cv830_5778.txt',\n",
       " 'txt_sentoken/neg/cv831_16325.txt',\n",
       " 'txt_sentoken/neg/cv832_24713.txt',\n",
       " 'txt_sentoken/neg/cv833_11961.txt',\n",
       " 'txt_sentoken/neg/cv834_23192.txt',\n",
       " 'txt_sentoken/neg/cv835_20531.txt',\n",
       " 'txt_sentoken/neg/cv836_14311.txt',\n",
       " 'txt_sentoken/neg/cv837_27232.txt',\n",
       " 'txt_sentoken/neg/cv838_25886.txt',\n",
       " 'txt_sentoken/neg/cv839_22807.txt',\n",
       " 'txt_sentoken/neg/cv840_18033.txt',\n",
       " 'txt_sentoken/neg/cv841_3367.txt',\n",
       " 'txt_sentoken/neg/cv842_5702.txt',\n",
       " 'txt_sentoken/neg/cv843_17054.txt',\n",
       " 'txt_sentoken/neg/cv844_13890.txt',\n",
       " 'txt_sentoken/neg/cv845_15886.txt',\n",
       " 'txt_sentoken/neg/cv846_29359.txt',\n",
       " 'txt_sentoken/neg/cv847_20855.txt',\n",
       " 'txt_sentoken/neg/cv848_10061.txt',\n",
       " 'txt_sentoken/neg/cv849_17215.txt',\n",
       " 'txt_sentoken/neg/cv850_18185.txt',\n",
       " 'txt_sentoken/neg/cv851_21895.txt',\n",
       " 'txt_sentoken/neg/cv852_27512.txt',\n",
       " 'txt_sentoken/neg/cv853_29119.txt',\n",
       " 'txt_sentoken/neg/cv854_18955.txt',\n",
       " 'txt_sentoken/neg/cv855_22134.txt',\n",
       " 'txt_sentoken/neg/cv856_28882.txt',\n",
       " 'txt_sentoken/neg/cv857_17527.txt',\n",
       " 'txt_sentoken/neg/cv858_20266.txt',\n",
       " 'txt_sentoken/neg/cv859_15689.txt',\n",
       " 'txt_sentoken/neg/cv860_15520.txt',\n",
       " 'txt_sentoken/neg/cv861_12809.txt',\n",
       " 'txt_sentoken/neg/cv862_15924.txt',\n",
       " 'txt_sentoken/neg/cv863_7912.txt',\n",
       " 'txt_sentoken/neg/cv864_3087.txt',\n",
       " 'txt_sentoken/neg/cv865_28796.txt',\n",
       " 'txt_sentoken/neg/cv866_29447.txt',\n",
       " 'txt_sentoken/neg/cv867_18362.txt',\n",
       " 'txt_sentoken/neg/cv868_12799.txt',\n",
       " 'txt_sentoken/neg/cv869_24782.txt',\n",
       " 'txt_sentoken/neg/cv870_18090.txt',\n",
       " 'txt_sentoken/neg/cv871_25971.txt',\n",
       " 'txt_sentoken/neg/cv872_13710.txt',\n",
       " 'txt_sentoken/neg/cv873_19937.txt',\n",
       " 'txt_sentoken/neg/cv874_12182.txt',\n",
       " 'txt_sentoken/neg/cv875_5622.txt',\n",
       " 'txt_sentoken/neg/cv876_9633.txt',\n",
       " 'txt_sentoken/neg/cv877_29132.txt',\n",
       " 'txt_sentoken/neg/cv878_17204.txt',\n",
       " 'txt_sentoken/neg/cv879_16585.txt',\n",
       " 'txt_sentoken/neg/cv880_29629.txt',\n",
       " 'txt_sentoken/neg/cv881_14767.txt',\n",
       " 'txt_sentoken/neg/cv882_10042.txt',\n",
       " 'txt_sentoken/neg/cv883_27621.txt',\n",
       " 'txt_sentoken/neg/cv884_15230.txt',\n",
       " 'txt_sentoken/neg/cv885_13390.txt',\n",
       " 'txt_sentoken/neg/cv886_19210.txt',\n",
       " 'txt_sentoken/neg/cv887_5306.txt',\n",
       " 'txt_sentoken/neg/cv888_25678.txt',\n",
       " 'txt_sentoken/neg/cv889_22670.txt',\n",
       " 'txt_sentoken/neg/cv890_3515.txt',\n",
       " 'txt_sentoken/neg/cv891_6035.txt',\n",
       " 'txt_sentoken/neg/cv892_18788.txt',\n",
       " 'txt_sentoken/neg/cv893_26731.txt',\n",
       " 'txt_sentoken/neg/cv894_22140.txt',\n",
       " 'txt_sentoken/neg/cv895_22200.txt',\n",
       " 'txt_sentoken/neg/cv896_17819.txt',\n",
       " 'txt_sentoken/neg/cv897_11703.txt',\n",
       " 'txt_sentoken/neg/cv898_1576.txt',\n",
       " 'txt_sentoken/neg/cv899_17812.txt',\n",
       " 'txt_sentoken/neg/cv900_10800.txt',\n",
       " 'txt_sentoken/neg/cv901_11934.txt',\n",
       " 'txt_sentoken/neg/cv902_13217.txt',\n",
       " 'txt_sentoken/neg/cv903_18981.txt',\n",
       " 'txt_sentoken/neg/cv904_25663.txt',\n",
       " 'txt_sentoken/neg/cv905_28965.txt',\n",
       " 'txt_sentoken/neg/cv906_12332.txt',\n",
       " 'txt_sentoken/neg/cv907_3193.txt',\n",
       " 'txt_sentoken/neg/cv908_17779.txt',\n",
       " 'txt_sentoken/neg/cv909_9973.txt',\n",
       " 'txt_sentoken/neg/cv910_21930.txt',\n",
       " 'txt_sentoken/neg/cv911_21695.txt',\n",
       " 'txt_sentoken/neg/cv912_5562.txt',\n",
       " 'txt_sentoken/neg/cv913_29127.txt',\n",
       " 'txt_sentoken/neg/cv914_2856.txt',\n",
       " 'txt_sentoken/neg/cv915_9342.txt',\n",
       " 'txt_sentoken/neg/cv916_17034.txt',\n",
       " 'txt_sentoken/neg/cv917_29484.txt',\n",
       " 'txt_sentoken/neg/cv918_27080.txt',\n",
       " 'txt_sentoken/neg/cv919_18155.txt',\n",
       " 'txt_sentoken/neg/cv920_29423.txt',\n",
       " 'txt_sentoken/neg/cv921_13988.txt',\n",
       " 'txt_sentoken/neg/cv922_10185.txt',\n",
       " 'txt_sentoken/neg/cv923_11951.txt',\n",
       " 'txt_sentoken/neg/cv924_29397.txt',\n",
       " 'txt_sentoken/neg/cv925_9459.txt',\n",
       " 'txt_sentoken/neg/cv926_18471.txt',\n",
       " 'txt_sentoken/neg/cv927_11471.txt',\n",
       " 'txt_sentoken/neg/cv928_9478.txt',\n",
       " 'txt_sentoken/neg/cv929_1841.txt',\n",
       " 'txt_sentoken/neg/cv930_14949.txt',\n",
       " 'txt_sentoken/neg/cv931_18783.txt',\n",
       " 'txt_sentoken/neg/cv932_14854.txt',\n",
       " 'txt_sentoken/neg/cv933_24953.txt',\n",
       " 'txt_sentoken/neg/cv934_20426.txt',\n",
       " 'txt_sentoken/neg/cv935_24977.txt',\n",
       " 'txt_sentoken/neg/cv936_17473.txt',\n",
       " 'txt_sentoken/neg/cv937_9816.txt',\n",
       " 'txt_sentoken/neg/cv938_10706.txt',\n",
       " 'txt_sentoken/neg/cv939_11247.txt',\n",
       " 'txt_sentoken/neg/cv940_18935.txt',\n",
       " 'txt_sentoken/neg/cv941_10718.txt',\n",
       " 'txt_sentoken/neg/cv942_18509.txt',\n",
       " 'txt_sentoken/neg/cv943_23547.txt',\n",
       " 'txt_sentoken/neg/cv944_15042.txt',\n",
       " 'txt_sentoken/neg/cv945_13012.txt',\n",
       " 'txt_sentoken/neg/cv946_20084.txt',\n",
       " 'txt_sentoken/neg/cv947_11316.txt',\n",
       " 'txt_sentoken/neg/cv948_25870.txt',\n",
       " 'txt_sentoken/neg/cv949_21565.txt',\n",
       " 'txt_sentoken/neg/cv950_13478.txt',\n",
       " 'txt_sentoken/neg/cv951_11816.txt',\n",
       " 'txt_sentoken/neg/cv952_26375.txt',\n",
       " 'txt_sentoken/neg/cv953_7078.txt',\n",
       " 'txt_sentoken/neg/cv954_19932.txt',\n",
       " 'txt_sentoken/neg/cv955_26154.txt',\n",
       " 'txt_sentoken/neg/cv956_12547.txt',\n",
       " 'txt_sentoken/neg/cv957_9059.txt',\n",
       " 'txt_sentoken/neg/cv958_13020.txt',\n",
       " 'txt_sentoken/neg/cv959_16218.txt',\n",
       " 'txt_sentoken/neg/cv960_28877.txt',\n",
       " 'txt_sentoken/neg/cv961_5578.txt',\n",
       " 'txt_sentoken/neg/cv962_9813.txt',\n",
       " 'txt_sentoken/neg/cv963_7208.txt',\n",
       " 'txt_sentoken/neg/cv964_5794.txt',\n",
       " 'txt_sentoken/neg/cv965_26688.txt',\n",
       " 'txt_sentoken/neg/cv966_28671.txt',\n",
       " 'txt_sentoken/neg/cv967_5626.txt',\n",
       " 'txt_sentoken/neg/cv968_25413.txt',\n",
       " 'txt_sentoken/neg/cv969_14760.txt',\n",
       " 'txt_sentoken/neg/cv970_19532.txt',\n",
       " 'txt_sentoken/neg/cv971_11790.txt',\n",
       " 'txt_sentoken/neg/cv972_26837.txt',\n",
       " 'txt_sentoken/neg/cv973_10171.txt',\n",
       " 'txt_sentoken/neg/cv974_24303.txt',\n",
       " 'txt_sentoken/neg/cv975_11920.txt',\n",
       " 'txt_sentoken/neg/cv976_10724.txt',\n",
       " 'txt_sentoken/neg/cv977_4776.txt',\n",
       " ...]"
      ]
     },
     "execution_count": 96,
     "metadata": {},
     "output_type": "execute_result"
    }
   ],
   "source": [
    "# list all files in root directory\n",
    "wordlists.fileids()"
   ]
  },
  {
   "cell_type": "code",
   "execution_count": 97,
   "metadata": {},
   "outputs": [
    {
     "data": {
      "text/plain": [
       "['ON', 'THE', 'DUTY', 'OF', 'CIVIL', 'DISOBEDIENCE', ...]"
      ]
     },
     "execution_count": 97,
     "metadata": {},
     "output_type": "execute_result"
    }
   ],
   "source": [
    "# select a file to processes\n",
    "wordlists.words('b.txt')"
   ]
  },
  {
   "cell_type": "markdown",
   "metadata": {},
   "source": [
    "# Tokenization\n",
    "To illustrate tokenization we will use the spacy package"
   ]
  },
  {
   "cell_type": "markdown",
   "metadata": {},
   "source": [
    "The simplest way to tokenize a sentence is to use whitespaces within a string as the delimiter of words. We can do this using the python string ***split()*** method"
   ]
  },
  {
   "cell_type": "code",
   "execution_count": 98,
   "metadata": {},
   "outputs": [
    {
     "data": {
      "text/plain": [
       "['Monticello',\n",
       " \"wasn't\",\n",
       " 'designated',\n",
       " 'as',\n",
       " 'UNESCO',\n",
       " 'World',\n",
       " 'Heritage',\n",
       " 'Site',\n",
       " 'until',\n",
       " '1987.']"
      ]
     },
     "execution_count": 98,
     "metadata": {},
     "output_type": "execute_result"
    }
   ],
   "source": [
    "sentence = \"\"\"Monticello wasn't designated as UNESCO World Heritage Site until 1987.\"\"\"\n",
    "sentence.split()"
   ]
  },
  {
   "cell_type": "code",
   "execution_count": 99,
   "metadata": {},
   "outputs": [
    {
     "name": "stdout",
     "output_type": "stream",
     "text": [
      "['1987.', 'Heritage', 'Monticello', 'Site', 'UNESCO', 'World', 'as', 'designated', 'until', \"wasn't\"]\n"
     ]
    }
   ],
   "source": [
    "# tokenizer: builtin split function\n",
    "token_sequence = sentence.split()\n",
    "\n",
    "# list all unique token in your vocabulary sorted lexicographically\n",
    "vocab = sorted(set(token_sequence))\n",
    "print(vocab)"
   ]
  },
  {
   "cell_type": "markdown",
   "metadata": {},
   "source": [
    "#### Tokenization with Regular expression"
   ]
  },
  {
   "cell_type": "code",
   "execution_count": 100,
   "metadata": {},
   "outputs": [
    {
     "name": "stdout",
     "output_type": "stream",
     "text": [
      "['Monticello', \"wasn't\", 'designated', 'as', 'UNESCO', 'World', 'Heritage', 'Site', 'until', '1987', '']\n"
     ]
    }
   ],
   "source": [
    "import re\n",
    "sentence = \"\"\"Monticello wasn't designated as UNESCO World Heritage Site until 1987.\"\"\"\n",
    "tokens = re.split(r'[-\\s.,;!?]+', sentence)\n",
    "print(tokens)"
   ]
  },
  {
   "cell_type": "markdown",
   "metadata": {},
   "source": [
    "the regular expression is a sligh improvement of the whitespace method becuase it can handle punctuations"
   ]
  },
  {
   "cell_type": "markdown",
   "metadata": {},
   "source": [
    "### 3.2.3. Automatic Tokenization\n",
    "\n",
    "Most often in NLP, other characters besides whitespaces are used to separate words in a sentence/document. An efficient tokenizer should handle whitespaces as well as punctuations such as commas, periods, quotes, semicolons, and even hyphens (dashes). In some cases, it is relevant to treat punctuation marks as independent words or tokens, while in others they are ignored.\n",
    "\n",
    "Tokenization can easily become complex. In one case, you might want to split based on periods, but only if the period isn’t followed by a number, to avoid splitting decimals. In another case, you might not want to split after a period that is part of “smiley” emoticon symbol, such as in a Twitter message.\n",
    "\n",
    "Several Python libraries implement tokenizers, each with its advantages and disadvantages: \n",
    "- spaCy—Accurate , flexible, fast, Python\n",
    "- Stanford CoreNLP—More accurate, less flexible, fast, depends on Java 8\n",
    "- NLTK—Standard used by many NLP contests and comparisons, popular, Python\n",
    "\n",
    "NLTK and Stanford CoreNLP have been around the longest and are the most widely used. "
   ]
  },
  {
   "cell_type": "markdown",
   "metadata": {},
   "source": [
    "#### 3.2.3.1. NLTK RegexpTokenizer\n",
    "Natural Language Toolkit (NLTK) tokenizer function *RegexpTokenizer* to identify all tokens in a sentence.  \n",
    "This nltk.RegexpTokenizer is better than the python string split function and the regular expressions used previously because it ignores whitespace tokens. It also separates sentence-ending trailing punctuation from tokens that do not contain any other punctuation character"
   ]
  },
  {
   "cell_type": "code",
   "execution_count": 101,
   "metadata": {},
   "outputs": [
    {
     "name": "stdout",
     "output_type": "stream",
     "text": [
      "['The', 'First', 'sentence', 'is', 'about', 'Python', '.', 'The', 'Second', ':', 'about', 'Django', '.', 'You', 'can', 'learn', 'Python', ',Django', 'and', 'Data', 'Ananlysis', 'here', '.']\n"
     ]
    }
   ],
   "source": [
    "from nltk.tokenize import RegexpTokenizer\n",
    "tokenizer = RegexpTokenizer(r'\\w+|$[0-9.]+|\\S+')\n",
    "\n",
    "sentence = \"The First sentence is about Python. The Second: about Django. You can learn Python,Django and Data Ananlysis here. \"\n",
    "vocab = tokenizer.tokenize(sentence)\n",
    "print(vocab)"
   ]
  },
  {
   "cell_type": "markdown",
   "metadata": {},
   "source": [
    "#### 3.2.3.2. NLTK TreebankWordTokenizer  \n",
    "A more efficient tokenizer from the NLTK package is the Treebank Word Tokenizer. It incorporates a variety of common rules for English word tokenization. For example, it separates phrase-terminating punctuation (?!.;,) from adjacent tokens and retains decimal numbers containing a period as a single token."
   ]
  },
  {
   "cell_type": "code",
   "execution_count": 102,
   "metadata": {},
   "outputs": [
    {
     "name": "stdout",
     "output_type": "stream",
     "text": [
      "['The', 'First', 'sentence', 'is', 'about', 'Python.', 'The', 'Second', ':', 'about', 'Django.', 'You', 'can', 'learn', 'Python', ',', 'Django', 'and', 'Data', 'Ananlysis', 'here', '.']\n"
     ]
    }
   ],
   "source": [
    "from nltk.tokenize import TreebankWordTokenizer\n",
    "\n",
    "tokenizer = TreebankWordTokenizer()\n",
    "print(tokenizer.tokenize(sentence))"
   ]
  },
  {
   "cell_type": "markdown",
   "metadata": {},
   "source": [
    "The Treebank Word Tokenizer contains rules for English contractions. For example *“wasn’t”* is tokenized as *[\"was\", \"n’t\"]*."
   ]
  },
  {
   "attachments": {},
   "cell_type": "markdown",
   "metadata": {},
   "source": [
    "#### 3.2.3.3. Spacy tokekinization"
   ]
  },
  {
   "cell_type": "code",
   "execution_count": 103,
   "metadata": {},
   "outputs": [],
   "source": [
    "import spacy\n",
    "# load the spaCy language model\n",
    "sp = spacy.load('en_core_web_sm')"
   ]
  },
  {
   "cell_type": "markdown",
   "metadata": {},
   "source": [
    "SpaCy automatically breaks your document into tokens when a document is created using the model.  \n",
    "A token simply refers to an individual part of a sentence having some semantic value. Let's see what tokens we have in our document"
   ]
  },
  {
   "cell_type": "code",
   "execution_count": 104,
   "metadata": {},
   "outputs": [
    {
     "name": "stdout",
     "output_type": "stream",
     "text": [
      "[The, First, sentence, is, about, Python, ., The, Second, :, about, Django, ., You, can, learn, Python, ,, Django, and, Data, Ananlysis, here, .]\n"
     ]
    }
   ],
   "source": [
    "spacy_sentence = sp(sentence)\n",
    "tokens = []\n",
    "for word in spacy_sentence:\n",
    "    tokens.append(word)\n",
    "    \n",
    "print(tokens)"
   ]
  },
  {
   "cell_type": "markdown",
   "metadata": {},
   "source": [
    "# Stemming and Lemmatization"
   ]
  },
  {
   "cell_type": "markdown",
   "metadata": {},
   "source": [
    "### Stemming\n",
    "Most stemming algorithms use a crude heuristic process that chops off the ends of words in the hope of correctly transforming words into their root form. So the words “trouble”, “troubled” and “troubles” might be converted to \"troubl\" instead of trouble. "
   ]
  },
  {
   "cell_type": "markdown",
   "metadata": {},
   "source": [
    "**Common Stemming algorithms**"
   ]
  },
  {
   "cell_type": "markdown",
   "metadata": {},
   "source": [
    "1) **Porter’s Stemmer**"
   ]
  },
  {
   "cell_type": "code",
   "execution_count": 105,
   "metadata": {},
   "outputs": [
    {
     "name": "stdout",
     "output_type": "stream",
     "text": [
      "thi sentenc wa transform use a stemmer\n"
     ]
    }
   ],
   "source": [
    "from nltk.stem.porter import PorterStemmer\n",
    "stemmer = PorterStemmer()\n",
    "\n",
    "sentence_list = [\"This\", \"sentence\", \"was\", \"transformed\", \"using\", \"a\", \"Stemmer\"]\n",
    "print (\" \".join([stemmer.stem(word) for word in sentence_list]))"
   ]
  },
  {
   "cell_type": "markdown",
   "metadata": {},
   "source": [
    "2) **Snowball Stemmer**  \n",
    "The SnowballStemmer is an improvement of the Porter's Stemmer and provided the best result.  "
   ]
  },
  {
   "cell_type": "code",
   "execution_count": 106,
   "metadata": {},
   "outputs": [
    {
     "name": "stdout",
     "output_type": "stream",
     "text": [
      "this sentenc was transform use a stemmer\n"
     ]
    }
   ],
   "source": [
    "from nltk.stem.snowball import SnowballStemmer\n",
    "\n",
    "stemmer = SnowballStemmer(language='english')\n",
    "sentence_list = [\"This\", \"sentence\", \"was\", \"transformed\", \"using\", \"a\", \"Stemmer\"]\n",
    "\n",
    "print (\" \".join([stemmer.stem(word) for word in sentence_list]))"
   ]
  },
  {
   "cell_type": "markdown",
   "metadata": {},
   "source": [
    "3) **Lancaster Stemmer**"
   ]
  },
  {
   "cell_type": "code",
   "execution_count": 107,
   "metadata": {},
   "outputs": [
    {
     "name": "stdout",
     "output_type": "stream",
     "text": [
      "thi sent was transform us a stem\n"
     ]
    }
   ],
   "source": [
    "from nltk.stem.lancaster import LancasterStemmer\n",
    "stemmer = LancasterStemmer()\n",
    "\n",
    "sentence_list = [\"This\", \"sentence\", \"was\", \"transformed\", \"using\", \"a\", \"Stemmer\"]\n",
    "print (\" \".join([stemmer.stem(word) for word in sentence_list]))"
   ]
  },
  {
   "cell_type": "markdown",
   "metadata": {},
   "source": [
    "**Limitations of  Stemming:** \n",
    "\n",
    "There are two msin limitations of stemming\n",
    "1) Over-stemming: occurs when two words are stemmed from the same root that are of different stems. Over-stemming can also be regarded as false-positives.  \n",
    "2) Under-stemming: occurs when two words are stemmed from the same root that are not of different stems. Under-stemming can be interpreted as false-negatives. "
   ]
  },
  {
   "cell_type": "markdown",
   "metadata": {},
   "source": [
    "### Lemmatization  \n",
    "Lemmatization is the algorithmic process of finding the lemma of a word depending on their meaning. Lemmatization usually refers to the morphological analysis of words, which aims to remove inflectional endings. It helps in returning the base or dictionary form of a word, which is known as the lemma. \n",
    "\n",
    "Stemming algorithm works by cutting the suffix from the word. In a broader sense cuts either the beginning or end of the word. On the contrary, Lemmatization is a more powerful operation, and it takes into consideration morphological analysis of the words. It returns the lemma which is the base form of all its inflectional forms. In-depth linguistic knowledge is required to create dictionaries and look for the proper form of the word. Stemming is a general operation while lemmatization is an intelligent operation where the proper form will be looked in the dictionary. Hence, lemmatization helps in forming better machine learning features.  \n",
    "\n",
    "Lemmatizer minimizes text ambiguity. Example words like bicycle or bicycles are converted to base word bicycle. Basically, it will convert all words having the same meaning but different representation to their base form. It reduces the word density in the given text and helps in preparing the accurate features for training machine. Cleaner the data, the more intelligent and accurate your machine learning model, will be. Lemmatizerwill also saves memory as well as computational cost. "
   ]
  },
  {
   "cell_type": "code",
   "execution_count": 108,
   "metadata": {},
   "outputs": [
    {
     "name": "stdout",
     "output_type": "stream",
     "text": [
      "Monticello wasn't designated a UNESCO World Heritage Site until 1987.\n"
     ]
    }
   ],
   "source": [
    "from nltk.stem import WordNetLemmatizer\n",
    "\n",
    "sentence_list = [\"This\",\"sentence\",\"was\",\"transformed\", \"using\", \"WordNet\", \"Lemmatizer\"]\n",
    "sentence_list = [\"Monticello\", \"wasn't\", \"designated\", \"as\", \"UNESCO\", \"World\", \"Heritage\", \"Site\", \"until\", \"1987.\"]\n",
    "\n",
    "# initialize class\n",
    "lemmatizer = WordNetLemmatizer()\n",
    "print (\" \".join([lemmatizer.lemmatize(word) for word in sentence_list]))"
   ]
  },
  {
   "cell_type": "markdown",
   "metadata": {},
   "source": [
    "#### Spacy lematization\n",
    "Spacy also automatically perform lematization"
   ]
  },
  {
   "cell_type": "code",
   "execution_count": 109,
   "metadata": {},
   "outputs": [
    {
     "name": "stdout",
     "output_type": "stream",
     "text": [
      "This  =>  this\n",
      "sentence  =>  sentence\n",
      "was  =>  be\n",
      "transformed  =>  transform\n",
      "using  =>  use\n",
      "WordNet  =>  WordNet\n",
      "Lemmatizer  =>  Lemmatizer\n"
     ]
    }
   ],
   "source": [
    "import spacy\n",
    "sp = spacy.load('en_core_web_sm')\n",
    "\n",
    "sentence = \"\"\"Monticello wasn't designated as UNESCO World Heritage Site until 1987.\"\"\"\n",
    "sentence = \"This sentence was transformed using WordNet Lemmatizer\"\n",
    "spacy_sentence = sp(sentence)\n",
    "for word in spacy_sentence:\n",
    "    print(word.text, \" => \", word.lemma_)"
   ]
  },
  {
   "cell_type": "code",
   "execution_count": 110,
   "metadata": {},
   "outputs": [
    {
     "name": "stdout",
     "output_type": "stream",
     "text": [
      "Monticello  =>  Monticello\n",
      "was  =>  be\n",
      "n't  =>  not\n",
      "designated  =>  designate\n",
      "as  =>  as\n",
      "UNESCO  =>  UNESCO\n",
      "World  =>  World\n",
      "Heritage  =>  Heritage\n",
      "Site  =>  Site\n",
      "until  =>  until\n",
      "1987  =>  1987\n",
      ".  =>  .\n"
     ]
    }
   ],
   "source": [
    "sentence = \"\"\"Monticello wasn't designated as UNESCO World Heritage Site until 1987.\"\"\"\n",
    "spacy_sentence = sp(sentence)\n",
    "for word in spacy_sentence:\n",
    "    print(word.text, \" => \", word.lemma_)"
   ]
  },
  {
   "cell_type": "markdown",
   "metadata": {},
   "source": [
    "## Sentence Segmentation"
   ]
  },
  {
   "cell_type": "code",
   "execution_count": 111,
   "metadata": {},
   "outputs": [],
   "source": [
    "## using a simple rule-based segmenter with native python code\n",
    "def sentence_segmenter(text):\n",
    "    current_position = 0\n",
    "    cursor = 0\n",
    "    sentences = []\n",
    "    for c in text:\n",
    "        if c == \".\" or c == \"!\" or c == \"?\":\n",
    "            sentences.append(text[current_position:cursor+1])\n",
    "            current_position = cursor + 2\n",
    "        cursor+=1\n",
    "        \n",
    "    return sentences\n"
   ]
  },
  {
   "cell_type": "code",
   "execution_count": 112,
   "metadata": {},
   "outputs": [],
   "source": [
    "text = \"NeMo is a toolkit for creating Conversational AI applications. \\\n",
    "NeMo toolkit makes it possible for researchers to easily compose complex neural network architectures \\\n",
    "for conversational AI using reusable components - Neural Modules. \\\n",
    "Neural Modules are conceptual blocks of neural networks that take typed inputs and produce typed outputs. \\\n",
    "Such modules typically represent data layers, encoders, decoders, language models, loss functions, or methods of combining activations. \\\n",
    "The toolkit comes with extendable collections of pre-built modules and ready-to-use models for automatic speech recognition (ASR), \\\n",
    "natural language processing (NLP) and text synthesis (TTS). \\\n",
    "Built for speed, NeMo can utilize NVIDIA's Tensor Cores and scale out training to multiple GPUs and multiple nodes.\""
   ]
  },
  {
   "cell_type": "code",
   "execution_count": 113,
   "metadata": {},
   "outputs": [
    {
     "name": "stdout",
     "output_type": "stream",
     "text": [
      "We need to get better, simple as that!\n",
      "We've done really well this season coming through.\n",
      "The start was difficult.\n",
      "We had no preseason and lost three of the first six.\n"
     ]
    }
   ],
   "source": [
    "text1 = \"We need to get better, simple as that! We've done really well this season coming through. The start was difficult. We had no preseason and lost three of the first six.\"\n",
    "sentences1 = sentence_segmenter(text1)\n",
    "for sen in sentences1:\n",
    "    print(sen)"
   ]
  },
  {
   "cell_type": "markdown",
   "metadata": {},
   "source": [
    "Our sentence segmenter only segments sentences when it meets a sentence boundary which in this case is either a \".\" or a \"!\".  \n",
    "- If we change a single sentence and add say a \"?\" or abbreviations the sign our code will miss one of the sentences"
   ]
  },
  {
   "cell_type": "code",
   "execution_count": 114,
   "metadata": {},
   "outputs": [
    {
     "name": "stdout",
     "output_type": "stream",
     "text": [
      "We need to get better, simple as that!\n",
      "We've done really well this season coming through.\n",
      "The start was difficult in D.\n",
      ".\n",
      "\n",
      "We had no preseason and lost three of the first six.\n"
     ]
    }
   ],
   "source": [
    "text2 = \"We need to get better, simple as that! We've done really well this season coming through. The start was difficult in D.C.? We had no preseason and lost three of the first six.\"\n",
    "sentences2 = sentence_segmenter(text2)\n",
    "for sen in sentences2:\n",
    "    print(sen)"
   ]
  },
  {
   "attachments": {},
   "cell_type": "markdown",
   "metadata": {},
   "source": [
    "### NLTK sentence segmentation"
   ]
  },
  {
   "cell_type": "code",
   "execution_count": 115,
   "metadata": {},
   "outputs": [
    {
     "name": "stdout",
     "output_type": "stream",
     "text": [
      "['We need to get better, simple as that!', \"We've done really well this season coming through.\", 'The start was difficult.', 'We had no preseason and lost three of the first six.']\n"
     ]
    }
   ],
   "source": [
    "from nltk.tokenize import sent_tokenize\n",
    "\n",
    "nltk_tokens = sent_tokenize(text1)\n",
    "print (nltk_tokens)"
   ]
  },
  {
   "cell_type": "code",
   "execution_count": 116,
   "metadata": {},
   "outputs": [
    {
     "name": "stdout",
     "output_type": "stream",
     "text": [
      "['We need to get better, simple as that!', \"We've done really well this season coming through.\", 'The start was difficult in D.C.?', 'We had no preseason and lost three of the first six.']\n"
     ]
    }
   ],
   "source": [
    "nltk_tokens = sent_tokenize(text2)\n",
    "print (nltk_tokens)"
   ]
  },
  {
   "cell_type": "markdown",
   "metadata": {},
   "source": [
    "### Spacy sentence segmentation"
   ]
  },
  {
   "cell_type": "code",
   "execution_count": 117,
   "metadata": {},
   "outputs": [
    {
     "name": "stdout",
     "output_type": "stream",
     "text": [
      "We need to get better, simple as that!\n",
      "We've done really well this season coming through.\n",
      "The start was difficult.\n",
      "We had no preseason and lost three of the first six.\n"
     ]
    }
   ],
   "source": [
    "spacy_sentence1 = sp(text1)\n",
    "for sent in spacy_sentence1.sents:\n",
    "    print(sent.text)"
   ]
  },
  {
   "cell_type": "code",
   "execution_count": 118,
   "metadata": {},
   "outputs": [
    {
     "name": "stdout",
     "output_type": "stream",
     "text": [
      "We need to get better, simple as that!\n",
      "We've done really well this season coming through.\n",
      "The start was difficult in D.C.?\n",
      "We had no preseason and lost three of the first six.\n"
     ]
    }
   ],
   "source": [
    "spacy_sentence2 = sp(text2)\n",
    "for sent in spacy_sentence2.sents:\n",
    "    print(sent.text)"
   ]
  },
  {
   "cell_type": "markdown",
   "metadata": {},
   "source": [
    "# Exercise Vocabulary"
   ]
  },
  {
   "attachments": {},
   "cell_type": "markdown",
   "metadata": {},
   "source": [
    "Exercise: Get the wikipedia https://en.wikipedia.org/wiki/Cameroon snippet below extract all text and create a vocabulary   \n",
    "**Task:** \n",
    "1) Process the document and create a vocabulary  \n",
    "2) Perform exploratory analysis on the vocabulary  "
   ]
  },
  {
   "cell_type": "code",
   "execution_count": 119,
   "metadata": {},
   "outputs": [],
   "source": [
    "import bs4 as bs\n",
    "import urllib\n",
    "\n",
    "url = None # replace with wikipedia link \n",
    "\n",
    "raw_html = urllib.request.urlopen(url)  \n",
    "raw_html = raw_html.read()\n",
    "\n",
    "wiki_html = bs.BeautifulSoup(raw_html, 'lxml')\n",
    "article_paragraphs = wiki_html.find_all('p')\n",
    "article_text = ''\n",
    "for para in article_paragraphs:  \n",
    "    article_text += para.text"
   ]
  },
  {
   "cell_type": "code",
   "execution_count": 120,
   "metadata": {},
   "outputs": [],
   "source": [
    "print(article_text)"
   ]
  }
 ],
 "metadata": {
  "kernelspec": {
   "display_name": "Python 3",
   "language": "python",
   "name": "python3"
  },
  "language_info": {
   "codemirror_mode": {
    "name": "ipython",
    "version": 3
   },
   "file_extension": ".py",
   "mimetype": "text/x-python",
   "name": "python",
   "nbconvert_exporter": "python",
   "pygments_lexer": "ipython3",
   "version": "3.9.13"
  }
 },
 "nbformat": 4,
 "nbformat_minor": 4
}
