{
 "cells": [
  {
   "cell_type": "markdown",
   "metadata": {},
   "source": [
    "# Text Summarization  \n",
    "Text summarization is the process of distilling the most important information from a source (or sources) to produce an abridged version or summary.  \n",
    "<img src=\"img/text_sum.png\" alt=\"Markdown Monster icon\" style=\"float: center; margin-right: 10px;\" />   \n",
    "\n",
    "\n",
    "### Types of Text Summarization Methods  \n",
    "Text summarization methods can be classified into different types  \n",
    "<img src=\"img/text_sum_types.png\" alt=\"Markdown Monster icon\" style=\"float: center; margin-right: 10px;\" />  \n",
    "\n",
    "i. Based on input type:  \n",
    "\n",
    "    - Single Document, where the input length is short. Many of the early summarization systems dealt with single document summarization.\n",
    "    - Multi Document, where the input can be arbitrarily long.  \n",
    "\n",
    "ii. Based on the purpose:  \n",
    "\n",
    "    - Generic, where the model makes no assumptions about the domain or content of the text to be summarized and treats all inputs as homogeneous. The majority of the work that has been done revolves around generic summarization.  \n",
    "    - Domain-specific, where the model uses domain-specific knowledge to form a more accurate summary. For example, summarizing research papers of a specific domain, biomedical documents, etc.  \n",
    "    - Query-based, where the summary only contains information which answers natural language questions about the input text.  \n",
    "\n",
    "iii. Based on output type:  \n",
    "\n",
    "    - Extractive, where important sentences are selected from the input text to form a summary. Most summarization approaches today are extractive in nature.  \n",
    "    - Abstractive, where the model forms its own phrases and sentences to offer a more coherent summary, like what a human would generate. This approach is definitely more appealing, but much more difficult than extractive summarization.  \n"
   ]
  },
  {
   "cell_type": "markdown",
   "metadata": {},
   "source": [
    "## Text summerization"
   ]
  },
  {
   "cell_type": "code",
   "execution_count": 1,
   "metadata": {},
   "outputs": [],
   "source": [
    "# !pip install plotly"
   ]
  },
  {
   "cell_type": "code",
   "execution_count": 3,
   "metadata": {},
   "outputs": [],
   "source": [
    "import numpy as np # linear algebra\n",
    "import spacy\n",
    "\n",
    "\n",
    "import pandas as pd # data processing, CSV file I/O (e.g. pd.read_csv)\n",
    "import seaborn as sns\n",
    "import matplotlib.pyplot as plt\n",
    "from wordcloud import WordCloud\n",
    "\n",
    "import string\n",
    "import re\n",
    "from collections import Counter\n",
    "from time import time\n",
    "import heapq\n",
    "\n",
    "# from sklearn.feature_extraction.stop_words import ENGLISH_STOP_WORDS as stopwords\n",
    "from nltk.corpus import stopwords\n",
    "import nltk\n",
    "import plotly.offline as py\n",
    "import plotly.graph_objs as go\n",
    "import plotly.tools as tls\n",
    "%matplotlib inline\n",
    "\n",
    "#stopwords = stopwords.words('english')\n",
    "sns.set_context('notebook')"
   ]
  },
  {
   "cell_type": "code",
   "execution_count": 4,
   "metadata": {},
   "outputs": [],
   "source": [
    "# nlp = spacy.load('en_core_web_sm')\n",
    "nlp = spacy.load(\"en_core_web_sm\")"
   ]
  },
  {
   "cell_type": "code",
   "execution_count": 5,
   "metadata": {},
   "outputs": [],
   "source": [
    "# import dataset\n",
    "\n",
    "# replace with appropriate path\n",
    "# path = 'data/winemag-data_first150k.csv'\n",
    "# data = pd.read_csv(path, nrows=nrows, usecols =['points', 'description'], encoding='utf-8')\n",
    "\n",
    "nrows = 5000 # read only first 5000 rows\n",
    "path = '/Volumes/GoogleDrive/My Drive/PROJECTS/AIMS-Senegal/Course_Materials_2022/notebooks/data/news_summary.csv'\n",
    "data = pd.read_csv(path, encoding='iso-8859-1', nrows=nrows)\n",
    "data = data.dropna()"
   ]
  },
  {
   "cell_type": "code",
   "execution_count": 6,
   "metadata": {},
   "outputs": [
    {
     "data": {
      "text/html": [
       "<div>\n",
       "<style scoped>\n",
       "    .dataframe tbody tr th:only-of-type {\n",
       "        vertical-align: middle;\n",
       "    }\n",
       "\n",
       "    .dataframe tbody tr th {\n",
       "        vertical-align: top;\n",
       "    }\n",
       "\n",
       "    .dataframe thead th {\n",
       "        text-align: right;\n",
       "    }\n",
       "</style>\n",
       "<table border=\"1\" class=\"dataframe\">\n",
       "  <thead>\n",
       "    <tr style=\"text-align: right;\">\n",
       "      <th></th>\n",
       "      <th>author</th>\n",
       "      <th>date</th>\n",
       "      <th>headlines</th>\n",
       "      <th>read_more</th>\n",
       "      <th>text</th>\n",
       "      <th>ctext</th>\n",
       "    </tr>\n",
       "  </thead>\n",
       "  <tbody>\n",
       "    <tr>\n",
       "      <th>0</th>\n",
       "      <td>Chhavi Tyagi</td>\n",
       "      <td>03 Aug 2017,Thursday</td>\n",
       "      <td>Daman &amp; Diu revokes mandatory Rakshabandhan in...</td>\n",
       "      <td>http://www.hindustantimes.com/india-news/raksh...</td>\n",
       "      <td>The Administration of Union Territory Daman an...</td>\n",
       "      <td>The Daman and Diu administration on Wednesday ...</td>\n",
       "    </tr>\n",
       "    <tr>\n",
       "      <th>1</th>\n",
       "      <td>Daisy Mowke</td>\n",
       "      <td>03 Aug 2017,Thursday</td>\n",
       "      <td>Malaika slams user who trolled her for 'divorc...</td>\n",
       "      <td>http://www.hindustantimes.com/bollywood/malaik...</td>\n",
       "      <td>Malaika Arora slammed an Instagram user who tr...</td>\n",
       "      <td>From her special numbers to TV?appearances, Bo...</td>\n",
       "    </tr>\n",
       "    <tr>\n",
       "      <th>2</th>\n",
       "      <td>Arshiya Chopra</td>\n",
       "      <td>03 Aug 2017,Thursday</td>\n",
       "      <td>'Virgin' now corrected to 'Unmarried' in IGIMS...</td>\n",
       "      <td>http://www.hindustantimes.com/patna/bihar-igim...</td>\n",
       "      <td>The Indira Gandhi Institute of Medical Science...</td>\n",
       "      <td>The Indira Gandhi Institute of Medical Science...</td>\n",
       "    </tr>\n",
       "    <tr>\n",
       "      <th>3</th>\n",
       "      <td>Sumedha Sehra</td>\n",
       "      <td>03 Aug 2017,Thursday</td>\n",
       "      <td>Aaj aapne pakad liya: LeT man Dujana before be...</td>\n",
       "      <td>http://indiatoday.intoday.in/story/abu-dujana-...</td>\n",
       "      <td>Lashkar-e-Taiba's Kashmir commander Abu Dujana...</td>\n",
       "      <td>Lashkar-e-Taiba's Kashmir commander Abu Dujana...</td>\n",
       "    </tr>\n",
       "    <tr>\n",
       "      <th>4</th>\n",
       "      <td>Aarushi Maheshwari</td>\n",
       "      <td>03 Aug 2017,Thursday</td>\n",
       "      <td>Hotel staff to get training to spot signs of s...</td>\n",
       "      <td>http://indiatoday.intoday.in/story/sex-traffic...</td>\n",
       "      <td>Hotels in Maharashtra will train their staff t...</td>\n",
       "      <td>Hotels in Mumbai and other Indian cities are t...</td>\n",
       "    </tr>\n",
       "  </tbody>\n",
       "</table>\n",
       "</div>"
      ],
      "text/plain": [
       "               author                  date  \\\n",
       "0        Chhavi Tyagi  03 Aug 2017,Thursday   \n",
       "1         Daisy Mowke  03 Aug 2017,Thursday   \n",
       "2      Arshiya Chopra  03 Aug 2017,Thursday   \n",
       "3       Sumedha Sehra  03 Aug 2017,Thursday   \n",
       "4  Aarushi Maheshwari  03 Aug 2017,Thursday   \n",
       "\n",
       "                                           headlines  \\\n",
       "0  Daman & Diu revokes mandatory Rakshabandhan in...   \n",
       "1  Malaika slams user who trolled her for 'divorc...   \n",
       "2  'Virgin' now corrected to 'Unmarried' in IGIMS...   \n",
       "3  Aaj aapne pakad liya: LeT man Dujana before be...   \n",
       "4  Hotel staff to get training to spot signs of s...   \n",
       "\n",
       "                                           read_more  \\\n",
       "0  http://www.hindustantimes.com/india-news/raksh...   \n",
       "1  http://www.hindustantimes.com/bollywood/malaik...   \n",
       "2  http://www.hindustantimes.com/patna/bihar-igim...   \n",
       "3  http://indiatoday.intoday.in/story/abu-dujana-...   \n",
       "4  http://indiatoday.intoday.in/story/sex-traffic...   \n",
       "\n",
       "                                                text  \\\n",
       "0  The Administration of Union Territory Daman an...   \n",
       "1  Malaika Arora slammed an Instagram user who tr...   \n",
       "2  The Indira Gandhi Institute of Medical Science...   \n",
       "3  Lashkar-e-Taiba's Kashmir commander Abu Dujana...   \n",
       "4  Hotels in Maharashtra will train their staff t...   \n",
       "\n",
       "                                               ctext  \n",
       "0  The Daman and Diu administration on Wednesday ...  \n",
       "1  From her special numbers to TV?appearances, Bo...  \n",
       "2  The Indira Gandhi Institute of Medical Science...  \n",
       "3  Lashkar-e-Taiba's Kashmir commander Abu Dujana...  \n",
       "4  Hotels in Mumbai and other Indian cities are t...  "
      ]
     },
     "execution_count": 6,
     "metadata": {},
     "output_type": "execute_result"
    }
   ],
   "source": [
    "data.head()"
   ]
  },
  {
   "cell_type": "code",
   "execution_count": 7,
   "metadata": {},
   "outputs": [
    {
     "data": {
      "text/plain": [
       "'The Administration of Union Territory Daman and Diu has revoked its order that made it compulsory for women to tie rakhis to their male colleagues on the occasion of Rakshabandhan on August 7. The administration was forced to withdraw the decision within 24 hours of issuing the circular after it received flak from employees and was slammed on social media.'"
      ]
     },
     "execution_count": 7,
     "metadata": {},
     "output_type": "execute_result"
    }
   ],
   "source": [
    "data['text'][0]"
   ]
  },
  {
   "cell_type": "code",
   "execution_count": 8,
   "metadata": {},
   "outputs": [
    {
     "data": {
      "text/plain": [
       "'The Daman and Diu administration on Wednesday withdrew a circular that asked women staff to tie rakhis on male colleagues after the order triggered a backlash from employees and was ripped apart on social media.The union territory?s administration was forced to retreat within 24 hours of issuing the circular that made it compulsory for its staff to celebrate Rakshabandhan at workplace.?It has been decided to celebrate the festival of Rakshabandhan on August 7. In this connection, all offices/ departments shall remain open and celebrate the festival collectively at a suitable time wherein all the lady staff shall tie rakhis to their colleagues,? the order, issued on August 1 by Gurpreet Singh, deputy secretary (personnel), had said.To ensure that no one skipped office, an attendance report was to be sent to the government the next evening.The two notifications ? one mandating the celebration of Rakshabandhan (left) and the other withdrawing the mandate (right) ? were issued by the Daman and Diu administration a day apart. The circular was withdrawn through a one-line order issued late in the evening by the UT?s department of personnel and administrative reforms.?The circular is ridiculous. There are sensitivities involved. How can the government dictate who I should tie rakhi to? We should maintain the professionalism of a workplace? an official told Hindustan Times earlier in the day. She refused to be identified.The notice was issued on Daman and Diu administrator and former Gujarat home minister Praful Kodabhai Patel?s direction, sources said.Rakshabandhan, a celebration of the bond between brothers and sisters, is one of several Hindu festivities and rituals that are no longer confined of private, family affairs but have become tools to push politic al ideologies.In 2014, the year BJP stormed to power at the Centre, Rashtriya Swayamsevak Sangh (RSS) chief Mohan Bhagwat said the festival had ?national significance? and should be celebrated widely ?to protect Hindu culture and live by the values enshrined in it?. The RSS is the ideological parent of the ruling BJP.Last year, women ministers in the Modi government went to the border areas to celebrate the festival with soldiers. A year before, all cabinet ministers were asked to go to their constituencies for the festival.'"
      ]
     },
     "execution_count": 8,
     "metadata": {},
     "output_type": "execute_result"
    }
   ],
   "source": [
    "data['ctext'][0]"
   ]
  },
  {
   "cell_type": "markdown",
   "metadata": {},
   "source": [
    "### Text preprocessing"
   ]
  },
  {
   "cell_type": "code",
   "execution_count": 65,
   "metadata": {},
   "outputs": [],
   "source": [
    "# Define function to cleanup text by removing personal pronouns, stopwords, and puncuation\n",
    "# punctuations = '!\"#$%&\\'()*+,-/:;<=>?@[\\\\]^_`{|}~©'\n",
    "\n",
    "def cleanup_text(text):\n",
    "    \"\"\"apply spacy lemmatization\"\"\"\n",
    "    text_sp = nlp(text)\n",
    "    tokens = [token.lemma_ for token in text_sp \\\n",
    "        if (token.lemma_ not in string.punctuation) and \\\n",
    "            (not token.is_stop) and \\\n",
    "                (token.lemma_ != '-PRON-')]\n",
    "\n",
    "    return ' '.join(tokens)\n",
    "\n",
    "\n",
    "def strip_html_tags(text):\n",
    "    soup = BeautifulSoup(text, \"html.parser\")\n",
    "    stripped_text = soup.get_text()\n",
    "    return stripped_text\n",
    "\n",
    "\n",
    "def normalize_text(text):\n",
    "    \"\"\"Clean text and normalize\"\"\"\n",
    "    \n",
    "    text = re.sub('<pre>.*?</pre>', '', text, flags=re.DOTALL)\n",
    "    text = re.sub('<code>.*?</code>', '', text, flags=re.DOTALL)\n",
    "    text = re.sub('<[^>]+>©', '', text, flags=re.DOTALL)\n",
    "    text = text.replace(\"\\n\", \"\")\n",
    "\n",
    "    text = re.sub(\"(\\\\t)\", \" \", str(text))\n",
    "    text = re.sub(\"(\\\\r)\", \" \", str(text))\n",
    "    text = re.sub(\"(\\\\n)\", \" \", str(text))\n",
    "        \n",
    "        # remove html tags\n",
    "    text = strip_html_tags(text)\n",
    "        \n",
    "        # remove URL from text\n",
    "    text = re.sub(r\"http\\S+\", \"\", text)        \n",
    "        \n",
    "        # Remove _ if it occurs more than one time consecutively\n",
    "    text = re.sub(\"(__+)\", \" \", str(text))\n",
    "\n",
    "        # Remove - if it occurs more than one time consecutively\n",
    "    text = re.sub(\"(--+)\", \" \", str(text))\n",
    "\n",
    "        # Remove ~ if it occurs more than one time consecutively\n",
    "    text = re.sub(\"(~~+)\", \" \", str(text))\n",
    "\n",
    "        # Remove + if it occurs more than one time consecutively\n",
    "    text = re.sub(\"(\\+\\++)\", \" \", str(text))\n",
    "\n",
    "        # Remove . if it occurs more than one time consecutively\n",
    "    text = re.sub(\"(\\.\\.+)\", \" \", str(text))\n",
    "\n",
    "    # Remove the characters - <>()|&©ø\"',;?~*!\n",
    "    text = re.sub(r\"[<>()|&©ø\\[\\]\\'\\\",;?~*!]\", \" \", str(text))\n",
    "\n",
    "    # Remove mailto:\n",
    "    text = re.sub(\"(mailto:)\", \" \", str(text))\n",
    "\n",
    "    # Remove \\x9* in text\n",
    "    text = re.sub(r\"(\\\\x9\\d)\", \" \", str(text))\n",
    "\n",
    "    # Replace INC nums to INC_NUM\n",
    "    text = re.sub(\"([iI][nN][cC]\\d+)\", \"INC_NUM\", str(text))\n",
    "\n",
    "    # Replace CM# and CHG# to CM_NUM\n",
    "    text = re.sub(\"([cC][mM]\\d+)|([cC][hH][gG]\\d+)\", \"CM_NUM\", str(text))\n",
    "\n",
    "        # Remove punctuations at the end of a word\n",
    "    text = re.sub(\"(\\.\\s+)\", \" \", str(text))\n",
    "    text = re.sub(\"(\\-\\s+)\", \" \", str(text))\n",
    "    text = re.sub(\"(\\:\\s+)\", \" \", str(text))\n",
    "\n",
    "    # Replace any url to only the domain name\n",
    "    try:\n",
    "        url = re.search(r\"((https*:\\/*)([^\\/\\s]+))(.[^\\s]+)\", str(text))\n",
    "        repl_url = url.group(3)\n",
    "        text = re.sub(r\"((https*:\\/*)([^\\/\\s]+))(.[^\\s]+)\", repl_url, str(text))\n",
    "    except:\n",
    "        pass\n",
    "\n",
    "    # Remove multiple spaces\n",
    "    text = re.sub(\"(\\s+)\", \" \", str(text))\n",
    "\n",
    "    return text"
   ]
  },
  {
   "cell_type": "code",
   "execution_count": 33,
   "metadata": {},
   "outputs": [],
   "source": [
    "data['ctext_cleaned_1'] = data['ctext'].map(lambda x: normalize_text(x))"
   ]
  },
  {
   "cell_type": "code",
   "execution_count": 34,
   "metadata": {},
   "outputs": [
    {
     "name": "stdout",
     "output_type": "stream",
     "text": [
      "Before normalizing text-----\n",
      "\n",
      "Lashkar-e-Taiba's Kashmir commander Abu Dujana was killed in an encounter in a village in Pulwama district of Jammu and Kashmir earlier this week. Dujana, who had managed to give the security forces a slip several times in the past, carried a bounty of Rs 15 lakh on his head.Reports say that Dujana had come to meet his wife when he was trapped inside a house in Hakripora village. Security officials involved in the encounter tried their best to convince Dujana to surrender but he refused, reports say.According to reports, Dujana rejected call for surrender from an Army officer. The Army had commissioned a local to start a telephonic conversation with Dujana. After initiating the talk, the local villager handed over the phone to the army officer.\"Kya haal hai? Maine kaha, kya haal hai (How are you. I asked, how are you)?\" Dujana is heard asking the officer. The officer replies: \"Humara haal chhor Dujana. Surrender kyun nahi kar deta. Tu galat kar rha hai (Why don't you surrender? You have married this girl. What you are doing isn't right.)\"When told that he is being used by Pakistani agencies as a pawn, Dujana, who sounded calm and unperturbed of the situation, said \"Hum nikley they shaheed hone. Main kya karu. Jisko game khelna hai, khelo. Kabhi hum aage, kabhi aap, aaj aapne pakad liya, mubarak ho aapko. Jisko jo karna hai karlo (I had left home for martyrdom. What can I do? Today you caught me. Congratulations. \"Surrender nahi kar sakta. Jo meri kismat may likha hoga, Allah wahi karega, theek hai? (I won't surrender. Allaah would do whatever is there in my fate)\" Dujana went on to say. Dujana, who belonged to Pakistan, was Lashkar-e-Taiba's divisional commander in south Kashmir. He was among the top 10 terrorists identified by the Indian Army in Jammu and Kashmir.With a Rs 15 lakh bounty on his head, Dujana was labelled an 'A++' terrorist - the top grade which was also given to Burhan Wani.Security forces received inputs that during the last few days he was frequenting the houses of his wife Rukaiya and girlfriend Shazia. Police was keeping a watch on both the houses. when it was confirmed he was present in his wife's house, security forces moved in to trap him.ALSO READ:After Abu Dujana, security forces prepare new hitlist of most wanted terroristsAbu Dujana encounter: Jilted lover turned police informer led security forces to LeT commander\n",
      "\n",
      "After normalizing text-----\n",
      "\n",
      "Lashkar-e-Taiba Kashmir commander Abu Dujana was killed in an encounter in village in Pulwama district of Jammu and Kashmir earlier this week Dujana who had managed to give the security forces slip several times in the past carried bounty of Rs 15 lakh on his head.Reports say that Dujana had come to meet his wife when he was trapped inside house in Hakripora village Security officials involved in the encounter tried their best to convince Dujana to surrender but he refused reports say.According to reports Dujana rejected call for surrender from an Army officer The Army had commissioned local to start telephonic conversation with Dujana After initiating the talk the local villager handed over the phone to the army officer Kya haal hai Maine kaha kya haal hai How are you asked how are you Dujana is heard asking the officer The officer replies Humara haal chhor Dujana Surrender kyun nahi kar deta Tu galat kar rha hai Why don you surrender You have married this girl What you are doing isn right When told that he is being used by Pakistani agencies as pawn Dujana who sounded calm and unperturbed of the situation said Hum nikley they shaheed hone Main kya karu Jisko game khelna hai khelo Kabhi hum aage kabhi aap aaj aapne pakad liya mubarak ho aapko Jisko jo karna hai karlo had left home for martyrdom What can do Today you caught me Congratulations Surrender nahi kar sakta Jo meri kismat may likha hoga Allah wahi karega theek hai won surrender Allaah would do whatever is there in my fate Dujana went on to say Dujana who belonged to Pakistan was Lashkar-e-Taiba divisional commander in south Kashmir He was among the top 10 terrorists identified by the Indian Army in Jammu and Kashmir.With Rs 15 lakh bounty on his head Dujana was labelled an terrorist the top grade which was also given to Burhan Wani.Security forces received inputs that during the last few days he was frequenting the houses of his wife Rukaiya and girlfriend Shazia Police was keeping watch on both the houses when it was confirmed he was present in his wife house security forces moved in to trap him.ALSO READ:After Abu Dujana security forces prepare new hitlist of most wanted terroristsAbu Dujana encounter Jilted lover turned police informer led security forces to LeT commander\n"
     ]
    }
   ],
   "source": [
    "n = 3\n",
    "print('Before normalizing text-----\\n')\n",
    "print(data['ctext'][n])\n",
    "print('\\nAfter normalizing text-----\\n')\n",
    "print(data['ctext_cleaned_1'][n])"
   ]
  },
  {
   "cell_type": "code",
   "execution_count": 35,
   "metadata": {},
   "outputs": [],
   "source": [
    "data['ctext_cleaned'] = data['ctext_cleaned_1'].map(lambda x: cleanup_text(x))"
   ]
  },
  {
   "cell_type": "markdown",
   "metadata": {},
   "source": [
    "### Analyze article length"
   ]
  },
  {
   "cell_type": "code",
   "execution_count": 13,
   "metadata": {},
   "outputs": [
    {
     "data": {
      "image/png": "[encoded data removed]",
      "text/plain": [
       "<Figure size 432x288 with 1 Axes>"
      ]
     },
     "metadata": {
      "needs_background": "light"
     },
     "output_type": "display_data"
    }
   ],
   "source": [
    "article_lens = data['ctext_cleaned'].map(lambda x: len(x.split()))\n",
    "n, bins, patches = plt.hist(article_lens, 50, density=True, facecolor='g', alpha=0.75)"
   ]
  },
  {
   "cell_type": "markdown",
   "metadata": {},
   "source": [
    "## Summarizer using Spacy"
   ]
  },
  {
   "cell_type": "markdown",
   "metadata": {},
   "source": [
    "1. Convert Paragraphs to Sentences: We first need to convert the whole paragraph into sentences. The most common way of converting paragraphs to sentences is to split the paragraph whenever a period is encountered.\n",
    "\n",
    "2. Text Preprocessing: After converting paragraph to sentences, we need to remove all the special characters, stop words and numbers from all the sentences.\n",
    "\n",
    "3. Tokenizing the Sentences: We need to tokenize all the sentences to get all the words that exist in the sentences\n",
    "\n",
    "4. Find Weighted Frequency of Occurrence: Next we need to find the weighted frequency of occurrences of all the words. We can find the weighted frequency of each word by dividing its frequency by the frequency of the most occurring word.\n",
    "\n",
    "5. Replace Words by Weighted Frequency in Original Sentences: The final step is to plug the weighted frequency in place of the corresponding words in original sentences and finding their sum. It is important to mention that weighted frequency for the words removed during preprocessing (stop words, punctuation, digits etc.) will be zero and therefore is not required to be added\n",
    "\n",
    "6. Sort Sentences in Descending Order of Sum: The final step is to sort the sentences in inverse order of their sum. The sentences with highest frequencies summarize the text."
   ]
  },
  {
   "cell_type": "code",
   "execution_count": 17,
   "metadata": {},
   "outputs": [],
   "source": [
    "def generate_summary(text_without_removing_dot, cleaned_text, num_sentences=5):\n",
    "    \n",
    "    sample_text = text_without_removing_dot\n",
    "    doc = nlp(sample_text)\n",
    "    sentence_list=[]\n",
    "    for idx, sentence in enumerate(doc.sents): # we are using spacy for sentence tokenization\n",
    "        sentence_list.append(re.sub(r'[^\\w\\s]','',str(sentence)))\n",
    "\n",
    "    stopwords = nltk.corpus.stopwords.words('english')\n",
    "\n",
    "    word_frequencies = {}  \n",
    "    for word in nltk.word_tokenize(cleaned_text):  \n",
    "        if word not in stopwords:\n",
    "            if word not in word_frequencies.keys():\n",
    "                word_frequencies[word] = 1\n",
    "            else:\n",
    "                word_frequencies[word] += 1\n",
    "\n",
    "    maximum_frequncy = max(word_frequencies.values())\n",
    "\n",
    "    for word in word_frequencies.keys():  \n",
    "        word_frequencies[word] = (word_frequencies[word]/maximum_frequncy)\n",
    "\n",
    "    sentence_scores = {}  \n",
    "    for sent in sentence_list:  \n",
    "        for word in nltk.word_tokenize(sent.lower()):\n",
    "            if word in word_frequencies.keys():\n",
    "                if len(sent.split(' ')) < 30:\n",
    "                    if sent not in sentence_scores.keys():\n",
    "                        sentence_scores[sent] = word_frequencies[word]\n",
    "                    else:\n",
    "                        sentence_scores[sent] += word_frequencies[word]\n",
    "\n",
    "\n",
    "    summary_sentences = heapq.nlargest(num_sentences, sentence_scores, key=sentence_scores.get)\n",
    "\n",
    "    summary = ' '.join(summary_sentences)\n",
    "    print(\"Original Text:\\n\")\n",
    "    print(text_without_removing_dot)\n",
    "    print('\\n\\nSummarized text:\\n')\n",
    "    print(summary)"
   ]
  },
  {
   "cell_type": "code",
   "execution_count": 36,
   "metadata": {},
   "outputs": [
    {
     "name": "stdout",
     "output_type": "stream",
     "text": [
      "Original Text:\n",
      "\n",
      "Two years after helicopter crash near the Bombay High offshore oil field killed two pilots an inquiry by the Air Accident Investigation Bureau AAIB found that the chopper was flying at critically low height without the pilots realising it The Pawan Hans helicopter was on training sortie on the evening of November 2015 Aviation regulator Director General of Civil Aviation DGCA had asked AAIB to conduct an inquiry The inquiry report which was made public on Wednesday said that the main pilot was flying low and that the other did not realise it After taking off the Rontappmeyer RYTYR helicopter may have faced difficulties as the moon was waning the report said The report mentioned that the instructor Captain Samuel wasn disoriented and was aware of the low height of the helicopter He alerted Captain TK Guha little late but even after realising that Guha wasn able to manage the situation Samuel did not take control of the helicopter.AAIB recommended that ONGC which owns Bombay High along with the helicopter operators identify helidecks from where night flying can take place AAIB also said that Pawan Hans pilots need to rest sufficiently before flying Guha was flying during the night after gap of almost year read the report READPawan Hans chopper crash Both pilots on board still missingWatch Maharashtra CM helicopter crash-lands Devendra Fadnavis safe\n",
      "\n",
      "\n",
      "Summarized text:\n",
      "\n",
      "\n"
     ]
    }
   ],
   "source": [
    "generate_summary(data['ctext_cleaned_1'][8], data['ctext_cleaned'][8], 5)"
   ]
  },
  {
   "cell_type": "code",
   "execution_count": 37,
   "metadata": {},
   "outputs": [
    {
     "name": "stdout",
     "output_type": "stream",
     "text": [
      "Original Text:\n",
      "\n",
      "The Food Safety and Standards Authority of India FSSAI is in the process of creating network of food banking partners to collect and distribute leftover food from large parties and weddings to the hungry.A notification to create separate category of food business operators FBOs who will be licensed to deal only with leftover food has been drafted to ensure the quality of food We are looking at partnering with NGOs or organisations that collect store and distribute surplus food to ensure they maintain certain hygiene and health standards when handling food said Pawan Agarwal CEO of FSSAI Tonnes of food is wasted annually We are looking at creating mechanism through which food can be collected from restaurants weddings large-scale parties says Pawan Agarwal All food whether it is paid for or distributed free must meet the country food safety and hygiene standards he said.The organisations in the business of collecting leftover food will now have to work in collaboration with FSSAI so their efforts can be scaled up Tonnes of food is wasted annually and can be used to feed several thousands We are looking at creating mechanism through which food can be collected from restaurants weddings large-scale parties etc said Agarwal.The initiative will set up helpline network where organisations can call in for collection but reaching individuals who want to directly donate food will take time We will have central helpline number Reaching people at the household level may not be feasible initially but it is an integral part of the long-term plan he said We have begun collecting names of people working in the sector There are still few months to go before the scheme materialises said Agarwal Collecting food going waste to feed the hungry is noble thought but to transport store and maintain the cold chain of cooked food is huge challenge The logistics are nightmare which is why we don handle leftovers and only distribute uncooked food that can be cooked locally said Kuldip Nar founder of Delhi NCR Food Bank which has been feeding the poor in 10 cities since 2011.\n",
      "\n",
      "\n",
      "Summarized text:\n",
      "\n",
      "\n"
     ]
    }
   ],
   "source": [
    "generate_summary(data['ctext_cleaned_1'][10], data['ctext_cleaned'][10], 5)"
   ]
  },
  {
   "cell_type": "markdown",
   "metadata": {},
   "source": [
    "## Text summarization using word2vec"
   ]
  },
  {
   "cell_type": "code",
   "execution_count": 19,
   "metadata": {},
   "outputs": [],
   "source": [
    "import numpy as np\n",
    "import pandas as pd\n",
    "from matplotlib import pyplot as plt\n",
    "import re\n",
    "\n",
    "from nltk.tokenize import sent_tokenize\n",
    "from tensorflow.keras.preprocessing.text import Tokenizer\n",
    "from tensorflow.keras.preprocessing.sequence import pad_sequences\n",
    "import gensim.models.keyedvectors as word2vec\n",
    "import gc\n",
    "import string\n",
    "\n",
    "from sklearn.cluster import KMeans\n",
    "from sklearn.metrics import pairwise_distances_argmin_min\n",
    "\n",
    "from helper.contractions import CONTRACTION_MAP\n",
    "from bs4 import BeautifulSoup\n",
    "\n",
    "from nltk.corpus import stopwords"
   ]
  },
  {
   "cell_type": "code",
   "execution_count": 20,
   "metadata": {},
   "outputs": [],
   "source": [
    "# data = pd.read_csv(path, nrows=8000, encoding='latin1')\n",
    "# data = data.dropna()\n",
    "# data.head()"
   ]
  },
  {
   "cell_type": "markdown",
   "metadata": {},
   "source": [
    "#### Sentence tokenization\n",
    "We can use the NLTK’s sentence tokenizer to obtain the sentence level tokens."
   ]
  },
  {
   "cell_type": "code",
   "execution_count": 21,
   "metadata": {},
   "outputs": [],
   "source": [
    "def sentence_tokenizer(text):\n",
    "    \"\"\"Modulke to create sentenc tokens\"\"\"\n",
    "    return sent_tokenize(text, language = 'en')"
   ]
  },
  {
   "cell_type": "code",
   "execution_count": 30,
   "metadata": {},
   "outputs": [],
   "source": [
    "article_list = data['ctext_cleaned_1'].map(lambda x: sent_tokenize(x))"
   ]
  },
  {
   "cell_type": "code",
   "execution_count": 31,
   "metadata": {},
   "outputs": [
    {
     "data": {
      "text/plain": [
       "['The Indira Gandhi Institute of Medical Sciences (IGIMS) in Patna amended its marital declaration form on Thursday, replacing the word ?virgin?',\n",
       " 'with ?unmarried?',\n",
       " 'after controversy.Until now, new recruits to the super-specialty medical institute in the state capital were required to declare if they were bachelors, widowers or virgins.IGIMS medical superintendent Dr Manish Mandal said institute director Dr NR Biswas held a meeting on Thursday morning before directing that the word ?virgin?',\n",
       " 'on the marital declaration form be immediately replaced with ?unmarried?.',\n",
       " 'Dr Biswas had just returned after a four-day leave of absence.Earlier, Bihar health minister Mangal Pandey had ended up redefining the very meaning of virginity in his attempts to justify the awkward phrasing of the question in the form.',\n",
       " 'Following a public furore over the document on Wednesday, the minister told news channels that there was nothing wrong with using the word ?virgin?',\n",
       " 'because it simply meant ?kanya?',\n",
       " 'or ?kunwari? ?',\n",
       " 'which means an unmarried girl.Pandey had joined the cabinet just three days ago.Sources said the chief minister?s office had also taken cognizance of the issue, and asked for a copy of the form.',\n",
       " 'It had even asked why the question was introduced in the first place.In its response, the management of the autonomous super-specialty health facility had clarified on Wednesday that it was in adherence to the central civil services rules followed by the All India Institute of Medical Sciences in New Delhi.The previous version of the marital declaration form, which purportedly asked new recruits if they were virgins.',\n",
       " '(HT Photo)\\r\\t\\t\\t\\t\\t\\tThe marital declaration form had been in existence since the inception of the institute in 1983.',\n",
       " 'Some officials blamed the faux pas on poor translation on the part of individuals who drafted the document.',\n",
       " '?The word ?virgin?',\n",
       " 'mentioned on the form had nothing to do with the virginity of any employee.',\n",
       " 'It only sought to know the employees?',\n",
       " 'marital status, so their dues could be settled on the basis of their declaration in the event of death while in service,?',\n",
       " 'said Dr Mandal.']"
      ]
     },
     "execution_count": 31,
     "metadata": {},
     "output_type": "execute_result"
    }
   ],
   "source": [
    "article_list[2]"
   ]
  },
  {
   "cell_type": "markdown",
   "metadata": {},
   "source": [
    "#### Skip-Thought Encoder\n",
    "\n",
    "We need a way to generate fixed length vector representations for each sentence in our reviews. These representations should encode the inherent semantics and the meaning of the corresponding sentence. The well known Skip-Gram Word2Vec method for generating word embeddings can give us word embeddings for individual words that are present in our model’s vocabulary (some [fancier approaches](https://arxiv.org/abs/1607.04606) can also generate embeddings for words which are not in the model vocabulary using subword information).  \n",
    "\n",
    "For sentence embeddings, one easy way is to take a weighted sum of the word vectors for the words contained in the sentence. We take a weighted sum because frequently occurring words such as ‘and’, ‘to’ and ‘the’, provide little or no information about the sentence. Some rarely occurring words, which are unique to a few sentences have much more representative power. Hence, we take the weights as being inversely related to the frequency of word occurrence. This method is described in detail in this [paper](https://openreview.net/pdf?id=SyK00v5xx).\n",
    "\n",
    "However, these unsupervised methods do not take the sequence of words in the sentence into account. This may incur undesirable losses in model performance. To overcome this, I chose to instead train a Skip-Thought sentence encoder in a supervised manner using Wikipedia dumps as training data. The Skip-Thoughts model consists of two parts:\n",
    "\n",
    "1. Encoder Network: The encoder is typically a GRU-RNN which generates a fixed length vector representation h(i) for each sentence S(i) in the input. The encoded representation h(i) is obtained by passing final hidden state of the GRU cell (i.e. after it has seen the entire sentence) to multiple dense layers.  \n",
    "\n",
    "2. Decoder Network: The decoder network takes this vector representation h(i) as input and tries to generate two sentences — S(i-1) and S(i+1), which could occur before and after the input sentence respectively. Separate decoders are implemented for generation of previous and next sentences, both being GRU-RNNs. The vector representation h(i) acts as the initial hidden state for the GRUs of the decoder networks.\n",
    "\n",
    "\n",
    "Given a dataset containing a sequence of sentences, the decoder is expected to generate the previous and next sentences, word by word. The encoder-decoder network is trained to minimize the sentence reconstruction loss, and in doing so, the encoder learns to generate vector representations which encode enough information for the decoder, so that it can generate neighboring sentences. These learned representations are such that embeddings of semantically similar sentences are closer to each other in vector space, and therefore are suitable for clustering. The sentences in our emails are given as input to the encoder network to obtain the desired vector representations. This Skip-Thoughts approach for obtaining sentence embeddings is described in detail in this [paper](https://arxiv.org/abs/1506.06726).  \n",
    "\n",
    "Skipthought code can be found [here](https://github.com/ryankiros/skip-thoughts) \n",
    "\n",
    "\n",
    "#### Clustering  \n",
    "After generating sentence embeddings for each sentence in an review, the approach is to cluster these embeddings in high-dimensional vector space into a pre-defined number of clusters. The number of clusters will be equal to desired number of sentences in the summary. I chose the numbers of sentences in the summary to be equal to the square root of the total number of sentence in the review. One can also have it as being equal to, say, _30%_ of the total number of sentences.  \n",
    "\n",
    "#### Summarization  \n",
    "Each cluster of sentence embeddings can be interpreted as a set of semantically similar sentences whose meaning can be expressed by just one candidate sentence in the summary. The candidate sentence is chosen to be the sentence whose vector representation is closest to the cluster center. Candidate sentences corresponding to each cluster are then ordered to form a summary for a review. The order of the candidate sentences in the summary is determined by the positions of the sentences in their corresponding clusters in the original review. For example, a candidate sentence is chosen as the first line in the summary if most of the sentences that lie in its cluster occur at the beginning of the review.  \n",
    "\n",
    "*As this method essentially extracts some candidate sentences from the text to form a summary, it is known as Extractive Sumarization*\n",
    "\n",
    "\n"
   ]
  },
  {
   "cell_type": "code",
   "execution_count": 38,
   "metadata": {},
   "outputs": [],
   "source": [
    "embed_size = 100\n",
    "EMBEDDING_FILE = '/Users/ndah/Desktop/NLP/glove/glove.6B.100d.txt'\n",
    "glove_embeddings = open(EMBEDDING_FILE, encoding=\"utf8\")"
   ]
  },
  {
   "cell_type": "code",
   "execution_count": 39,
   "metadata": {},
   "outputs": [],
   "source": [
    "embedd_dict = dict()\n",
    "\n",
    "for embeddings in glove_embeddings:\n",
    "    embedding_tokens = embeddings.split()\n",
    "    emb_word = embedding_tokens[0]\n",
    "    emb_vector = np.asarray(embedding_tokens[1:], dtype='float32')\n",
    "    embedd_dict[emb_word] = emb_vector\n",
    "\n",
    "glove_embeddings.close()\n"
   ]
  },
  {
   "cell_type": "code",
   "execution_count": 59,
   "metadata": {},
   "outputs": [],
   "source": [
    "def expand_contractions(text):\n",
    "    words = text.strip().split()\n",
    "    words_expand = []\n",
    "    for word in words:\n",
    "        if word in CONTRACTION_MAP.keys():\n",
    "            words_expand.append(CONTRACTION_MAP[word])\n",
    "        else:\n",
    "            words_expand.append(word)\n",
    "            \n",
    "    text_expand = ' '.join(words_expand)\n",
    "    return text_expand\n",
    "\n",
    "\n",
    "def strip_html_tags(text):\n",
    "    soup = BeautifulSoup(text, \"html.parser\")\n",
    "    stripped_text = soup.get_text()\n",
    "    \n",
    "    return stripped_text\n",
    "\n",
    "\n",
    "def preprocess_text(text):\n",
    "    text = normalize_text(text)\n",
    "    text = expand_contractions(text)\n",
    "    text = strip_html_tags(text)\n",
    "\n",
    "    return text\n",
    "\n",
    "\n",
    "def sentence_embedding(tokens, word2vec):\n",
    "    \"\"\"\n",
    "    Naive embeddings: Calculates the embedding for entire sentence by taking the average of all words\n",
    "    \"\"\"\n",
    "    tokens_emb =[]\n",
    "    for token in tokens:\n",
    "        embedding_vector = word2vec.get(token)\n",
    "        if embedding_vector is not None:\n",
    "            tokens_emb.append(embedding_vector)\n",
    "\n",
    "    return np.mean(np.array(tokens_emb), axis=0)\n",
    "\n",
    "\n",
    "nlp = spacy.load('en_core_web_sm')\n",
    "def spacy_lemmatizer(sentence):\n",
    "    spacy_sentence = nlp(sentence)\n",
    "    tokens = []\n",
    "    for word in spacy_sentence:\n",
    "        if not word.is_stop:\n",
    "            tokens.append(word.lemma_)\n",
    "        \n",
    "    return tokens\n",
    "\n",
    "\n",
    "def embedding(sentence_tokens, word2vec):\n",
    "    \"\"\"Calculates the embedding of each sentence in the review\"\"\"\n",
    "    sentence_enc = []\n",
    "    for sentence in sentence_tokens:\n",
    "        sentence_clean = preprocess_text(sentence)\n",
    "        tokens = spacy_lemmatizer(sentence_clean)\n",
    "        res = list(sentence_embedding(tokens, word2vec))\n",
    "        \n",
    "        sentence_enc.append(res)\n",
    "        \n",
    "    return np.array(sentence_enc)"
   ]
  },
  {
   "cell_type": "code",
   "execution_count": 66,
   "metadata": {},
   "outputs": [],
   "source": [
    "def summarize(reviews, word2vec):\n",
    "    \"\"\"\n",
    "    Performs summarization of reviews\n",
    "    \"\"\"\n",
    "    summary = []\n",
    "    \n",
    "    for review in reviews:\n",
    "        \n",
    "        sent_tokens = sent_tokenize(review.strip())\n",
    "        \n",
    "        review_enc = embedding(sent_tokens, word2vec)        \n",
    "        n_clusters = int(np.ceil(len(review_enc)**0.5))\n",
    "        kmeans = KMeans(n_clusters=n_clusters, random_state=0)\n",
    "        kmeans = kmeans.fit(review_enc)\n",
    "        \n",
    "        avg = []\n",
    "        closest = []\n",
    "        for j in range(n_clusters):\n",
    "            idx = np.where(kmeans.labels_ == j)[0]\n",
    "            avg.append(np.mean(idx))\n",
    "            \n",
    "        closest, _ = pairwise_distances_argmin_min(kmeans.cluster_centers_, review_enc)\n",
    "        ordering = sorted(range(n_clusters), key=lambda k: avg[k])\n",
    "        review_summary = ' '.join([sent_tokens[closest[idx]] for idx in ordering])\n",
    "        \n",
    "        summary.append(review_summary)\n",
    "        \n",
    "    return summary"
   ]
  },
  {
   "cell_type": "code",
   "execution_count": 52,
   "metadata": {},
   "outputs": [
    {
     "data": {
      "text/html": [
       "<div>\n",
       "<style scoped>\n",
       "    .dataframe tbody tr th:only-of-type {\n",
       "        vertical-align: middle;\n",
       "    }\n",
       "\n",
       "    .dataframe tbody tr th {\n",
       "        vertical-align: top;\n",
       "    }\n",
       "\n",
       "    .dataframe thead th {\n",
       "        text-align: right;\n",
       "    }\n",
       "</style>\n",
       "<table border=\"1\" class=\"dataframe\">\n",
       "  <thead>\n",
       "    <tr style=\"text-align: right;\">\n",
       "      <th></th>\n",
       "      <th>author</th>\n",
       "      <th>date</th>\n",
       "      <th>headlines</th>\n",
       "      <th>read_more</th>\n",
       "      <th>text</th>\n",
       "      <th>ctext</th>\n",
       "      <th>ctext_cleaned_1</th>\n",
       "      <th>ctext_cleaned</th>\n",
       "    </tr>\n",
       "  </thead>\n",
       "  <tbody>\n",
       "    <tr>\n",
       "      <th>2419</th>\n",
       "      <td>Chhavi Tyagi</td>\n",
       "      <td>14 Jul 2017,Friday</td>\n",
       "      <td>CBSE asked to install jammers to block porn si...</td>\n",
       "      <td>http://www.hindustantimes.com/india-news/cbse-...</td>\n",
       "      <td>The government told the Supreme Court on Frida...</td>\n",
       "      <td>The government said in the Supreme Court on Fr...</td>\n",
       "      <td>The government said in the Supreme Court on Fr...</td>\n",
       "      <td>government say Supreme Court Friday Central Bo...</td>\n",
       "    </tr>\n",
       "    <tr>\n",
       "      <th>2628</th>\n",
       "      <td>Chhavi Tyagi</td>\n",
       "      <td>10 Jul 2017,Monday</td>\n",
       "      <td>Lashkar terrorist from UP arrested in Kashmir</td>\n",
       "      <td>http://indiatoday.intoday.in/story/muzaffarnag...</td>\n",
       "      <td>The Jammu and Kashmir Police on Monday arreste...</td>\n",
       "      <td>The Jammu and Kashmir Police on Monday arreste...</td>\n",
       "      <td>The Jammu and Kashmir Police on Monday arreste...</td>\n",
       "      <td>Jammu Kashmir Police Monday arrest man belong ...</td>\n",
       "    </tr>\n",
       "    <tr>\n",
       "      <th>792</th>\n",
       "      <td>Anmol Sharma</td>\n",
       "      <td>21 Jul 2017,Friday</td>\n",
       "      <td>SA ODI captain AB de Villiers becomes father f...</td>\n",
       "      <td>http://www.hindustantimes.com/cricket/ab-de-vi...</td>\n",
       "      <td>South Africa's ODI captain AB de Villiers and ...</td>\n",
       "      <td>AB de Villiers, South Africa?s ODI skipper, ha...</td>\n",
       "      <td>AB de Villiers South Africa ODI skipper has we...</td>\n",
       "      <td>AB de Villiers South Africa ODI skipper welcom...</td>\n",
       "    </tr>\n",
       "    <tr>\n",
       "      <th>579</th>\n",
       "      <td>Sonu Kumari</td>\n",
       "      <td>25 Jul 2017,Tuesday</td>\n",
       "      <td>Blind man jailed for raping blind woman in Gur...</td>\n",
       "      <td>http://www.hindustantimes.com/gurgaon/gurgaon-...</td>\n",
       "      <td>A Gurugram district court on Monday reportedly...</td>\n",
       "      <td>A Gurgaon district court on Monday awarded 10 ...</td>\n",
       "      <td>A Gurgaon district court on Monday awarded 10 ...</td>\n",
       "      <td>Gurgaon district court Monday award 10 year ri...</td>\n",
       "    </tr>\n",
       "    <tr>\n",
       "      <th>813</th>\n",
       "      <td>Aarushi Maheshwari</td>\n",
       "      <td>21 Jul 2017,Friday</td>\n",
       "      <td>Bengaluru patient plays guitar during brain su...</td>\n",
       "      <td>http://indiatoday.intoday.in/story/patient-str...</td>\n",
       "      <td>A 37-year-old patient played the guitar while ...</td>\n",
       "      <td>Bengaluru, Jul 20 (PTI) A musician played the ...</td>\n",
       "      <td>Bengaluru Jul 20 PTI musician played the guita...</td>\n",
       "      <td>Bengaluru Jul 20 PTI musician play guitar oper...</td>\n",
       "    </tr>\n",
       "  </tbody>\n",
       "</table>\n",
       "</div>"
      ],
      "text/plain": [
       "                  author                 date  \\\n",
       "2419        Chhavi Tyagi   14 Jul 2017,Friday   \n",
       "2628        Chhavi Tyagi   10 Jul 2017,Monday   \n",
       "792         Anmol Sharma   21 Jul 2017,Friday   \n",
       "579          Sonu Kumari  25 Jul 2017,Tuesday   \n",
       "813   Aarushi Maheshwari   21 Jul 2017,Friday   \n",
       "\n",
       "                                              headlines  \\\n",
       "2419  CBSE asked to install jammers to block porn si...   \n",
       "2628      Lashkar terrorist from UP arrested in Kashmir   \n",
       "792   SA ODI captain AB de Villiers becomes father f...   \n",
       "579   Blind man jailed for raping blind woman in Gur...   \n",
       "813   Bengaluru patient plays guitar during brain su...   \n",
       "\n",
       "                                              read_more  \\\n",
       "2419  http://www.hindustantimes.com/india-news/cbse-...   \n",
       "2628  http://indiatoday.intoday.in/story/muzaffarnag...   \n",
       "792   http://www.hindustantimes.com/cricket/ab-de-vi...   \n",
       "579   http://www.hindustantimes.com/gurgaon/gurgaon-...   \n",
       "813   http://indiatoday.intoday.in/story/patient-str...   \n",
       "\n",
       "                                                   text  \\\n",
       "2419  The government told the Supreme Court on Frida...   \n",
       "2628  The Jammu and Kashmir Police on Monday arreste...   \n",
       "792   South Africa's ODI captain AB de Villiers and ...   \n",
       "579   A Gurugram district court on Monday reportedly...   \n",
       "813   A 37-year-old patient played the guitar while ...   \n",
       "\n",
       "                                                  ctext  \\\n",
       "2419  The government said in the Supreme Court on Fr...   \n",
       "2628  The Jammu and Kashmir Police on Monday arreste...   \n",
       "792   AB de Villiers, South Africa?s ODI skipper, ha...   \n",
       "579   A Gurgaon district court on Monday awarded 10 ...   \n",
       "813   Bengaluru, Jul 20 (PTI) A musician played the ...   \n",
       "\n",
       "                                        ctext_cleaned_1  \\\n",
       "2419  The government said in the Supreme Court on Fr...   \n",
       "2628  The Jammu and Kashmir Police on Monday arreste...   \n",
       "792   AB de Villiers South Africa ODI skipper has we...   \n",
       "579   A Gurgaon district court on Monday awarded 10 ...   \n",
       "813   Bengaluru Jul 20 PTI musician played the guita...   \n",
       "\n",
       "                                          ctext_cleaned  \n",
       "2419  government say Supreme Court Friday Central Bo...  \n",
       "2628  Jammu Kashmir Police Monday arrest man belong ...  \n",
       "792   AB de Villiers South Africa ODI skipper welcom...  \n",
       "579   Gurgaon district court Monday award 10 year ri...  \n",
       "813   Bengaluru Jul 20 PTI musician play guitar oper...  "
      ]
     },
     "execution_count": 52,
     "metadata": {},
     "output_type": "execute_result"
    }
   ],
   "source": [
    "test = data.sample(n = 5)\n",
    "test.head()"
   ]
  },
  {
   "cell_type": "code",
   "execution_count": 67,
   "metadata": {},
   "outputs": [],
   "source": [
    "test_articles = test['ctext'].to_list()\n",
    "test_summary = summarize(test_articles, embedd_dict)"
   ]
  },
  {
   "cell_type": "code",
   "execution_count": 68,
   "metadata": {},
   "outputs": [
    {
     "name": "stdout",
     "output_type": "stream",
     "text": [
      "Original Text:\n",
      "\n",
      "The government said in the Supreme Court on Friday that the Central Board of Secondary Education (CBSE) has been asked to explore the option of putting jammers to prevent students from accessing online child pornography in school.The court was hearing a petition seeking a directive to the government to block all websites hosting pornographic content.Additional solicitor general Pinky Anand said that 3,522 sites were blocked in June, but ruled out installing jammers in school buses as part of steps to prevent youngsters from being abused sexually on the internet.?It?s not possible to have jammers in buses, but to install them inside school premise is under consideration. The CBSE has been instructed to take up the issue with school managements,? Anand said.The CBSE is the country?s top school board and more than 10,000 institutions are affiliated to it.Most schools teach computers and the internet has become part of the curriculum, enhancing knowledge as well as putting the students at risk of being sexually exploited online. Children in school buses accessing porn on mobile phones remain a grey area.There is no accurate data on the number of Indian children being exploited in pornographic material as many victims do not go to police because of fear and shame. There were 96 reports of children being sexually exploited online in 2015, according to National Crimes Records Bureau data.The government told a three-judge bench headed by Justice Dipak Misra that it will take steps to deal with the ?situation in its entirety?.It said the Central Bureau of Investigation (CBI) shares an Interpol list on online child sexual abuse material with the government, which then orders internet service providers to block these sites. This list is updated regularly.India doesn?t have a centralised mechanism to monitor websites containing child porn. A government committee has suggested that internet service providers should disable such sites until the monitoring system is created.Besides, the service providers were asked to spread awareness among subscribers about the use of parental control filters in their machines.\n",
      "\n",
      "\n",
      "Summarized text:\n",
      "\n",
      "?It?s not possible to have jammers in buses, but to install them inside school premise is under consideration. The CBSE has been instructed to take up the issue with school managements,? There were 96 reports of children being sexually exploited online in 2015, according to National Crimes Records Bureau data.The government told a three-judge bench headed by Justice Dipak Misra that it will take steps to deal with the ?situation in its entirety?.It said the Central Bureau of Investigation (CBI) shares an Interpol list on online child sexual abuse material with the government, which then orders internet service providers to block these sites.\n",
      "\n",
      "Original Text:\n",
      "\n",
      "The Jammu and Kashmir Police on Monday arrested a man belonging to Uttar Pradesh's Muzaffarnagar for working as a Lashkar terrorist. He was arrested from an encounter site in Anantnag district.  The arrested terrorist, identified as Sandeep Kumar Sharma alias Aadil, was part of three attacks last month on security forces in the Kashmir Valley. Kumar was behind the killing of SHO Feroz Dar and five other policemen in Anantnag on June 16 and found involved in snatching of weapons from a police camp in Anantnag from a retired judge's home on June 13. He also carried out a terror attack on an Army convoy on June 3.Lashkar terrorists were helped by Sandeep to loot ATMs and indulge in immoral activities in the villages.Inspector General of Police Munir Khan said, \"Uttar Pradesh resident Sandeep Sharma, a part of the Lashkar module, has been arrested by the Jammu and Kashmir police. He was a criminal who later got in touch with Lashkar.\" SANDEEP WAS IN THE VALLEY SINCE 2012\"Sandeep was in the same house where dreaded Lashkar militant Bashir Lashkar took shelter. He was in the Valley since 2012.  Bashir Lashkar was killed in an encounter on July 1 in Anantnag. Sandeep was one of the 17 people rescued from encounter site. When police found out that he was a non-local, he was asked about his presence there. He revealed that he was part of the Lashkar group trapped in the house where two Lashkar terrorists, including Bashir Lashkari was killed.\" On being grilled further, it was learnt that Sandeep, along with other individuals, was involved in hatching criminal conspiracies leading to providing shelter to terrorists and ferrying them from one place to another for terror strikes and actively participating in terrorist activities.He also concealed weapons looted from police guards in a vehicle and shifted them to different locations on the directions of LeT.An investigation is in progress for find out the roles of his accomplices.Also read | Kashmir: 2 terrorists killed as infiltration bid foiled in Nowgam, combing ops onAlso read | Burhan Wani death anniversary: Fear of 2016 violence haunts Kashmir\n",
      "\n",
      "\n",
      "Summarized text:\n",
      "\n",
      "He was arrested from an encounter site in Anantnag district. On being grilled further, it was learnt that Sandeep, along with other individuals, was involved in hatching criminal conspiracies leading to providing shelter to terrorists and ferrying them from one place to another for terror strikes and actively participating in terrorist activities.He also concealed weapons looted from police guards in a vehicle and shifted them to different locations on the directions of LeT.An investigation is in progress for find out the roles of his accomplices.Also read | Kashmir: 2 terrorists killed as infiltration bid foiled in Nowgam, combing ops onAlso read | Burhan Wani death anniversary: Fear of 2016 violence haunts Kashmir He was in the Valley since 2012. Bashir Lashkar was killed in an encounter on July 1 in Anantnag.\n",
      "\n",
      "Original Text:\n",
      "\n",
      "AB de Villiers, South Africa?s ODI skipper, has welcomed the birth of his second child, John Richard de Villiers in Johannesburg on Friday. de Villiers, who returned home after the end of the Champions Trophy in England, took to Instagram and posted, ?Now we are 4!?    Now we are 4! Praise the Lord for this amazing blessing in our lives. John Richard de Villiers was born at 11am on Monday the 17th and both Danielle and John are safe at home. My wife is the most amazing woman and once again showed incredible courage and strength through all of this. A post shared by AB de Villiers (@abdevilliers17) on Jul 20, 2017 at 9:22am PDT De Villiers married Danielle in 2013 and the couple have a two-year old son, Abraham de Villiers, who is two years old.The South African limited-overs skipper skipped the ongoing four-Test series against England as he aims to stay fully fit and guide the Proteas to a World cup title in 2019. de Villiers is expected to meet Cricket South Africa at the end of August and announce his decision on his playing future.De Villiers has not played Test cricket since the England series in January 2016. He missed subsequent tours of Australia, New Zealand and the current series in England as he aims to nurse a chronic long-term elbow injury. In the recently concluded Champions Trophy 2017, South Africa were knocked out in the league stages and the skipper managed just 20 runs in the three games. Although he had a consistent return in the three T20Is against England, South Africa lost the series 2-1.Currently, South Africa are playing four Tests in England and the series is currently tied 1-1. England won the first Test in Lord?s while South Africa bounced back with a record 340-run win in Trent Bridge. The third Test begins on July 27 at The Oval.\n",
      "\n",
      "\n",
      "Summarized text:\n",
      "\n",
      "John Richard de Villiers was born at 11am on Monday the 17th and both Danielle and John are safe at home. Now we are 4! Praise the Lord for this amazing blessing in our lives. A post shared by AB de Villiers (@abdevilliers17) on Jul 20, 2017 at 9:22am PDT De Villiers married Danielle in 2013 and the couple have a two-year old son, Abraham de Villiers, who is two years old.The South African limited-overs skipper skipped the ongoing four-Test series against England as he aims to stay fully fit and guide the Proteas to a World cup title in 2019. de Villiers is expected to meet Cricket South Africa at the end of August and announce his decision on his playing future.De Villiers has not played Test cricket since the England series in January 2016.\n",
      "\n",
      "Original Text:\n",
      "\n",
      "A Gurgaon district court on Monday awarded 10 years rigorous imprisonment to a blind man, a trainee probationary officer at a public sector bank, who was found guilty of raping a 33-year-old blind widow repeatedly on the pretext of marriage. The court also imposed a penalty on convict Saurabh Kapoor, 35, who was convicted of rape under Section 376 of the IPC.Additional Sessions Judge Rajni Yadav, while pronouncing the quantum of sentence, said that given the inhumanity of the act, it was required to impose upon the convict substantive and stern sentence that would commensurate with the gravity of the offence and also serve as an example to others.It is to be noted that since both the victim and the accused were blind, the court had relied upon ?voice identification? that helped the woman to identify Kapoor, a resident of Mayur Vihar in Delhi.On the pretext of meeting an advocate, Kapoor had taken the victim on May 30, 2015, to a guest house in Gurgaon and raped her there for the first time. He later continued to abuse her, promising marriage.The victim, who has an eight-year-old daughter, worked in a private company in 2015, when the incident happened. She is currently unemployed.Public prosecutor Arvind Sharma said that the convict tried to seek leniency from the court on account of his blindness.?The accused also argued that he is a government servant and highly qualified, but all these arguments were rejected by the court, which awarded him 10 years of imprisonment,? said Sharma, adding that the court has imposed a penalty of Rs 10,000, out of which Rs 8,000 would go to the victim. The remaining Rs 2000 would go to the state. If the accused fail to pay the fine, he will face one more year of imprisonment.The judge, in her order, also stated that undue sympathy to impose inadequate sentence to the accused would do more harm as it will undermine the public confidence.?Keeping in view the offence committed by the convict, I am not inclined to take a lenient view against him and release him on probation. He has raped a young woman who was helpless, defenceless, vulnerable and an easy prey who trusted the convict so much that she surrendered herself to him. He used, violated and exploited her body,? the court said.District attorney Lal Singh Yadav said the court has given a strong message to the society. ?The convict had sexually exploited the victim on the pretext of marriage,? he said.\n",
      "\n",
      "\n",
      "Summarized text:\n",
      "\n",
      "She is currently unemployed.Public prosecutor Arvind Sharma said that the convict tried to seek leniency from the court on account of his blindness. He used, violated and exploited her body,? the court said.District attorney Lal Singh Yadav said the court has given a strong message to the society. He has raped a young woman who was helpless, defenceless, vulnerable and an easy prey who trusted the convict so much that she surrendered herself to him.\n",
      "\n",
      "Original Text:\n",
      "\n",
      "Bengaluru, Jul 20 (PTI) A musician played the guitar on the operation table as he underwent a surgery at a private hospital here for a rare movement disorder affecting guitarists. The successful brain circuit surgery, believed to be the first such operation in the country, was performed on July 11 by a team of doctors from Bhagawan Mahaveer Jain Hospital on 37-year-old Abishek Prasad, who has a passion for the guitar, to rid him of the neurological disorder guitarist dystonia that had crippled his fingers. During the entire surgery, the patient was fully awake and was playing the guitar as the problem only occurred when he tried playing guitar. So the feedback from the patient was important to get the exact location of the target, doctors told reporters here today. Expressing joy over the successful procedure, Prasad, a native of Bihar, said even the doctor did not expect 100 per cent result. \"It was a great feeling for both me and the doctor. It was 100 per cent result on the operation table itself. Im very excited, finally now I can live my dream, can play my guitar again after one month of recovery... \"Now my fingers are completely listening to me, earlier my fingers were erect and changing from one chord to other was difficult,\" he added. Prasad had developed the problem with his left hand fingers resulting in difficulty to move his little finger, and the trouble grew gradually into disability because of which he had to abandon playing guitar. After consulting various specialists, Prasad was referred to the doctors at the BMJ hospital here. Calling it a rare disorder, neurologist Dr Sanjiv C C who specialises in movement disorders, said it occurs to one per cent among professional musicians. \"If the medical management that included Botulinum toxin and drugs fails, then surgery is the next option,\" he said. \n",
      "\n",
      "\n",
      "Summarized text:\n",
      "\n",
      "Bengaluru, Jul 20 (PTI) A musician played the guitar on the operation table as he underwent a surgery at a private hospital here for a rare movement disorder affecting guitarists. \"It was a great feeling for both me and the doctor. Expressing joy over the successful procedure, Prasad, a native of Bihar, said even the doctor did not expect 100 per cent result. After consulting various specialists, Prasad was referred to the doctors at the BMJ hospital here.\n",
      "\n"
     ]
    }
   ],
   "source": [
    "for i in range(test.shape[0]):\n",
    "    print(\"Original Text:\\n\")\n",
    "    print(test_articles[i])\n",
    "    print('\\n\\nSummarized text:\\n')\n",
    "    print(test_summary[i])\n",
    "    print()"
   ]
  }
 ],
 "metadata": {
  "kernelspec": {
   "display_name": "Python 3",
   "language": "python",
   "name": "python3"
  },
  "language_info": {
   "codemirror_mode": {
    "name": "ipython",
    "version": 3
   },
   "file_extension": ".py",
   "mimetype": "text/x-python",
   "name": "python",
   "nbconvert_exporter": "python",
   "pygments_lexer": "ipython3",
   "version": "3.9.10"
  }
 },
 "nbformat": 4,
 "nbformat_minor": 4
}
